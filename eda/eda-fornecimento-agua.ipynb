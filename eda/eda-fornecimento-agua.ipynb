{
 "cells": [
  {
   "cell_type": "markdown",
   "metadata": {
    "colab_type": "text",
    "id": "view-in-github"
   },
   "source": [
    "<a href=\"https://colab.research.google.com/github/fsilvino/INE5644-data-mining-projeto-final/blob/master/eda/eda.ipynb\" target=\"_parent\"><img src=\"https://colab.research.google.com/assets/colab-badge.svg\" alt=\"Open In Colab\"/></a>"
   ]
  },
  {
   "cell_type": "code",
   "execution_count": null,
   "metadata": {},
   "outputs": [],
   "source": [
    "# Análise exploratória de dados e preparação de dados por Flávio Silvino\n",
    "import pandas as pd\n",
    "import numpy as np\n",
    "import math"
   ]
  },
  {
   "cell_type": "code",
   "execution_count": null,
   "metadata": {},
   "outputs": [],
   "source": [
    "# Inicialmente o carregamento havia sido feito mais simples:\n",
    "# Depois fui incrementando com as descobertas feitas durante a exploração\n",
    "df = pd.read_csv('../datasets/quantidade_moradores_rede_geral_distribuicao_municipio2.csv', delimiter=';')"
   ]
  },
  {
   "cell_type": "code",
   "execution_count": null,
   "metadata": {},
   "outputs": [],
   "source": [
    "# número de linhas e colunas\n",
    "df.shape"
   ]
  },
  {
   "cell_type": "code",
   "execution_count": null,
   "metadata": {},
   "outputs": [],
   "source": [
    "df.head()"
   ]
  },
  {
   "cell_type": "code",
   "execution_count": null,
   "metadata": {},
   "outputs": [],
   "source": [
    "qtd = df.shape[0] / 31\n",
    "linhas = []\n",
    "for i in range(0, (int) (qtd)):\n",
    "    linhas.append(i * 31)\n",
    "\n",
    "dfMun = df.iloc[linhas,:]"
   ]
  },
  {
   "cell_type": "code",
   "execution_count": null,
   "metadata": {},
   "outputs": [],
   "source": [
    "dfMun['TOTAL_MORADORES'] = dfMun['TOTAL_MORADORES'].astype(np.int64)\n",
    "dfMun['MORADORES_REDE_GERAL_DIST'] = dfMun['MORADORES_REDE_GERAL_DIST'].astype(np.int64)\n",
    "dfMun['ibgeID'] = dfMun['ibgeID'].astype(np.int64)\n",
    "dfMun['ibgeID'] = dfMun['ibgeID'] // 10"
   ]
  },
  {
   "cell_type": "code",
   "execution_count": null,
   "metadata": {},
   "outputs": [],
   "source": [
    "dfMun['PERC_MORADORES_AGUA_TRATADA'] = dfMun['MORADORES_REDE_GERAL_DIST'] / dfMun['TOTAL_MORADORES']\n",
    "dfMun"
   ]
  },
  {
   "cell_type": "code",
   "execution_count": null,
   "metadata": {},
   "outputs": [],
   "source": [
    "dfMun[['PERC_MORADORES_AGUA_TRATADA']].plot.hist()"
   ]
  },
  {
   "cell_type": "code",
   "execution_count": null,
   "metadata": {},
   "outputs": [],
   "source": [
    "dataset = pd.read_csv(\"../datasets/dados_normalizados_modelo-test-float.csv\",\n",
    "                      converters={'totalCases_per_100k_inhabitants': lambda x: pd.to_numeric(x, errors='coerce')},\n",
    "                     )\n",
    "dataset.head()"
   ]
  },
  {
   "cell_type": "code",
   "execution_count": null,
   "metadata": {},
   "outputs": [],
   "source": [
    "dataset_agua = dataset.merge(dfMun[['ibgeID', 'PERC_MORADORES_AGUA_TRATADA']], how='inner', on = 'ibgeID')\n",
    "dataset_agua"
   ]
  },
  {
   "cell_type": "code",
   "execution_count": null,
   "metadata": {},
   "outputs": [],
   "source": [
    "dataset_agua.to_csv('../datasets/dados_normalizados_modelo_agua_tratada.csv', index=False,float_format='%.3f')"
   ]
  }
 ],
 "metadata": {
  "colab": {
   "authorship_tag": "ABX9TyNd/3h8I7kqNaAhNmli6XE2",
   "include_colab_link": true,
   "name": "eda.ipynb",
   "provenance": []
  },
  "kernelspec": {
   "display_name": "Python 3",
   "language": "python",
   "name": "python3"
  },
  "language_info": {
   "codemirror_mode": {
    "name": "ipython",
    "version": 3
   },
   "file_extension": ".py",
   "mimetype": "text/x-python",
   "name": "python",
   "nbconvert_exporter": "python",
   "pygments_lexer": "ipython3",
   "version": "3.7.5"
  }
 },
 "nbformat": 4,
 "nbformat_minor": 4
}
