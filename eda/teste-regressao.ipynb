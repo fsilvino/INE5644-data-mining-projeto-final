{
 "cells": [
  {
   "cell_type": "code",
   "execution_count": null,
   "metadata": {},
   "outputs": [],
   "source": [
    "import pandas as pd\n",
    "import numpy as np\n",
    "import matplotlib.pyplot as plt\n",
    "%matplotlib inline\n",
    "\n",
    "pd.set_option('display.max_rows', None)\n",
    "pd.set_option('display.max_columns', None)"
   ]
  },
  {
   "cell_type": "code",
   "execution_count": null,
   "metadata": {},
   "outputs": [],
   "source": [
    "# Read dataset to pandas dataframe\n",
    "dataset = pd.read_csv(\"../datasets/dados_normalizados_modelo-test-float.csv\",\n",
    "                      converters={'totalCases_per_100k_inhabitants': lambda x: pd.to_numeric(x, errors='coerce')},\n",
    "                     )\n",
    "\n",
    "dataset.head(150)"
   ]
  },
  {
   "cell_type": "code",
   "execution_count": null,
   "metadata": {},
   "outputs": [],
   "source": [
    "dataset.describe()"
   ]
  },
  {
   "cell_type": "code",
   "execution_count": null,
   "metadata": {},
   "outputs": [],
   "source": [
    "X = dataset.drop(['totalCases_per_100k_inhabitants', \n",
    "                  'city', \n",
    "                  'ibgeID', \n",
    "                  'População alfabetizada', \n",
    "                  'População não alfabetizada', \n",
    "                  'zona ignorada porcentagem agrupado', \n",
    "                  'sexo fiminino porcentagem agrupado', \n",
    "                  'raca preta porcentagem agrupado',\n",
    "                  'raca amarela porcentagem agrupado',\n",
    "                  'raca parda porcentagem agrupado',\n",
    "                  'raca indigena porcentagem agrupado',\n",
    "                  'raca ignorada porcentagem agrupado',\n",
    "                  'sem escolaridade porcentagem agrupado',\n",
    "                  'escolaridade fundamental 1 porcentagem agrupado',\n",
    "                  'escolaridade fundamental 2 porcentagem agrupado',\n",
    "                  'escolaridade nao aplicado porcentagem agrupado',\n",
    "                  'paciente com down porcentagem agrupado',\n",
    "                  'paciente sem down porcentagem agrupado',\n",
    "                  'zona urbana porcentagem agrupado',\n",
    "                  'zona rural porcentagem agrupado',\n",
    "                  'zona periurbana porcentagem agrupado',\n",
    "                  'escolaridade medio porcentagem agrupado',\n",
    "                  'tosse nao porcentagem agrupado',\n",
    "                  'contato nao ave/suino porcentagem agrupado',\n",
    "                  'vacinado gripe nao porcentagem agrupado',\n",
    "                  'escolaridade ignorado porcentagem agrupado',\n",
    "                  'idade media agrupado',\n",
    "                  'escolaridade superior porcentagem agrupado',\n",
    "                  'historico viagem 14 dias nao porcentagem agrupado',\n",
    "                  'sexo masculino porcentagem agrupado',\n",
    "                  'raca branca porcentagem agrupado',\n",
    "                  'contato sim ave/suino porcentagem agrupado'\n",
    "                 ],axis=1)"
   ]
  },
  {
   "cell_type": "code",
   "execution_count": null,
   "metadata": {},
   "outputs": [],
   "source": [
    "y = dataset['totalCases_per_100k_inhabitants']"
   ]
  },
  {
   "cell_type": "code",
   "execution_count": null,
   "metadata": {},
   "outputs": [],
   "source": [
    "X.head(15)"
   ]
  },
  {
   "cell_type": "code",
   "execution_count": null,
   "metadata": {
    "scrolled": true
   },
   "outputs": [],
   "source": [
    "dataset.plot(x='idade media agrupado', y='totalCases_per_100k_inhabitants', style='o')\n",
    "plt.title('idade media agrupado vs totalCases_per_100k_inhabitants')\n",
    "plt.xlabel('idade media agrupado')\n",
    "plt.ylabel('totalCases_per_100k_inhabitants')\n",
    "plt.show()"
   ]
  },
  {
   "cell_type": "code",
   "execution_count": null,
   "metadata": {},
   "outputs": [],
   "source": [
    "dataset.plot(x='vacinado gripe sim porcentagem agrupado', y='totalCases_per_100k_inhabitants', style='o')\n",
    "plt.title('vacinado gripe sim porcentagem agrupado vs totalCases_per_100k_inhabitants')\n",
    "plt.xlabel('vacinado gripe sim porcentagem agrupado')\n",
    "plt.ylabel('totalCases_per_100k_inhabitants')\n",
    "plt.show()"
   ]
  },
  {
   "cell_type": "code",
   "execution_count": null,
   "metadata": {},
   "outputs": [],
   "source": [
    "#divide em treino e teste\n",
    "from sklearn.model_selection import train_test_split\n",
    "X_train, X_test, y_train, y_test = train_test_split(X, y, test_size=0.3, random_state=0)"
   ]
  },
  {
   "cell_type": "code",
   "execution_count": null,
   "metadata": {},
   "outputs": [],
   "source": [
    "from sklearn.linear_model import LinearRegression\n",
    "model = LinearRegression()\n",
    "model.fit(X_train, y_train)"
   ]
  },
  {
   "cell_type": "code",
   "execution_count": null,
   "metadata": {},
   "outputs": [],
   "source": [
    "##ver coeficientes de correlação - lembrando que y = wx - e estamos vendo w\n",
    "coeff_df = pd.DataFrame(model.coef_, X.columns, columns=['Coefficient'])\n",
    "coeff_df"
   ]
  },
  {
   "cell_type": "code",
   "execution_count": null,
   "metadata": {},
   "outputs": [],
   "source": [
    "#realiza predições\n",
    "y_pred = model.predict(X_test)\n",
    "#mostra predições x valores reais\n",
    "df = pd.DataFrame({'Actual': y_test, 'Predicted': y_pred})\n",
    "df"
   ]
  },
  {
   "cell_type": "code",
   "execution_count": null,
   "metadata": {},
   "outputs": [],
   "source": [
    "#verifica diferentes métricas de avaliação\n",
    "from sklearn import metrics\n",
    "print('Mean Absolute Error:', metrics.mean_absolute_error(y_test, y_pred))\n",
    "print('Mean Squared Error:', metrics.mean_squared_error(y_test, y_pred))\n",
    "print('Root Mean Squared Error:', np.sqrt(metrics.mean_squared_error(y_test, y_pred)))\n",
    "print('Determination Coefficient (R^2)', metrics.r2_score(y_test, y_pred))"
   ]
  },
  {
   "cell_type": "code",
   "execution_count": null,
   "metadata": {},
   "outputs": [],
   "source": []
  }
 ],
 "metadata": {
  "kernelspec": {
   "display_name": "Python 3",
   "language": "python",
   "name": "python3"
  },
  "language_info": {
   "codemirror_mode": {
    "name": "ipython",
    "version": 3
   },
   "file_extension": ".py",
   "mimetype": "text/x-python",
   "name": "python",
   "nbconvert_exporter": "python",
   "pygments_lexer": "ipython3",
   "version": "3.7.5"
  }
 },
 "nbformat": 4,
 "nbformat_minor": 4
}
