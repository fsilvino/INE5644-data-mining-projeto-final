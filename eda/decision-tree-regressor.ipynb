{
 "cells": [
  {
   "cell_type": "code",
   "execution_count": null,
   "metadata": {},
   "outputs": [],
   "source": [
    "import numpy as np\n",
    "from sklearn.svm import SVR\n",
    "import matplotlib.pyplot as plt\n",
    "import pandas as pd\n",
    "import math"
   ]
  },
  {
   "cell_type": "code",
   "execution_count": null,
   "metadata": {},
   "outputs": [],
   "source": [
    "df = pd.read_csv('../datasets/dados_normalizados_modelo-test-float.csv', delimiter=',', \n",
    "                 names=['CIDADE', 'COD_IBGE', 'CASOS_100k_H', 'POP_ALFAB', 'POP_NAO_ALFAB', 'MEDIA_INFRA',\n",
    "                        'PER_SEXO_F', 'PER_SEXO_M', 'IDADE_MEDIA', 'PER_RACA_BRANCA', 'PERC_RACA_PRETA',\n",
    "                        'PERC_RACA_AMARELA', 'PERC_RACA_PARDA', 'PERC_RACA_INDIGENA', 'PERC_RACA_IGNORADA',\n",
    "                        'PERC_SEM_ESCOLARIDADE', 'PERC_ESCOL_FUND_1', 'PERC_ESCOL_FUND_2', 'PERC_ESCOL_MEDIO',\n",
    "                        'PERC_ESCOL_SUPERIOR', 'PERC_ESCOL_NAO_APLIC', 'PERC_ESCOL_IGNORADO', 'PERC_ZONA_URBANA',\n",
    "                        'PERC_ZONA_RURAL', 'PERC_ZONA_PERIURBANA', 'PERC_CONTATO_AVE_SUINO_SIM',\n",
    "                        'PERC_CONTATO_AVE_SUINO_NAO', 'PERC_TOSSE_SIM', 'PERC_TOSSE_NAO', 'PERC_DOWN_SIM', 'PERC_DOWN_NAO',\n",
    "                        'PERC_VACINADO_GRIPE_SIM', 'PERC_VACINADO_GRIPE_NAO', 'PERC_HIST_VIAGEM_SIM', 'PERC_HIST_VIAGEM_NAO',\n",
    "                        'PERC_ZONA_IGNORADA'\n",
    "                       ], skiprows=1)"
   ]
  },
  {
   "cell_type": "code",
   "execution_count": null,
   "metadata": {},
   "outputs": [],
   "source": [
    "df.describe()"
   ]
  },
  {
   "cell_type": "code",
   "execution_count": null,
   "metadata": {},
   "outputs": [],
   "source": [
    "df.shape"
   ]
  },
  {
   "cell_type": "code",
   "execution_count": null,
   "metadata": {},
   "outputs": [],
   "source": [
    "from sklearn.preprocessing import StandardScaler\n",
    "\n",
    "X = df[['POP_ALFAB', 'POP_NAO_ALFAB', 'MEDIA_INFRA',\n",
    "        'PER_SEXO_F', 'PER_SEXO_M', 'IDADE_MEDIA', 'PER_RACA_BRANCA', 'PERC_RACA_PRETA',\n",
    "        'PERC_RACA_AMARELA', 'PERC_RACA_PARDA', 'PERC_RACA_INDIGENA', 'PERC_RACA_IGNORADA',\n",
    "        'PERC_SEM_ESCOLARIDADE', 'PERC_ESCOL_FUND_1', 'PERC_ESCOL_FUND_2', 'PERC_ESCOL_MEDIO',\n",
    "        'PERC_ESCOL_SUPERIOR', 'PERC_ESCOL_NAO_APLIC', 'PERC_ESCOL_IGNORADO', 'PERC_ZONA_URBANA',\n",
    "        'PERC_ZONA_RURAL', 'PERC_ZONA_PERIURBANA', 'PERC_CONTATO_AVE_SUINO_SIM',\n",
    "        'PERC_CONTATO_AVE_SUINO_NAO', 'PERC_TOSSE_SIM', 'PERC_TOSSE_NAO', 'PERC_DOWN_SIM', 'PERC_DOWN_NAO',\n",
    "        'PERC_VACINADO_GRIPE_SIM', 'PERC_VACINADO_GRIPE_NAO', 'PERC_HIST_VIAGEM_SIM', 'PERC_HIST_VIAGEM_NAO',\n",
    "        'PERC_ZONA_IGNORADA']]\n",
    "# prepara a função para transformar os dados\n",
    "scaler = StandardScaler().fit(X)\n",
    "# realiza a padronização (média=0, variância = 1)\n",
    "rescaledX = scaler.transform(X)\n",
    "\n",
    "df_scaled = pd.DataFrame(rescaledX, columns = X.columns)"
   ]
  },
  {
   "cell_type": "code",
   "execution_count": null,
   "metadata": {},
   "outputs": [],
   "source": [
    "df_scaled.head(5)"
   ]
  },
  {
   "cell_type": "code",
   "execution_count": null,
   "metadata": {},
   "outputs": [],
   "source": [
    "df = df[['CIDADE', 'COD_IBGE']].join(df_scaled)"
   ]
  },
  {
   "cell_type": "code",
   "execution_count": null,
   "metadata": {},
   "outputs": [],
   "source": [
    "df.boxplot(column=['CASOS_100k_H', 'POP_ALFAB', 'POP_NAO_ALFAB', 'MEDIA_INFRA',\n",
    "                        'PER_SEXO_F', 'PER_SEXO_M', 'IDADE_MEDIA', 'PER_RACA_BRANCA', 'PERC_RACA_PRETA',\n",
    "                        'PERC_RACA_AMARELA', 'PERC_RACA_PARDA', 'PERC_RACA_INDIGENA', 'PERC_RACA_IGNORADA',\n",
    "                        'PERC_SEM_ESCOLARIDADE', 'PERC_ESCOL_FUND_1', 'PERC_ESCOL_FUND_2', 'PERC_ESCOL_MEDIO',\n",
    "                        'PERC_ESCOL_SUPERIOR', 'PERC_ESCOL_NAO_APLIC', 'PERC_ESCOL_IGNORADO', 'PERC_ZONA_URBANA',\n",
    "                        'PERC_ZONA_RURAL', 'PERC_ZONA_PERIURBANA', 'PERC_CONTATO_AVE_SUINO_SIM',\n",
    "                        'PERC_CONTATO_AVE_SUINO_NAO', 'PERC_TOSSE_SIM', 'PERC_TOSSE_NAO', 'PERC_DOWN_SIM', 'PERC_DOWN_NAO',\n",
    "                        'PERC_VACINADO_GRIPE_SIM', 'PERC_VACINADO_GRIPE_NAO', 'PERC_HIST_VIAGEM_SIM', 'PERC_HIST_VIAGEM_NAO',\n",
    "                        'PERC_ZONA_IGNORADA'])"
   ]
  },
  {
   "cell_type": "code",
   "execution_count": null,
   "metadata": {},
   "outputs": [],
   "source": [
    "X = df[['CASOS_100k_H', 'POP_ALFAB', 'POP_NAO_ALFAB', 'MEDIA_INFRA',\n",
    "                        'PER_SEXO_F', 'PER_SEXO_M', 'IDADE_MEDIA', 'PER_RACA_BRANCA', 'PERC_RACA_PRETA',\n",
    "                        'PERC_RACA_AMARELA', 'PERC_RACA_PARDA', 'PERC_RACA_INDIGENA', 'PERC_RACA_IGNORADA',\n",
    "                        'PERC_SEM_ESCOLARIDADE', 'PERC_ESCOL_FUND_1', 'PERC_ESCOL_FUND_2', 'PERC_ESCOL_MEDIO',\n",
    "                        'PERC_ESCOL_SUPERIOR', 'PERC_ESCOL_NAO_APLIC', 'PERC_ESCOL_IGNORADO', 'PERC_ZONA_URBANA',\n",
    "                        'PERC_ZONA_RURAL', 'PERC_ZONA_PERIURBANA', 'PERC_CONTATO_AVE_SUINO_SIM',\n",
    "                        'PERC_CONTATO_AVE_SUINO_NAO', 'PERC_TOSSE_SIM', 'PERC_TOSSE_NAO', 'PERC_DOWN_SIM', 'PERC_DOWN_NAO',\n",
    "                        'PERC_VACINADO_GRIPE_SIM', 'PERC_VACINADO_GRIPE_NAO', 'PERC_HIST_VIAGEM_SIM', 'PERC_HIST_VIAGEM_NAO',\n",
    "                        'PERC_ZONA_IGNORADA']].iloc[:]\n",
    "y = df['CASOS_100k_H']"
   ]
  },
  {
   "cell_type": "code",
   "execution_count": null,
   "metadata": {},
   "outputs": [],
   "source": [
    "from sklearn.model_selection import train_test_split\n",
    "X_train, X_test, y_train, y_test = train_test_split(X, y, test_size=0.3, random_state=0)"
   ]
  },
  {
   "cell_type": "code",
   "execution_count": null,
   "metadata": {},
   "outputs": [],
   "source": [
    "from sklearn.tree import DecisionTreeRegressor"
   ]
  },
  {
   "cell_type": "code",
   "execution_count": null,
   "metadata": {},
   "outputs": [],
   "source": [
    "X_train.shape"
   ]
  },
  {
   "cell_type": "code",
   "execution_count": null,
   "metadata": {},
   "outputs": [],
   "source": [
    "X_test.shape"
   ]
  },
  {
   "cell_type": "code",
   "execution_count": null,
   "metadata": {},
   "outputs": [],
   "source": [
    "regressor = DecisionTreeRegressor(random_state=0)"
   ]
  },
  {
   "cell_type": "code",
   "execution_count": null,
   "metadata": {},
   "outputs": [],
   "source": [
    "model_tree = regressor.fit(X_train, y_train)"
   ]
  },
  {
   "cell_type": "code",
   "execution_count": null,
   "metadata": {},
   "outputs": [],
   "source": [
    "def predict(model, X_test, y_test):\n",
    "    y_pred = model.predict(X_test)\n",
    "    #mostra predições x valores reais\n",
    "    return (y_pred, pd.DataFrame({'Actual': y_test, 'Predicted': y_pred}))"
   ]
  },
  {
   "cell_type": "code",
   "execution_count": null,
   "metadata": {},
   "outputs": [],
   "source": [
    "y_pred_tree, df_tree = predict(model_tree, X_test, y_test)\n",
    "df_tree.head(5)"
   ]
  },
  {
   "cell_type": "code",
   "execution_count": null,
   "metadata": {},
   "outputs": [],
   "source": [
    "#verifica diferentes métricas de avaliação\n",
    "from sklearn import metrics\n",
    "\n",
    "def showMetrics(y_test, y_pred):\n",
    "    print('Mean Absolute Error:', metrics.mean_absolute_error(y_test, y_pred))\n",
    "    print('Mean Squared Error:', metrics.mean_squared_error(y_test, y_pred))\n",
    "    print('Root Mean Squared Error:', np.sqrt(metrics.mean_squared_error(y_test, y_pred)))\n",
    "    print('Determination Coefficient (R^2)', metrics.r2_score(y_test, y_pred))"
   ]
  },
  {
   "cell_type": "code",
   "execution_count": null,
   "metadata": {},
   "outputs": [],
   "source": [
    "showMetrics(y_test, y_pred_tree)"
   ]
  },
  {
   "cell_type": "code",
   "execution_count": null,
   "metadata": {},
   "outputs": [],
   "source": [
    "from sklearn.model_selection import cross_val_score\n",
    "\n",
    "cv_4_results = cross_val_score(regressor, X, y, cv=4, scoring=\"neg_median_absolute_error\")\n",
    "print(cv_4_results)\n",
    "print(cv_4_results.mean())"
   ]
  }
 ],
 "metadata": {
  "kernelspec": {
   "display_name": "Python 3",
   "language": "python",
   "name": "python3"
  },
  "language_info": {
   "codemirror_mode": {
    "name": "ipython",
    "version": 3
   },
   "file_extension": ".py",
   "mimetype": "text/x-python",
   "name": "python",
   "nbconvert_exporter": "python",
   "pygments_lexer": "ipython3",
   "version": "3.7.5"
  }
 },
 "nbformat": 4,
 "nbformat_minor": 4
}
