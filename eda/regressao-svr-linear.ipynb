{
 "cells": [
  {
   "cell_type": "code",
   "execution_count": 1,
   "metadata": {},
   "outputs": [],
   "source": [
    "import numpy as np\n",
    "from sklearn.svm import SVR\n",
    "import matplotlib.pyplot as plt\n",
    "import pandas as pd\n",
    "import math"
   ]
  },
  {
   "cell_type": "code",
   "execution_count": 2,
   "metadata": {},
   "outputs": [],
   "source": [
    "df = pd.read_csv('dados_normalizados_modelo-test-float.csv', delimiter=',', \n",
    "                 names=['CIDADE', 'COD_IBGE', 'CASOS_100k_H', 'POP_ALFAB', 'POP_NAO_ALFAB', 'MEDIA_INFRA',\n",
    "                        'PER_SEXO_F', 'PER_SEXO_M', 'IDADE_MEDIA', 'PER_RACA_BRANCA', 'PERC_RACA_PRETA',\n",
    "                        'PERC_RACA_AMARELA', 'PERC_RACA_PARDA', 'PERC_RACA_INDIGENA', 'PERC_RACA_IGNORADA',\n",
    "                        'PERC_SEM_ESCOLARIDADE', 'PERC_ESCOL_FUND_1', 'PERC_ESCOL_FUND_2', 'PERC_ESCOL_MEDIO',\n",
    "                        'PERC_ESCOL_SUPERIOR', 'PERC_ESCOL_NAO_APLIC', 'PERC_ESCOL_IGNORADO', 'PERC_ZONA_URBANA',\n",
    "                        'PERC_ZONA_RURAL', 'PERC_ZONA_PERIURBANA', 'PERC_CONTATO_AVE_SUINO_SIM',\n",
    "                        'PERC_CONTATO_AVE_SUINO_NAO', 'PERC_TOSSE_SIM', 'PERC_TOSSE_NAO', 'PERC_DOWN_SIM', 'PERC_DOWN_NAO',\n",
    "                        'PERC_VACINADO_GRIPE_SIM', 'PERC_VACINADO_GRIPE_NAO', 'PERC_HIST_VIAGEM_SIM', 'PERC_HIST_VIAGEM_NAO',\n",
    "                        'PERC_ZONA_IGNORADA'\n",
    "                       ], skiprows=1)"
   ]
  },
  {
   "cell_type": "code",
   "execution_count": 3,
   "metadata": {},
   "outputs": [
    {
     "data": {
      "text/html": [
       "<div>\n",
       "<style scoped>\n",
       "    .dataframe tbody tr th:only-of-type {\n",
       "        vertical-align: middle;\n",
       "    }\n",
       "\n",
       "    .dataframe tbody tr th {\n",
       "        vertical-align: top;\n",
       "    }\n",
       "\n",
       "    .dataframe thead th {\n",
       "        text-align: right;\n",
       "    }\n",
       "</style>\n",
       "<table border=\"1\" class=\"dataframe\">\n",
       "  <thead>\n",
       "    <tr style=\"text-align: right;\">\n",
       "      <th></th>\n",
       "      <th>COD_IBGE</th>\n",
       "      <th>CASOS_100k_H</th>\n",
       "      <th>POP_ALFAB</th>\n",
       "      <th>POP_NAO_ALFAB</th>\n",
       "      <th>MEDIA_INFRA</th>\n",
       "      <th>PER_SEXO_F</th>\n",
       "      <th>PER_SEXO_M</th>\n",
       "      <th>IDADE_MEDIA</th>\n",
       "      <th>PER_RACA_BRANCA</th>\n",
       "      <th>PERC_RACA_PRETA</th>\n",
       "      <th>...</th>\n",
       "      <th>PERC_CONTATO_AVE_SUINO_NAO</th>\n",
       "      <th>PERC_TOSSE_SIM</th>\n",
       "      <th>PERC_TOSSE_NAO</th>\n",
       "      <th>PERC_DOWN_SIM</th>\n",
       "      <th>PERC_DOWN_NAO</th>\n",
       "      <th>PERC_VACINADO_GRIPE_SIM</th>\n",
       "      <th>PERC_VACINADO_GRIPE_NAO</th>\n",
       "      <th>PERC_HIST_VIAGEM_SIM</th>\n",
       "      <th>PERC_HIST_VIAGEM_NAO</th>\n",
       "      <th>PERC_ZONA_IGNORADA</th>\n",
       "    </tr>\n",
       "  </thead>\n",
       "  <tbody>\n",
       "    <tr>\n",
       "      <th>count</th>\n",
       "      <td>116.000000</td>\n",
       "      <td>116.000000</td>\n",
       "      <td>116.000000</td>\n",
       "      <td>116.000000</td>\n",
       "      <td>116.000000</td>\n",
       "      <td>116.000000</td>\n",
       "      <td>116.000000</td>\n",
       "      <td>116.000000</td>\n",
       "      <td>116.000000</td>\n",
       "      <td>116.000000</td>\n",
       "      <td>...</td>\n",
       "      <td>116.000000</td>\n",
       "      <td>116.000000</td>\n",
       "      <td>116.000000</td>\n",
       "      <td>116.000000</td>\n",
       "      <td>116.000000</td>\n",
       "      <td>116.000000</td>\n",
       "      <td>116.000000</td>\n",
       "      <td>116.000000</td>\n",
       "      <td>116.000000</td>\n",
       "      <td>116.0</td>\n",
       "    </tr>\n",
       "    <tr>\n",
       "      <th>mean</th>\n",
       "      <td>421018.922414</td>\n",
       "      <td>3182.971491</td>\n",
       "      <td>32629.017241</td>\n",
       "      <td>1183.250000</td>\n",
       "      <td>57.827026</td>\n",
       "      <td>14.689216</td>\n",
       "      <td>25.306121</td>\n",
       "      <td>60.872069</td>\n",
       "      <td>36.365931</td>\n",
       "      <td>1.349086</td>\n",
       "      <td>...</td>\n",
       "      <td>38.500793</td>\n",
       "      <td>29.865233</td>\n",
       "      <td>10.134767</td>\n",
       "      <td>0.410414</td>\n",
       "      <td>39.589586</td>\n",
       "      <td>12.867552</td>\n",
       "      <td>27.132448</td>\n",
       "      <td>0.197690</td>\n",
       "      <td>39.802310</td>\n",
       "      <td>0.0</td>\n",
       "    </tr>\n",
       "    <tr>\n",
       "      <th>std</th>\n",
       "      <td>571.839445</td>\n",
       "      <td>1704.204551</td>\n",
       "      <td>57622.875710</td>\n",
       "      <td>1398.018628</td>\n",
       "      <td>8.274406</td>\n",
       "      <td>10.141466</td>\n",
       "      <td>10.143803</td>\n",
       "      <td>11.597165</td>\n",
       "      <td>7.416731</td>\n",
       "      <td>4.663117</td>\n",
       "      <td>...</td>\n",
       "      <td>5.035044</td>\n",
       "      <td>10.486357</td>\n",
       "      <td>10.486357</td>\n",
       "      <td>3.714227</td>\n",
       "      <td>3.714227</td>\n",
       "      <td>13.490980</td>\n",
       "      <td>13.490980</td>\n",
       "      <td>1.018479</td>\n",
       "      <td>1.018479</td>\n",
       "      <td>0.0</td>\n",
       "    </tr>\n",
       "    <tr>\n",
       "      <th>min</th>\n",
       "      <td>420010.000000</td>\n",
       "      <td>531.491000</td>\n",
       "      <td>1539.000000</td>\n",
       "      <td>47.000000</td>\n",
       "      <td>28.343000</td>\n",
       "      <td>0.000000</td>\n",
       "      <td>0.000000</td>\n",
       "      <td>27.500000</td>\n",
       "      <td>0.000000</td>\n",
       "      <td>0.000000</td>\n",
       "      <td>...</td>\n",
       "      <td>0.000000</td>\n",
       "      <td>0.000000</td>\n",
       "      <td>0.000000</td>\n",
       "      <td>0.000000</td>\n",
       "      <td>0.000000</td>\n",
       "      <td>0.000000</td>\n",
       "      <td>0.000000</td>\n",
       "      <td>0.000000</td>\n",
       "      <td>32.000000</td>\n",
       "      <td>0.0</td>\n",
       "    </tr>\n",
       "    <tr>\n",
       "      <th>25%</th>\n",
       "      <td>420487.500000</td>\n",
       "      <td>1878.101750</td>\n",
       "      <td>7271.250000</td>\n",
       "      <td>394.250000</td>\n",
       "      <td>53.327750</td>\n",
       "      <td>10.000000</td>\n",
       "      <td>20.000000</td>\n",
       "      <td>55.737750</td>\n",
       "      <td>36.238000</td>\n",
       "      <td>0.000000</td>\n",
       "      <td>...</td>\n",
       "      <td>39.866500</td>\n",
       "      <td>26.201250</td>\n",
       "      <td>0.000000</td>\n",
       "      <td>0.000000</td>\n",
       "      <td>40.000000</td>\n",
       "      <td>1.035250</td>\n",
       "      <td>20.000000</td>\n",
       "      <td>0.000000</td>\n",
       "      <td>40.000000</td>\n",
       "      <td>0.0</td>\n",
       "    </tr>\n",
       "    <tr>\n",
       "      <th>50%</th>\n",
       "      <td>420992.500000</td>\n",
       "      <td>2908.739000</td>\n",
       "      <td>12826.000000</td>\n",
       "      <td>757.500000</td>\n",
       "      <td>58.233500</td>\n",
       "      <td>16.163000</td>\n",
       "      <td>23.837000</td>\n",
       "      <td>59.513000</td>\n",
       "      <td>38.865000</td>\n",
       "      <td>0.000000</td>\n",
       "      <td>...</td>\n",
       "      <td>40.000000</td>\n",
       "      <td>30.724500</td>\n",
       "      <td>9.275500</td>\n",
       "      <td>0.000000</td>\n",
       "      <td>40.000000</td>\n",
       "      <td>7.957500</td>\n",
       "      <td>32.042500</td>\n",
       "      <td>0.000000</td>\n",
       "      <td>40.000000</td>\n",
       "      <td>0.0</td>\n",
       "    </tr>\n",
       "    <tr>\n",
       "      <th>75%</th>\n",
       "      <td>421555.000000</td>\n",
       "      <td>4100.954000</td>\n",
       "      <td>31241.750000</td>\n",
       "      <td>1396.250000</td>\n",
       "      <td>63.085250</td>\n",
       "      <td>19.605500</td>\n",
       "      <td>30.000000</td>\n",
       "      <td>64.125000</td>\n",
       "      <td>40.000000</td>\n",
       "      <td>0.921500</td>\n",
       "      <td>...</td>\n",
       "      <td>40.000000</td>\n",
       "      <td>40.000000</td>\n",
       "      <td>13.798750</td>\n",
       "      <td>0.000000</td>\n",
       "      <td>40.000000</td>\n",
       "      <td>20.000000</td>\n",
       "      <td>38.964750</td>\n",
       "      <td>0.000000</td>\n",
       "      <td>40.000000</td>\n",
       "      <td>0.0</td>\n",
       "    </tr>\n",
       "    <tr>\n",
       "      <th>max</th>\n",
       "      <td>421970.000000</td>\n",
       "      <td>9303.867000</td>\n",
       "      <td>393047.000000</td>\n",
       "      <td>8831.000000</td>\n",
       "      <td>81.785000</td>\n",
       "      <td>40.000000</td>\n",
       "      <td>40.000000</td>\n",
       "      <td>93.000000</td>\n",
       "      <td>40.000000</td>\n",
       "      <td>40.000000</td>\n",
       "      <td>...</td>\n",
       "      <td>40.000000</td>\n",
       "      <td>40.000000</td>\n",
       "      <td>40.000000</td>\n",
       "      <td>40.000000</td>\n",
       "      <td>40.000000</td>\n",
       "      <td>40.000000</td>\n",
       "      <td>40.000000</td>\n",
       "      <td>8.000000</td>\n",
       "      <td>40.000000</td>\n",
       "      <td>0.0</td>\n",
       "    </tr>\n",
       "  </tbody>\n",
       "</table>\n",
       "<p>8 rows × 35 columns</p>\n",
       "</div>"
      ],
      "text/plain": [
       "            COD_IBGE  CASOS_100k_H      POP_ALFAB  POP_NAO_ALFAB  MEDIA_INFRA  \\\n",
       "count     116.000000    116.000000     116.000000     116.000000   116.000000   \n",
       "mean   421018.922414   3182.971491   32629.017241    1183.250000    57.827026   \n",
       "std       571.839445   1704.204551   57622.875710    1398.018628     8.274406   \n",
       "min    420010.000000    531.491000    1539.000000      47.000000    28.343000   \n",
       "25%    420487.500000   1878.101750    7271.250000     394.250000    53.327750   \n",
       "50%    420992.500000   2908.739000   12826.000000     757.500000    58.233500   \n",
       "75%    421555.000000   4100.954000   31241.750000    1396.250000    63.085250   \n",
       "max    421970.000000   9303.867000  393047.000000    8831.000000    81.785000   \n",
       "\n",
       "       PER_SEXO_F  PER_SEXO_M  IDADE_MEDIA  PER_RACA_BRANCA  PERC_RACA_PRETA  \\\n",
       "count  116.000000  116.000000   116.000000       116.000000       116.000000   \n",
       "mean    14.689216   25.306121    60.872069        36.365931         1.349086   \n",
       "std     10.141466   10.143803    11.597165         7.416731         4.663117   \n",
       "min      0.000000    0.000000    27.500000         0.000000         0.000000   \n",
       "25%     10.000000   20.000000    55.737750        36.238000         0.000000   \n",
       "50%     16.163000   23.837000    59.513000        38.865000         0.000000   \n",
       "75%     19.605500   30.000000    64.125000        40.000000         0.921500   \n",
       "max     40.000000   40.000000    93.000000        40.000000        40.000000   \n",
       "\n",
       "       ...  PERC_CONTATO_AVE_SUINO_NAO  PERC_TOSSE_SIM  PERC_TOSSE_NAO  \\\n",
       "count  ...                  116.000000      116.000000      116.000000   \n",
       "mean   ...                   38.500793       29.865233       10.134767   \n",
       "std    ...                    5.035044       10.486357       10.486357   \n",
       "min    ...                    0.000000        0.000000        0.000000   \n",
       "25%    ...                   39.866500       26.201250        0.000000   \n",
       "50%    ...                   40.000000       30.724500        9.275500   \n",
       "75%    ...                   40.000000       40.000000       13.798750   \n",
       "max    ...                   40.000000       40.000000       40.000000   \n",
       "\n",
       "       PERC_DOWN_SIM  PERC_DOWN_NAO  PERC_VACINADO_GRIPE_SIM  \\\n",
       "count     116.000000     116.000000               116.000000   \n",
       "mean        0.410414      39.589586                12.867552   \n",
       "std         3.714227       3.714227                13.490980   \n",
       "min         0.000000       0.000000                 0.000000   \n",
       "25%         0.000000      40.000000                 1.035250   \n",
       "50%         0.000000      40.000000                 7.957500   \n",
       "75%         0.000000      40.000000                20.000000   \n",
       "max        40.000000      40.000000                40.000000   \n",
       "\n",
       "       PERC_VACINADO_GRIPE_NAO  PERC_HIST_VIAGEM_SIM  PERC_HIST_VIAGEM_NAO  \\\n",
       "count               116.000000            116.000000            116.000000   \n",
       "mean                 27.132448              0.197690             39.802310   \n",
       "std                  13.490980              1.018479              1.018479   \n",
       "min                   0.000000              0.000000             32.000000   \n",
       "25%                  20.000000              0.000000             40.000000   \n",
       "50%                  32.042500              0.000000             40.000000   \n",
       "75%                  38.964750              0.000000             40.000000   \n",
       "max                  40.000000              8.000000             40.000000   \n",
       "\n",
       "       PERC_ZONA_IGNORADA  \n",
       "count               116.0  \n",
       "mean                  0.0  \n",
       "std                   0.0  \n",
       "min                   0.0  \n",
       "25%                   0.0  \n",
       "50%                   0.0  \n",
       "75%                   0.0  \n",
       "max                   0.0  \n",
       "\n",
       "[8 rows x 35 columns]"
      ]
     },
     "execution_count": 3,
     "metadata": {},
     "output_type": "execute_result"
    }
   ],
   "source": [
    "df.describe()"
   ]
  },
  {
   "cell_type": "code",
   "execution_count": 4,
   "metadata": {},
   "outputs": [
    {
     "data": {
      "text/plain": [
       "(116, 36)"
      ]
     },
     "execution_count": 4,
     "metadata": {},
     "output_type": "execute_result"
    }
   ],
   "source": [
    "df.shape"
   ]
  },
  {
   "cell_type": "code",
   "execution_count": 5,
   "metadata": {},
   "outputs": [],
   "source": [
    "from sklearn.preprocessing import StandardScaler\n",
    "\n",
    "X = df[['POP_ALFAB', 'POP_NAO_ALFAB', 'MEDIA_INFRA',\n",
    "        'PER_SEXO_F', 'PER_SEXO_M', 'IDADE_MEDIA', 'PER_RACA_BRANCA', 'PERC_RACA_PRETA',\n",
    "        'PERC_RACA_AMARELA', 'PERC_RACA_PARDA', 'PERC_RACA_INDIGENA', 'PERC_RACA_IGNORADA',\n",
    "        'PERC_SEM_ESCOLARIDADE', 'PERC_ESCOL_FUND_1', 'PERC_ESCOL_FUND_2', 'PERC_ESCOL_MEDIO',\n",
    "        'PERC_ESCOL_SUPERIOR', 'PERC_ESCOL_NAO_APLIC', 'PERC_ESCOL_IGNORADO', 'PERC_ZONA_URBANA',\n",
    "        'PERC_ZONA_RURAL', 'PERC_ZONA_PERIURBANA', 'PERC_CONTATO_AVE_SUINO_SIM',\n",
    "        'PERC_CONTATO_AVE_SUINO_NAO', 'PERC_TOSSE_SIM', 'PERC_TOSSE_NAO', 'PERC_DOWN_SIM', 'PERC_DOWN_NAO',\n",
    "        'PERC_VACINADO_GRIPE_SIM', 'PERC_VACINADO_GRIPE_NAO', 'PERC_HIST_VIAGEM_SIM', 'PERC_HIST_VIAGEM_NAO',\n",
    "        'PERC_ZONA_IGNORADA']]\n",
    "# prepara a função para transformar os dados\n",
    "scaler = StandardScaler().fit(X)\n",
    "# realiza a padronização (média=0, variância = 1)\n",
    "rescaledX = scaler.transform(X)\n",
    "\n",
    "df_scaled = pd.DataFrame(rescaledX, columns = X.columns)"
   ]
  },
  {
   "cell_type": "code",
   "execution_count": 6,
   "metadata": {},
   "outputs": [
    {
     "data": {
      "text/html": [
       "<div>\n",
       "<style scoped>\n",
       "    .dataframe tbody tr th:only-of-type {\n",
       "        vertical-align: middle;\n",
       "    }\n",
       "\n",
       "    .dataframe tbody tr th {\n",
       "        vertical-align: top;\n",
       "    }\n",
       "\n",
       "    .dataframe thead th {\n",
       "        text-align: right;\n",
       "    }\n",
       "</style>\n",
       "<table border=\"1\" class=\"dataframe\">\n",
       "  <thead>\n",
       "    <tr style=\"text-align: right;\">\n",
       "      <th></th>\n",
       "      <th>POP_ALFAB</th>\n",
       "      <th>POP_NAO_ALFAB</th>\n",
       "      <th>MEDIA_INFRA</th>\n",
       "      <th>PER_SEXO_F</th>\n",
       "      <th>PER_SEXO_M</th>\n",
       "      <th>IDADE_MEDIA</th>\n",
       "      <th>PER_RACA_BRANCA</th>\n",
       "      <th>PERC_RACA_PRETA</th>\n",
       "      <th>PERC_RACA_AMARELA</th>\n",
       "      <th>PERC_RACA_PARDA</th>\n",
       "      <th>...</th>\n",
       "      <th>PERC_CONTATO_AVE_SUINO_NAO</th>\n",
       "      <th>PERC_TOSSE_SIM</th>\n",
       "      <th>PERC_TOSSE_NAO</th>\n",
       "      <th>PERC_DOWN_SIM</th>\n",
       "      <th>PERC_DOWN_NAO</th>\n",
       "      <th>PERC_VACINADO_GRIPE_SIM</th>\n",
       "      <th>PERC_VACINADO_GRIPE_NAO</th>\n",
       "      <th>PERC_HIST_VIAGEM_SIM</th>\n",
       "      <th>PERC_HIST_VIAGEM_NAO</th>\n",
       "      <th>PERC_ZONA_IGNORADA</th>\n",
       "    </tr>\n",
       "  </thead>\n",
       "  <tbody>\n",
       "    <tr>\n",
       "      <th>0</th>\n",
       "      <td>-0.379127</td>\n",
       "      <td>0.152840</td>\n",
       "      <td>0.339372</td>\n",
       "      <td>-1.454715</td>\n",
       "      <td>1.454842</td>\n",
       "      <td>-0.508533</td>\n",
       "      <td>0.492108</td>\n",
       "      <td>-0.290565</td>\n",
       "      <td>-0.162491</td>\n",
       "      <td>-0.335302</td>\n",
       "      <td>...</td>\n",
       "      <td>0.299046</td>\n",
       "      <td>-2.860364</td>\n",
       "      <td>2.860364</td>\n",
       "      <td>-0.110977</td>\n",
       "      <td>0.110977</td>\n",
       "      <td>2.019880</td>\n",
       "      <td>-2.019880</td>\n",
       "      <td>-0.194945</td>\n",
       "      <td>0.194945</td>\n",
       "      <td>0.0</td>\n",
       "    </tr>\n",
       "    <tr>\n",
       "      <th>1</th>\n",
       "      <td>-0.449525</td>\n",
       "      <td>-0.557659</td>\n",
       "      <td>-0.435875</td>\n",
       "      <td>-1.454715</td>\n",
       "      <td>1.454842</td>\n",
       "      <td>0.097681</td>\n",
       "      <td>0.492108</td>\n",
       "      <td>-0.290565</td>\n",
       "      <td>-0.162491</td>\n",
       "      <td>-0.335302</td>\n",
       "      <td>...</td>\n",
       "      <td>0.299046</td>\n",
       "      <td>0.970665</td>\n",
       "      <td>-0.970665</td>\n",
       "      <td>-0.110977</td>\n",
       "      <td>0.110977</td>\n",
       "      <td>-0.957927</td>\n",
       "      <td>0.957927</td>\n",
       "      <td>-0.194945</td>\n",
       "      <td>0.194945</td>\n",
       "      <td>0.0</td>\n",
       "    </tr>\n",
       "    <tr>\n",
       "      <th>2</th>\n",
       "      <td>-0.453690</td>\n",
       "      <td>-0.403203</td>\n",
       "      <td>0.563074</td>\n",
       "      <td>0.525942</td>\n",
       "      <td>-0.525359</td>\n",
       "      <td>-1.915817</td>\n",
       "      <td>-0.862044</td>\n",
       "      <td>1.863227</td>\n",
       "      <td>-0.162491</td>\n",
       "      <td>-0.335302</td>\n",
       "      <td>...</td>\n",
       "      <td>0.299046</td>\n",
       "      <td>-0.944850</td>\n",
       "      <td>0.944850</td>\n",
       "      <td>-0.110977</td>\n",
       "      <td>0.110977</td>\n",
       "      <td>0.530976</td>\n",
       "      <td>-0.530976</td>\n",
       "      <td>-0.194945</td>\n",
       "      <td>0.194945</td>\n",
       "      <td>0.0</td>\n",
       "    </tr>\n",
       "    <tr>\n",
       "      <th>3</th>\n",
       "      <td>-0.503417</td>\n",
       "      <td>-0.576337</td>\n",
       "      <td>0.349932</td>\n",
       "      <td>-1.454715</td>\n",
       "      <td>1.454842</td>\n",
       "      <td>-0.075523</td>\n",
       "      <td>0.492108</td>\n",
       "      <td>-0.290565</td>\n",
       "      <td>-0.162491</td>\n",
       "      <td>-0.335302</td>\n",
       "      <td>...</td>\n",
       "      <td>0.299046</td>\n",
       "      <td>0.970665</td>\n",
       "      <td>-0.970665</td>\n",
       "      <td>-0.110977</td>\n",
       "      <td>0.110977</td>\n",
       "      <td>-0.957927</td>\n",
       "      <td>0.957927</td>\n",
       "      <td>-0.194945</td>\n",
       "      <td>0.194945</td>\n",
       "      <td>0.0</td>\n",
       "    </tr>\n",
       "    <tr>\n",
       "      <th>4</th>\n",
       "      <td>-0.447817</td>\n",
       "      <td>-0.574901</td>\n",
       "      <td>0.203549</td>\n",
       "      <td>-1.454715</td>\n",
       "      <td>1.454842</td>\n",
       "      <td>-0.595135</td>\n",
       "      <td>0.492108</td>\n",
       "      <td>-0.290565</td>\n",
       "      <td>-0.162491</td>\n",
       "      <td>-0.335302</td>\n",
       "      <td>...</td>\n",
       "      <td>0.299046</td>\n",
       "      <td>-2.860364</td>\n",
       "      <td>2.860364</td>\n",
       "      <td>-0.110977</td>\n",
       "      <td>0.110977</td>\n",
       "      <td>-0.957927</td>\n",
       "      <td>0.957927</td>\n",
       "      <td>-0.194945</td>\n",
       "      <td>0.194945</td>\n",
       "      <td>0.0</td>\n",
       "    </tr>\n",
       "  </tbody>\n",
       "</table>\n",
       "<p>5 rows × 33 columns</p>\n",
       "</div>"
      ],
      "text/plain": [
       "   POP_ALFAB  POP_NAO_ALFAB  MEDIA_INFRA  PER_SEXO_F  PER_SEXO_M  IDADE_MEDIA  \\\n",
       "0  -0.379127       0.152840     0.339372   -1.454715    1.454842    -0.508533   \n",
       "1  -0.449525      -0.557659    -0.435875   -1.454715    1.454842     0.097681   \n",
       "2  -0.453690      -0.403203     0.563074    0.525942   -0.525359    -1.915817   \n",
       "3  -0.503417      -0.576337     0.349932   -1.454715    1.454842    -0.075523   \n",
       "4  -0.447817      -0.574901     0.203549   -1.454715    1.454842    -0.595135   \n",
       "\n",
       "   PER_RACA_BRANCA  PERC_RACA_PRETA  PERC_RACA_AMARELA  PERC_RACA_PARDA  ...  \\\n",
       "0         0.492108        -0.290565          -0.162491        -0.335302  ...   \n",
       "1         0.492108        -0.290565          -0.162491        -0.335302  ...   \n",
       "2        -0.862044         1.863227          -0.162491        -0.335302  ...   \n",
       "3         0.492108        -0.290565          -0.162491        -0.335302  ...   \n",
       "4         0.492108        -0.290565          -0.162491        -0.335302  ...   \n",
       "\n",
       "   PERC_CONTATO_AVE_SUINO_NAO  PERC_TOSSE_SIM  PERC_TOSSE_NAO  PERC_DOWN_SIM  \\\n",
       "0                    0.299046       -2.860364        2.860364      -0.110977   \n",
       "1                    0.299046        0.970665       -0.970665      -0.110977   \n",
       "2                    0.299046       -0.944850        0.944850      -0.110977   \n",
       "3                    0.299046        0.970665       -0.970665      -0.110977   \n",
       "4                    0.299046       -2.860364        2.860364      -0.110977   \n",
       "\n",
       "   PERC_DOWN_NAO  PERC_VACINADO_GRIPE_SIM  PERC_VACINADO_GRIPE_NAO  \\\n",
       "0       0.110977                 2.019880                -2.019880   \n",
       "1       0.110977                -0.957927                 0.957927   \n",
       "2       0.110977                 0.530976                -0.530976   \n",
       "3       0.110977                -0.957927                 0.957927   \n",
       "4       0.110977                -0.957927                 0.957927   \n",
       "\n",
       "   PERC_HIST_VIAGEM_SIM  PERC_HIST_VIAGEM_NAO  PERC_ZONA_IGNORADA  \n",
       "0             -0.194945              0.194945                 0.0  \n",
       "1             -0.194945              0.194945                 0.0  \n",
       "2             -0.194945              0.194945                 0.0  \n",
       "3             -0.194945              0.194945                 0.0  \n",
       "4             -0.194945              0.194945                 0.0  \n",
       "\n",
       "[5 rows x 33 columns]"
      ]
     },
     "execution_count": 6,
     "metadata": {},
     "output_type": "execute_result"
    }
   ],
   "source": [
    "df_scaled.head(5)"
   ]
  },
  {
   "cell_type": "code",
   "execution_count": 7,
   "metadata": {},
   "outputs": [],
   "source": [
    "df = df[['CIDADE', 'COD_IBGE', 'CASOS_100k_H']].join(df_scaled)"
   ]
  },
  {
   "cell_type": "code",
   "execution_count": 8,
   "metadata": {},
   "outputs": [
    {
     "data": {
      "text/plain": [
       "<AxesSubplot:>"
      ]
     },
     "execution_count": 8,
     "metadata": {},
     "output_type": "execute_result"
    },
    {
     "data": {
      "image/png": "[encoded data removed]",
      "text/plain": [
       "<Figure size 432x288 with 1 Axes>"
      ]
     },
     "metadata": {
      "needs_background": "light"
     },
     "output_type": "display_data"
    }
   ],
   "source": [
    "df.boxplot(column=['POP_ALFAB', 'POP_NAO_ALFAB', 'MEDIA_INFRA',\n",
    "                        'PER_SEXO_F', 'PER_SEXO_M', 'IDADE_MEDIA', 'PER_RACA_BRANCA', 'PERC_RACA_PRETA',\n",
    "                        'PERC_RACA_AMARELA', 'PERC_RACA_PARDA', 'PERC_RACA_INDIGENA', 'PERC_RACA_IGNORADA',\n",
    "                        'PERC_SEM_ESCOLARIDADE', 'PERC_ESCOL_FUND_1', 'PERC_ESCOL_FUND_2', 'PERC_ESCOL_MEDIO',\n",
    "                        'PERC_ESCOL_SUPERIOR', 'PERC_ESCOL_NAO_APLIC', 'PERC_ESCOL_IGNORADO', 'PERC_ZONA_URBANA',\n",
    "                        'PERC_ZONA_RURAL', 'PERC_ZONA_PERIURBANA', 'PERC_CONTATO_AVE_SUINO_SIM',\n",
    "                        'PERC_CONTATO_AVE_SUINO_NAO', 'PERC_TOSSE_SIM', 'PERC_TOSSE_NAO', 'PERC_DOWN_SIM', 'PERC_DOWN_NAO',\n",
    "                        'PERC_VACINADO_GRIPE_SIM', 'PERC_VACINADO_GRIPE_NAO', 'PERC_HIST_VIAGEM_SIM', 'PERC_HIST_VIAGEM_NAO',\n",
    "                        'PERC_ZONA_IGNORADA'])"
   ]
  },
  {
   "cell_type": "code",
   "execution_count": 9,
   "metadata": {},
   "outputs": [],
   "source": [
    "X = df[['POP_ALFAB', 'POP_NAO_ALFAB', 'MEDIA_INFRA',\n",
    "                        'PER_SEXO_F', 'PER_SEXO_M', 'IDADE_MEDIA', 'PER_RACA_BRANCA', 'PERC_RACA_PRETA',\n",
    "                        'PERC_RACA_AMARELA', 'PERC_RACA_PARDA', 'PERC_RACA_INDIGENA', 'PERC_RACA_IGNORADA',\n",
    "                        'PERC_SEM_ESCOLARIDADE', 'PERC_ESCOL_FUND_1', 'PERC_ESCOL_FUND_2', 'PERC_ESCOL_MEDIO',\n",
    "                        'PERC_ESCOL_SUPERIOR', 'PERC_ESCOL_NAO_APLIC', 'PERC_ESCOL_IGNORADO', 'PERC_ZONA_URBANA',\n",
    "                        'PERC_ZONA_RURAL', 'PERC_ZONA_PERIURBANA', 'PERC_CONTATO_AVE_SUINO_SIM',\n",
    "                        'PERC_CONTATO_AVE_SUINO_NAO', 'PERC_TOSSE_SIM', 'PERC_TOSSE_NAO', 'PERC_DOWN_SIM', 'PERC_DOWN_NAO',\n",
    "                        'PERC_VACINADO_GRIPE_SIM', 'PERC_VACINADO_GRIPE_NAO', 'PERC_HIST_VIAGEM_SIM', 'PERC_HIST_VIAGEM_NAO',\n",
    "                        'PERC_ZONA_IGNORADA']].iloc[:]\n",
    "y = df['CASOS_100k_H']"
   ]
  },
  {
   "cell_type": "code",
   "execution_count": 10,
   "metadata": {},
   "outputs": [],
   "source": [
    "# Fit regression model\n",
    "svr_lin = SVR(kernel='linear', C=100, gamma='auto')"
   ]
  },
  {
   "cell_type": "code",
   "execution_count": 11,
   "metadata": {},
   "outputs": [
    {
     "data": {
      "text/plain": [
       "RFE(estimator=SVR(C=100, gamma='auto', kernel='linear'), n_features_to_select=5)"
      ]
     },
     "execution_count": 11,
     "metadata": {},
     "output_type": "execute_result"
    }
   ],
   "source": [
    "# feature selection\n",
    "from sklearn.feature_selection import RFE\n",
    "\n",
    "# Create the RFE object and rank each pixel\n",
    "rfe = RFE(estimator=svr_lin, n_features_to_select=5, step=1)\n",
    "rfe.fit(X, y)\n",
    "\n",
    "# ranking = rfe.ranking_.reshape((-1, 33))"
   ]
  },
  {
   "cell_type": "code",
   "execution_count": 12,
   "metadata": {},
   "outputs": [
    {
     "data": {
      "text/plain": [
       "POP_ALFAB                     1\n",
       "MEDIA_INFRA                   1\n",
       "PER_SEXO_M                    3\n",
       "IDADE_MEDIA                   1\n",
       "PERC_RACA_INDIGENA            1\n",
       "PERC_ESCOL_FUND_2             2\n",
       "PERC_ESCOL_NAO_APLIC          5\n",
       "PERC_CONTATO_AVE_SUINO_NAO    4\n",
       "PERC_TOSSE_NAO                1\n",
       "dtype: int64"
      ]
     },
     "execution_count": 12,
     "metadata": {},
     "output_type": "execute_result"
    }
   ],
   "source": [
    "sranking = pd.Series(rfe.ranking_, index=['POP_ALFAB', 'POP_NAO_ALFAB', 'MEDIA_INFRA',\n",
    "                        'PER_SEXO_F', 'PER_SEXO_M', 'IDADE_MEDIA', 'PER_RACA_BRANCA', 'PERC_RACA_PRETA',\n",
    "                        'PERC_RACA_AMARELA', 'PERC_RACA_PARDA', 'PERC_RACA_INDIGENA', 'PERC_RACA_IGNORADA',\n",
    "                        'PERC_SEM_ESCOLARIDADE', 'PERC_ESCOL_FUND_1', 'PERC_ESCOL_FUND_2', 'PERC_ESCOL_MEDIO',\n",
    "                        'PERC_ESCOL_SUPERIOR', 'PERC_ESCOL_NAO_APLIC', 'PERC_ESCOL_IGNORADO', 'PERC_ZONA_URBANA',\n",
    "                        'PERC_ZONA_RURAL', 'PERC_ZONA_PERIURBANA', 'PERC_CONTATO_AVE_SUINO_SIM',\n",
    "                        'PERC_CONTATO_AVE_SUINO_NAO', 'PERC_TOSSE_SIM', 'PERC_TOSSE_NAO', 'PERC_DOWN_SIM', 'PERC_DOWN_NAO',\n",
    "                        'PERC_VACINADO_GRIPE_SIM', 'PERC_VACINADO_GRIPE_NAO', 'PERC_HIST_VIAGEM_SIM', 'PERC_HIST_VIAGEM_NAO',\n",
    "                        'PERC_ZONA_IGNORADA'])\n",
    "topfeatures = sranking[sranking <= 5]\n",
    "topfeatures"
   ]
  },
  {
   "cell_type": "code",
   "execution_count": 13,
   "metadata": {},
   "outputs": [],
   "source": [
    "X = X[topfeatures.index]"
   ]
  },
  {
   "cell_type": "code",
   "execution_count": 14,
   "metadata": {},
   "outputs": [],
   "source": [
    "from sklearn.model_selection import train_test_split\n",
    "X_train, X_test, y_train, y_test = train_test_split(X, y, test_size=0.3, random_state=0)"
   ]
  },
  {
   "cell_type": "code",
   "execution_count": 15,
   "metadata": {},
   "outputs": [
    {
     "data": {
      "text/plain": [
       "(81, 9)"
      ]
     },
     "execution_count": 15,
     "metadata": {},
     "output_type": "execute_result"
    }
   ],
   "source": [
    "X_train.shape"
   ]
  },
  {
   "cell_type": "code",
   "execution_count": 16,
   "metadata": {},
   "outputs": [
    {
     "data": {
      "text/plain": [
       "(35, 9)"
      ]
     },
     "execution_count": 16,
     "metadata": {},
     "output_type": "execute_result"
    }
   ],
   "source": [
    "X_test.shape"
   ]
  },
  {
   "cell_type": "code",
   "execution_count": 17,
   "metadata": {},
   "outputs": [],
   "source": [
    "model_lin = svr_lin.fit(X_train, y_train)"
   ]
  },
  {
   "cell_type": "code",
   "execution_count": 18,
   "metadata": {},
   "outputs": [],
   "source": [
    "def predict(model, X_test, y_test):\n",
    "    y_pred = model.predict(X_test)\n",
    "    #mostra predições x valores reais\n",
    "    return (y_pred, pd.DataFrame({'Actual': y_test, 'Predicted': y_pred}))"
   ]
  },
  {
   "cell_type": "code",
   "execution_count": 19,
   "metadata": {},
   "outputs": [
    {
     "data": {
      "text/html": [
       "<div>\n",
       "<style scoped>\n",
       "    .dataframe tbody tr th:only-of-type {\n",
       "        vertical-align: middle;\n",
       "    }\n",
       "\n",
       "    .dataframe tbody tr th {\n",
       "        vertical-align: top;\n",
       "    }\n",
       "\n",
       "    .dataframe thead th {\n",
       "        text-align: right;\n",
       "    }\n",
       "</style>\n",
       "<table border=\"1\" class=\"dataframe\">\n",
       "  <thead>\n",
       "    <tr style=\"text-align: right;\">\n",
       "      <th></th>\n",
       "      <th>Actual</th>\n",
       "      <th>Predicted</th>\n",
       "    </tr>\n",
       "  </thead>\n",
       "  <tbody>\n",
       "    <tr>\n",
       "      <th>10</th>\n",
       "      <td>4769.306</td>\n",
       "      <td>3481.245390</td>\n",
       "    </tr>\n",
       "    <tr>\n",
       "      <th>74</th>\n",
       "      <td>3491.167</td>\n",
       "      <td>2925.400385</td>\n",
       "    </tr>\n",
       "    <tr>\n",
       "      <th>66</th>\n",
       "      <td>3637.625</td>\n",
       "      <td>3353.946390</td>\n",
       "    </tr>\n",
       "    <tr>\n",
       "      <th>51</th>\n",
       "      <td>2611.796</td>\n",
       "      <td>3206.201234</td>\n",
       "    </tr>\n",
       "    <tr>\n",
       "      <th>7</th>\n",
       "      <td>5801.942</td>\n",
       "      <td>3440.690581</td>\n",
       "    </tr>\n",
       "  </tbody>\n",
       "</table>\n",
       "</div>"
      ],
      "text/plain": [
       "      Actual    Predicted\n",
       "10  4769.306  3481.245390\n",
       "74  3491.167  2925.400385\n",
       "66  3637.625  3353.946390\n",
       "51  2611.796  3206.201234\n",
       "7   5801.942  3440.690581"
      ]
     },
     "execution_count": 19,
     "metadata": {},
     "output_type": "execute_result"
    }
   ],
   "source": [
    "y_pred_lin, df_lin = predict(model_lin, X_test, y_test)\n",
    "df_lin.head(5)"
   ]
  },
  {
   "cell_type": "code",
   "execution_count": 20,
   "metadata": {},
   "outputs": [],
   "source": [
    "#verifica diferentes métricas de avaliação\n",
    "from sklearn import metrics\n",
    "\n",
    "def showMetrics(y_test, y_pred):\n",
    "    print('Mean Absolute Error:', metrics.mean_absolute_error(y_test, y_pred))\n",
    "    print('Mean Squared Error:', metrics.mean_squared_error(y_test, y_pred))\n",
    "    print('Root Mean Squared Error:', np.sqrt(metrics.mean_squared_error(y_test, y_pred)))\n",
    "    print('Determination Coefficient (R^2)', metrics.r2_score(y_test, y_pred))"
   ]
  },
  {
   "cell_type": "code",
   "execution_count": 21,
   "metadata": {},
   "outputs": [
    {
     "name": "stdout",
     "output_type": "stream",
     "text": [
      "Mean Absolute Error: 1219.7397209853305\n",
      "Mean Squared Error: 2763745.445496247\n",
      "Root Mean Squared Error: 1662.4516370397807\n",
      "Determination Coefficient (R^2) -0.27133230556525123\n"
     ]
    }
   ],
   "source": [
    "showMetrics(y_test, y_pred_lin)"
   ]
  },
  {
   "cell_type": "code",
   "execution_count": 22,
   "metadata": {},
   "outputs": [
    {
     "name": "stdout",
     "output_type": "stream",
     "text": [
      "[-941.20853586 -985.78030382 -747.17209863 -909.75405146]\n",
      "-895.9787474461241\n"
     ]
    }
   ],
   "source": [
    "from sklearn.model_selection import cross_val_score\n",
    "\n",
    "cv_4_results = cross_val_score(model_lin, X, y, cv=4, scoring=\"neg_median_absolute_error\")\n",
    "print(cv_4_results)\n",
    "print(cv_4_results.mean())"
   ]
  },
  {
   "cell_type": "code",
   "execution_count": 23,
   "metadata": {},
   "outputs": [
    {
     "name": "stdout",
     "output_type": "stream",
     "text": [
      "[-1940.32252004 -1399.67854765 -1289.24576498 -2585.72791399]\n",
      "-1803.7436866657285\n"
     ]
    }
   ],
   "source": [
    "cv_4_results = cross_val_score(model_lin, X, y, cv=4, scoring=\"neg_root_mean_squared_error\")\n",
    "print(cv_4_results)\n",
    "print(cv_4_results.mean())"
   ]
  },
  {
   "cell_type": "code",
   "execution_count": 24,
   "metadata": {},
   "outputs": [
    {
     "name": "stdout",
     "output_type": "stream",
     "text": [
      "[-1342.47018992 -1125.55275026 -1024.31092241 -1608.16335141]\n",
      "-1275.1243035022821\n"
     ]
    }
   ],
   "source": [
    "cv_4_results = cross_val_score(model_lin, X, y, cv=4, scoring=\"neg_mean_absolute_error\")\n",
    "print(cv_4_results)\n",
    "print(cv_4_results.mean())"
   ]
  },
  {
   "cell_type": "code",
   "execution_count": null,
   "metadata": {},
   "outputs": [],
   "source": []
  }
 ],
 "metadata": {
  "kernelspec": {
   "display_name": "Python 3",
   "language": "python",
   "name": "python3"
  },
  "language_info": {
   "codemirror_mode": {
    "name": "ipython",
    "version": 3
   },
   "file_extension": ".py",
   "mimetype": "text/x-python",
   "name": "python",
   "nbconvert_exporter": "python",
   "pygments_lexer": "ipython3",
   "version": "3.8.5"
  }
 },
 "nbformat": 4,
 "nbformat_minor": 4
}
