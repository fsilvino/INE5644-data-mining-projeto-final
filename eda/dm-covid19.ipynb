{
 "cells": [
  {
   "cell_type": "code",
   "execution_count": null,
   "metadata": {},
   "outputs": [],
   "source": [
    "# Preparação de dados por Flávio Silvino\n",
    "import pandas as pd\n",
    "import numpy as np\n",
    "import math\n",
    "import matplotlib.pyplot as plt\n",
    "%matplotlib inline\n",
    "\n",
    "pd.set_option('display.max_rows', None)\n",
    "pd.set_option('display.max_columns', None)"
   ]
  },
  {
   "cell_type": "code",
   "execution_count": null,
   "metadata": {},
   "outputs": [],
   "source": [
    "df = pd.read_csv('../datasets/dados_normalizados_modelo_agua_tratada.csv', delimiter=',', names=['CIDADE', 'COD_IBGE', 'CASOS_100k_H', 'POP_ALFAB', 'POP_NAO_ALFAB', 'PER_SEXO_F', 'PER_SEXO_M', 'IDADE_MEDIA',\n",
    "           'PER_RACA_BRANCA', 'PERC_RACA_PRETA', 'PERC_RACA_AMARELA', 'PERC_RACA_PARDA', 'PERC_RACA_INDIGENA', 'PERC_RACA_IGNORADA',\n",
    "           'PERC_SEM_ESCOLARIDADE', 'PERC_SEM_ESCOL_FUND_1', 'PERC_SEM_ESCOL_FUND_2', 'PERC_SEM_ESCOL_MEDIO', 'PERC_SEM_ESCOL_SUPERIOR',\n",
    "           'PERC_SEM_ESCOL_NAO_APLIC', 'PERC_SEM_ESCOL_IGNORADO', 'PERC_ZONA_URBANA', 'PERC_ZONA_RURAL', 'PERC_ZONA_PERIURBANA', \n",
    "           'PERC_CONTATO_AVE_SUINO_SIM', 'PERC_CONTATO_AVE_SUINO_NAO', 'PERC_TOSSE_SIM', 'PERC_TOSSE_NAO', 'PERC_DOWN_SIM', 'PERC_DOWN_NAO',\n",
    "           'PERC_VACINADO_GRIPE_SIM', 'PERC_VACINADO_GRIPE_NAO', 'PERC_HIST_VIAGEM_SIM', 'PERC_HIST_VIAGEM_NAO', 'PERC_ZONA_IGNORADA', 'PERC_MORADORES_AGUA_TRATADA'], skiprows=1)"
   ]
  },
  {
   "cell_type": "code",
   "execution_count": null,
   "metadata": {},
   "outputs": [],
   "source": [
    "df.shape"
   ]
  },
  {
   "cell_type": "code",
   "execution_count": null,
   "metadata": {},
   "outputs": [],
   "source": [
    "df.head()"
   ]
  },
  {
   "cell_type": "code",
   "execution_count": null,
   "metadata": {},
   "outputs": [],
   "source": [
    "df[df['COD_IBGE'] == 420010]"
   ]
  },
  {
   "cell_type": "code",
   "execution_count": null,
   "metadata": {},
   "outputs": [],
   "source": [
    "df.plot.scatter(x='PERC_TOSSE_SIM', y='CASOS_100k_H')"
   ]
  },
  {
   "cell_type": "code",
   "execution_count": null,
   "metadata": {
    "scrolled": true
   },
   "outputs": [],
   "source": [
    "df.plot.scatter(x='POP_NAO_ALFAB', y='CASOS_100k_H')"
   ]
  },
  {
   "cell_type": "code",
   "execution_count": null,
   "metadata": {},
   "outputs": [],
   "source": [
    "df.plot.scatter(x='PER_SEXO_F', y='CASOS_100k_H')"
   ]
  },
  {
   "cell_type": "code",
   "execution_count": null,
   "metadata": {},
   "outputs": [],
   "source": [
    "df.plot.scatter(x='PER_SEXO_M', y='CASOS_100k_H')"
   ]
  },
  {
   "cell_type": "code",
   "execution_count": null,
   "metadata": {},
   "outputs": [],
   "source": [
    "df.plot.scatter(x='PERC_MORADORES_AGUA_TRATADA', y='CASOS_100k_H')"
   ]
  },
  {
   "cell_type": "code",
   "execution_count": null,
   "metadata": {},
   "outputs": [],
   "source": [
    "df.plot.scatter(x='PERC_VACINADO_GRIPE_SIM', y='CASOS_100k_H')"
   ]
  },
  {
   "cell_type": "code",
   "execution_count": null,
   "metadata": {},
   "outputs": [],
   "source": [
    "df['PERC_ATE_ENSINO_FUND'] = df['PERC_SEM_ESCOLARIDADE'] + df['PERC_SEM_ESCOL_FUND_1'] + df['PERC_SEM_ESCOL_FUND_2']\n",
    "# df[['PERC_ATE_ENSINO_FUND']]"
   ]
  },
  {
   "cell_type": "code",
   "execution_count": null,
   "metadata": {},
   "outputs": [],
   "source": [
    "from sklearn.preprocessing import StandardScaler\n",
    "\n",
    "X = df[[#'CASOS_100k_H',\n",
    "        #'POP_NAO_ALFAB',\n",
    "        #'PER_SEXO_F', 'PER_SEXO_M',\n",
    "    'PERC_MORADORES_AGUA_TRATADA',\n",
    "        'IDADE_MEDIA',\n",
    "        'PER_RACA_BRANCA', 'PERC_RACA_PRETA', 'PERC_RACA_AMARELA', 'PERC_RACA_PARDA', 'PERC_RACA_INDIGENA', 'PERC_RACA_IGNORADA',\n",
    "        'PERC_SEM_ESCOLARIDADE', 'PERC_SEM_ESCOL_FUND_1', 'PERC_SEM_ESCOL_FUND_2', 'PERC_SEM_ESCOL_MEDIO', 'PERC_SEM_ESCOL_SUPERIOR', 'PERC_SEM_ESCOL_NAO_APLIC', 'PERC_SEM_ESCOL_IGNORADO',\n",
    "        'PERC_ZONA_URBANA', 'PERC_ZONA_RURAL', 'PERC_ZONA_PERIURBANA', 'PERC_ZONA_IGNORADA',\n",
    "        'PERC_CONTATO_AVE_SUINO_SIM', 'PERC_CONTATO_AVE_SUINO_NAO',\n",
    "        'PERC_TOSSE_SIM', 'PERC_TOSSE_NAO',\n",
    "        'PERC_DOWN_SIM', 'PERC_DOWN_NAO',\n",
    "        'PERC_VACINADO_GRIPE_SIM', 'PERC_VACINADO_GRIPE_NAO',\n",
    "        'PERC_HIST_VIAGEM_SIM', 'PERC_HIST_VIAGEM_NAO']]\n",
    "# prepara a função para transformar os dados\n",
    "scaler = StandardScaler().fit(X)\n",
    "# realiza a padronização (média=0, variância = 1)\n",
    "rescaledX = scaler.transform(X)"
   ]
  },
  {
   "cell_type": "code",
   "execution_count": null,
   "metadata": {},
   "outputs": [],
   "source": [
    "dfnorm = pd.DataFrame(rescaledX, columns=[#'CASOS_100k_H', \n",
    "                                          #'POP_NAO_ALFAB', 'PER_SEXO_F', 'PER_SEXO_M', \n",
    "    'PERC_MORADORES_AGUA_TRATADA',\n",
    "    'IDADE_MEDIA',\n",
    "           'PER_RACA_BRANCA', 'PERC_RACA_PRETA', 'PERC_RACA_AMARELA', 'PERC_RACA_PARDA', 'PERC_RACA_INDIGENA', 'PERC_RACA_IGNORADA',\n",
    "           'PERC_SEM_ESCOLARIDADE', 'PERC_SEM_ESCOL_FUND_1', 'PERC_SEM_ESCOL_FUND_2', 'PERC_SEM_ESCOL_MEDIO', 'PERC_SEM_ESCOL_SUPERIOR',\n",
    "           'PERC_SEM_ESCOL_NAO_APLIC', 'PERC_SEM_ESCOL_IGNORADO', 'PERC_ZONA_URBANA', 'PERC_ZONA_RURAL', 'PERC_ZONA_PERIURBANA', \n",
    "           'PERC_CONTATO_AVE_SUINO_SIM', 'PERC_CONTATO_AVE_SUINO_NAO', 'PERC_TOSSE_SIM', 'PERC_TOSSE_NAO', 'PERC_DOWN_SIM', 'PERC_DOWN_NAO',\n",
    "           'PERC_VACINADO_GRIPE_SIM', 'PERC_VACINADO_GRIPE_NAO', 'PERC_HIST_VIAGEM_SIM', 'PERC_HIST_VIAGEM_NAO', 'PERC_ZONA_IGNORADA'])\n",
    "#df['CASOS_100k_H'] = dfnorm['CASOS_100k_H']\n",
    "#df['POP_NAO_ALFAB'] = dfnorm['POP_NAO_ALFAB']\n",
    "#df['PER_SEXO_F'] = dfnorm['PER_SEXO_F']\n",
    "#df['PER_SEXO_M'] = dfnorm['PER_SEXO_M']\n",
    "df['IDADE_MEDIA'] = dfnorm['IDADE_MEDIA']\n",
    "df['PER_RACA_BRANCA'] = dfnorm['PER_RACA_BRANCA']\n",
    "df['PERC_RACA_PRETA'] = dfnorm['PERC_RACA_PRETA']\n",
    "df['PERC_RACA_AMARELA'] = dfnorm['PERC_RACA_AMARELA']\n",
    "df['PERC_RACA_PARDA'] = dfnorm['PERC_RACA_PARDA']\n",
    "df['PERC_RACA_INDIGENA'] = dfnorm['PERC_RACA_INDIGENA']\n",
    "df['PERC_RACA_IGNORADA'] = dfnorm['PERC_RACA_IGNORADA']\n",
    "df['PERC_SEM_ESCOLARIDADE'] = dfnorm['PERC_SEM_ESCOLARIDADE']\n",
    "df['PERC_SEM_ESCOL_FUND_1'] = dfnorm['PERC_SEM_ESCOL_FUND_1']\n",
    "df['PERC_SEM_ESCOL_FUND_2'] = dfnorm['PERC_SEM_ESCOL_FUND_2']\n",
    "df['PERC_SEM_ESCOL_MEDIO'] = dfnorm['PERC_SEM_ESCOL_MEDIO']\n",
    "df['PERC_SEM_ESCOL_SUPERIOR'] = dfnorm['PERC_SEM_ESCOL_SUPERIOR']\n",
    "df['PERC_SEM_ESCOL_NAO_APLIC'] = dfnorm['PERC_SEM_ESCOL_NAO_APLIC']\n",
    "df['PERC_SEM_ESCOL_IGNORADO'] = dfnorm['PERC_SEM_ESCOL_IGNORADO']\n",
    "df['PERC_ZONA_URBANA'] = dfnorm['PERC_ZONA_URBANA']\n",
    "df['PERC_ZONA_RURAL'] = dfnorm['PERC_ZONA_RURAL']\n",
    "df['PERC_ZONA_PERIURBANA'] = dfnorm['PERC_ZONA_PERIURBANA']\n",
    "df['PERC_CONTATO_AVE_SUINO_SIM'] = dfnorm['PERC_CONTATO_AVE_SUINO_SIM']\n",
    "df['PERC_CONTATO_AVE_SUINO_NAO'] = dfnorm['PERC_CONTATO_AVE_SUINO_NAO']\n",
    "df['PERC_TOSSE_SIM'] = dfnorm['PERC_TOSSE_SIM']\n",
    "df['PERC_TOSSE_NAO'] = dfnorm['PERC_TOSSE_NAO']\n",
    "df['PERC_DOWN_SIM'] = dfnorm['PERC_DOWN_SIM']\n",
    "df['PERC_DOWN_NAO'] = dfnorm['PERC_DOWN_NAO']\n",
    "df['PERC_VACINADO_GRIPE_SIM'] = dfnorm['PERC_VACINADO_GRIPE_SIM']\n",
    "df['PERC_VACINADO_GRIPE_NAO'] = dfnorm['PERC_VACINADO_GRIPE_NAO']\n",
    "df['PERC_HIST_VIAGEM_SIM'] = dfnorm['PERC_HIST_VIAGEM_SIM']\n",
    "df['PERC_HIST_VIAGEM_NAO'] = dfnorm['PERC_HIST_VIAGEM_NAO']\n",
    "df['PERC_ZONA_IGNORADA'] = dfnorm['PERC_ZONA_IGNORADA']\n",
    "df['PERC_MORADORES_AGUA_TRATADA'] = dfnorm['PERC_MORADORES_AGUA_TRATADA']"
   ]
  },
  {
   "cell_type": "code",
   "execution_count": null,
   "metadata": {},
   "outputs": [],
   "source": [
    "corr = df[['CASOS_100k_H', 'POP_NAO_ALFAB', 'IDADE_MEDIA',\n",
    "           'PER_RACA_BRANCA', 'PERC_RACA_PRETA', 'PERC_RACA_AMARELA', 'PERC_RACA_PARDA', 'PERC_RACA_INDIGENA', \n",
    "           'PERC_SEM_ESCOLARIDADE', 'PERC_SEM_ESCOL_FUND_1', 'PERC_SEM_ESCOL_FUND_2', 'PERC_SEM_ESCOL_MEDIO', 'PERC_SEM_ESCOL_SUPERIOR',\n",
    "           'PERC_SEM_ESCOL_NAO_APLIC', 'PERC_ZONA_URBANA', 'PERC_ZONA_RURAL', 'PERC_ZONA_PERIURBANA', \n",
    "           'PERC_CONTATO_AVE_SUINO_SIM', 'PERC_TOSSE_SIM', 'PERC_DOWN_SIM', \n",
    "           'PERC_VACINADO_GRIPE_SIM', 'PERC_HIST_VIAGEM_SIM', 'PERC_ZONA_IGNORADA', 'PERC_MORADORES_AGUA_TRATADA']].corr()\n",
    "corr"
   ]
  },
  {
   "cell_type": "code",
   "execution_count": null,
   "metadata": {},
   "outputs": [],
   "source": [
    "# verificando variáveis mais correlacionadas conforme exemplo do professor Francisco Aparecido Rodrigues, francisco@icmc.usp.br.\n",
    "# disponível em https://github.com/franciscoicmc/ciencia-de-dados/blob/master/Aula1-Preparacao-transformacao.ipynb\n",
    "\n",
    "p = 0.75 # correlação mínima\n",
    "var = []\n",
    "for i in corr.columns:\n",
    "    for j in corr.columns:\n",
    "        if(i != j):\n",
    "            if np.abs(corr[i][j]) > p: # se maior do que |p|\n",
    "                var.append([i,j])\n",
    "print('Variáveis mais correlacionadas:\\n', var)"
   ]
  },
  {
   "cell_type": "code",
   "execution_count": null,
   "metadata": {},
   "outputs": [],
   "source": [
    "df.head()"
   ]
  },
  {
   "cell_type": "code",
   "execution_count": null,
   "metadata": {},
   "outputs": [],
   "source": [
    "df.plot.scatter(x='PERC_MORADORES_AGUA_TRATADA', y='CASOS_100k_H')"
   ]
  },
  {
   "cell_type": "code",
   "execution_count": null,
   "metadata": {},
   "outputs": [],
   "source": [
    "X = df[['IDADE_MEDIA',\n",
    "        'PERC_TOSSE_SIM',\n",
    "        'PERC_MORADORES_AGUA_TRATADA',\n",
    "        'PERC_VACINADO_GRIPE_SIM']].iloc[:]\n",
    "y = df['CASOS_100k_H']"
   ]
  },
  {
   "cell_type": "code",
   "execution_count": null,
   "metadata": {},
   "outputs": [],
   "source": [
    "#divide em treino e teste\n",
    "from sklearn.model_selection import train_test_split\n",
    "X_train, X_test, y_train, y_test = train_test_split(X, y, test_size=0.3, random_state=0)"
   ]
  },
  {
   "cell_type": "code",
   "execution_count": null,
   "metadata": {},
   "outputs": [],
   "source": [
    "from sklearn.linear_model import LinearRegression\n",
    "model = LinearRegression()\n",
    "model.fit(X_train, y_train)"
   ]
  },
  {
   "cell_type": "code",
   "execution_count": null,
   "metadata": {},
   "outputs": [],
   "source": [
    "X.columns"
   ]
  },
  {
   "cell_type": "code",
   "execution_count": null,
   "metadata": {},
   "outputs": [],
   "source": [
    "##ver coeficientes de correlação - lembrando que y = wx - e estamos vendo w\n",
    "coeff_df = pd.DataFrame(model.coef_, X.columns, columns=['Coefficient'])\n",
    "coeff_df"
   ]
  },
  {
   "cell_type": "code",
   "execution_count": null,
   "metadata": {},
   "outputs": [],
   "source": [
    "#realiza predições\n",
    "y_pred = model.predict(X_test)\n",
    "#mostra predições x valores reais\n",
    "dfResultado = pd.DataFrame({'Actual': y_test, 'Predicted': y_pred})\n",
    "dfResultado"
   ]
  },
  {
   "cell_type": "code",
   "execution_count": null,
   "metadata": {},
   "outputs": [],
   "source": [
    "#verifica diferentes métricas de avaliação\n",
    "from sklearn import metrics\n",
    "print('Mean Absolute Error:', metrics.mean_absolute_error(y_test, y_pred))\n",
    "print('Mean Squared Error:', metrics.mean_squared_error(y_test, y_pred))\n",
    "print('Root Mean Squared Error:', np.sqrt(metrics.mean_squared_error(y_test, y_pred)))\n",
    "print('Determination Coefficient (R^2)', metrics.r2_score(y_test, y_pred))"
   ]
  },
  {
   "cell_type": "code",
   "execution_count": null,
   "metadata": {},
   "outputs": [],
   "source": [
    "from sklearn.model_selection import cross_val_score\n",
    "cv_4_results = cross_val_score(model, X, y, cv=4, scoring=\"r2\")\n",
    "print(cv_4_results)\n",
    "print(cv_4_results.mean())"
   ]
  }
 ],
 "metadata": {
  "kernelspec": {
   "display_name": "Python 3",
   "language": "python",
   "name": "python3"
  },
  "language_info": {
   "codemirror_mode": {
    "name": "ipython",
    "version": 3
   },
   "file_extension": ".py",
   "mimetype": "text/x-python",
   "name": "python",
   "nbconvert_exporter": "python",
   "pygments_lexer": "ipython3",
   "version": "3.7.5"
  }
 },
 "nbformat": 4,
 "nbformat_minor": 4
}
