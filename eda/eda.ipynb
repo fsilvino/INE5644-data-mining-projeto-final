{
 "cells": [
  {
   "cell_type": "markdown",
   "metadata": {
    "colab_type": "text",
    "id": "view-in-github"
   },
   "source": [
    "<a href=\"https://colab.research.google.com/github/fsilvino/INE5644-data-mining-projeto-final/blob/master/eda/eda.ipynb\" target=\"_parent\"><img src=\"https://colab.research.google.com/assets/colab-badge.svg\" alt=\"Open In Colab\"/></a>"
   ]
  },
  {
   "cell_type": "code",
   "execution_count": null,
   "metadata": {
    "id": "2eA91-_rGC2d"
   },
   "outputs": [],
   "source": [
    "import datetime\n",
    "import pandas as pd\n",
    "\n",
    "# Inicialmente o carregamento havia sido feito mais simples:\n",
    "# df = pd.read_csv('../datasets/openDataSUS/INFLUD-21-09-2020.csv', delimiter=';')\n",
    "# Depois fui incrementando com as descobertas feitas durante a exploração\n",
    "\n",
    "dateparse = lambda x: pd.to_datetime(x, format='%d/%m/%Y', errors='coerce')\n",
    "\n",
    "# lendo o dataset\n",
    "df = pd.read_csv('../datasets/openDataSUS/INFLUD-21-09-2020.csv', delimiter=';',\n",
    "                 date_parser=dateparse,\n",
    "                 parse_dates=['DT_VAC_MAE', 'DT_DOSEUNI', 'DT_1_DOSE', 'DT_2_DOSE'],\n",
    "                 dtype={'FLUASU_OUT': str, 'FLUBLI_OUT': str, 'CLASSI_OUT': str, 'LO_PS_VGM': str, 'OUT_ANIM': str})"
   ]
  },
  {
   "cell_type": "code",
   "execution_count": null,
   "metadata": {},
   "outputs": [],
   "source": [
    "# número de linhas\n",
    "len(df)"
   ]
  },
  {
   "cell_type": "code",
   "execution_count": null,
   "metadata": {},
   "outputs": [],
   "source": [
    "# número de colunas\n",
    "len(df.columns.values)"
   ]
  },
  {
   "cell_type": "code",
   "execution_count": null,
   "metadata": {},
   "outputs": [],
   "source": [
    "# verificando quantos resultados de teste de COVID-19 estão preenchidos\n",
    "df['RES_IGM'].count()"
   ]
  },
  {
   "cell_type": "code",
   "execution_count": null,
   "metadata": {},
   "outputs": [],
   "source": [
    "df.head()"
   ]
  },
  {
   "cell_type": "code",
   "execution_count": null,
   "metadata": {},
   "outputs": [],
   "source": [
    "# Analisando dados que estão com múltiplos tipos no dataset, verificando o nome das colunas para poder ver os valores delas\n",
    "for i in (15,60,62,63,64,92,94,108,117,121,123):\n",
    "    print(df.columns.values[i])"
   ]
  },
  {
   "cell_type": "code",
   "execution_count": null,
   "metadata": {},
   "outputs": [],
   "source": [
    "for i, name in enumerate(df.columns.values):\n",
    "    print(str(i) + \": \" + name, end='')\n",
    "    if i in (15,60,62,63,64,92,94,108,117,121,123):\n",
    "        print('*', end='')\n",
    "    print()"
   ]
  },
  {
   "cell_type": "code",
   "execution_count": null,
   "metadata": {},
   "outputs": [],
   "source": []
  },
  {
   "cell_type": "code",
   "execution_count": null,
   "metadata": {},
   "outputs": [],
   "source": [
    "for i, name in enumerate(df.columns.values):\n",
    "    if i in (15,60,62,63,64,92,94,108,117,121,123):\n",
    "        print(name + \": \")\n",
    "        print('dtype: ', df[name].dtype)\n",
    "        print(df[name].unique())\n",
    "        print()\n",
    "\n"
   ]
  },
  {
   "cell_type": "code",
   "execution_count": null,
   "metadata": {},
   "outputs": [],
   "source": [
    "# para descobrir valores possivelmente errados, converti para string, ordenei a lista e printei na tela, pois há uma limitação do número\n",
    "# de itens que ele mostra na tela, assim com a ordenação esperava ver algo no início ou no fim que fosse diferente de número\n",
    "cbos = df['PAC_COCBO'].unique().astype(str)\n",
    "cbos.sort()\n",
    "cbos"
   ]
  },
  {
   "cell_type": "code",
   "execution_count": null,
   "metadata": {},
   "outputs": [],
   "source": [
    "cbos"
   ]
  },
  {
   "cell_type": "code",
   "execution_count": null,
   "metadata": {},
   "outputs": [],
   "source": [
    "# Existe um valor estranho (que parece incorreto: 20-1) que impede a conversão para inteiro. Poderíamos remover ou tratar este valor,\n",
    "# porém como não sabemos para que serve este campo e não encontramos ele no dicionário de dados, estamos descartando-o.\n",
    "df = df.drop('COD_IDADE', axis=1)"
   ]
  },
  {
   "cell_type": "code",
   "execution_count": null,
   "metadata": {},
   "outputs": [],
   "source": [
    "df.describe()"
   ]
  }
 ],
 "metadata": {
  "colab": {
   "authorship_tag": "ABX9TyNd/3h8I7kqNaAhNmli6XE2",
   "include_colab_link": true,
   "name": "eda.ipynb",
   "provenance": []
  },
  "kernelspec": {
   "display_name": "Python 3",
   "language": "python",
   "name": "python3"
  },
  "language_info": {
   "codemirror_mode": {
    "name": "ipython",
    "version": 3
   },
   "file_extension": ".py",
   "mimetype": "text/x-python",
   "name": "python",
   "nbconvert_exporter": "python",
   "pygments_lexer": "ipython3",
   "version": "3.7.5"
  }
 },
 "nbformat": 4,
 "nbformat_minor": 4
}
