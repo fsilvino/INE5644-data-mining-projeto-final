{
 "cells": [
  {
   "cell_type": "markdown",
   "metadata": {
    "colab_type": "text",
    "id": "view-in-github"
   },
   "source": [
    "<a href=\"https://colab.research.google.com/github/fsilvino/INE5644-data-mining-projeto-final/blob/master/eda/eda.ipynb\" target=\"_parent\"><img src=\"https://colab.research.google.com/assets/colab-badge.svg\" alt=\"Open In Colab\"/></a>"
   ]
  },
  {
   "cell_type": "code",
   "execution_count": null,
   "metadata": {},
   "outputs": [],
   "source": [
    "# Análise exploratória de dados e preparação de dados por Flávio Silvino\n",
    "import pandas as pd\n",
    "import numpy as np\n",
    "import math"
   ]
  },
  {
   "cell_type": "code",
   "execution_count": null,
   "metadata": {},
   "outputs": [],
   "source": [
    "# Inicialmente o carregamento havia sido feito mais simples:\n",
    "# Depois fui incrementando com as descobertas feitas durante a exploração\n",
    "df = pd.read_csv('../datasets/openDataSUS/INFLUD-21-09-2020.csv', delimiter=';')"
   ]
  },
  {
   "cell_type": "code",
   "execution_count": null,
   "metadata": {},
   "outputs": [],
   "source": [
    "# número de linhas e colunas\n",
    "df.shape"
   ]
  },
  {
   "cell_type": "code",
   "execution_count": null,
   "metadata": {},
   "outputs": [],
   "source": [
    "for i, name in enumerate(df.columns.values):\n",
    "    if i in (15,60,62,63,64,92,94,108,117,121,123):\n",
    "        print(str(i) + ' - ' + name + ': ')\n",
    "        print('dtype: ', df[name].dtype)\n",
    "        print('Valores: ', end='')\n",
    "        print(df[name].unique())\n",
    "        print()"
   ]
  },
  {
   "cell_type": "code",
   "execution_count": null,
   "metadata": {},
   "outputs": [],
   "source": [
    "pd.Series(df['PAC_COCBO'].unique().astype(str)).sort_values(key=lambda x: x.str.lower(), ascending=False).head(5).to_markdown(tablefmt='html')"
   ]
  },
  {
   "cell_type": "code",
   "execution_count": null,
   "metadata": {},
   "outputs": [],
   "source": [
    "# Verificando quais são as colunas de data para converter para datetime\n",
    "df.filter(regex='^DT_', axis=1).head(5)"
   ]
  },
  {
   "cell_type": "code",
   "execution_count": null,
   "metadata": {},
   "outputs": [],
   "source": [
    "# Indentifiquei que:\n",
    "#    - As colunas que começam com DT_ são do tipo data e estão no formato dd/mm/aaaa\n",
    "#    - As colunas 'FLUASU_OUT', 'FLUBLI_OUT', 'CLASSI_OUT', 'LO_PS_VGM', 'OUT_ANIM' são do tipo string\n",
    "#    - A coluna 'PAC_COCBO' possui um valor inválido 'XXX', então estou convertendo para int e os valores inválidos estão setados para NA\n",
    "#    - A coluna 'COD_IDADE' possui um valor inválido '20-1', então também estou convertendo para int e os valores inválidos setados para NA\n",
    "#    - Várias colunas utilizam o código 9 para Ignorado, ou seja, não se sabe o valor pois não foi informado (serão tratados como NA)\n",
    "to_date_parser = lambda x: pd.to_datetime(x, format='%d/%m/%Y', errors='coerce')\n",
    "to_numeric_parser = lambda x: pd.to_numeric(x, errors='coerce')\n",
    "\n",
    "# lendo o dataset\n",
    "df = pd.read_csv('../datasets/openDataSUS/INFLUD-21-09-2020.csv', delimiter=';',\n",
    "                 date_parser=to_date_parser,\n",
    "                 parse_dates=['DT_NOTIFIC', 'DT_SIN_PRI', 'DT_NASC', 'DT_UT_DOSE', 'DT_VAC_MAE',\n",
    "                              'DT_DOSEUNI', 'DT_1_DOSE', 'DT_2_DOSE', 'DT_ANTIVIR', 'DT_INTERNA',\n",
    "                              'DT_ENTUTI', 'DT_SAIDUTI', 'DT_RAIOX', 'DT_COLETA', 'DT_PCR',\n",
    "                              'DT_EVOLUCA', 'DT_ENCERRA', 'DT_DIGITA', 'DT_VGM', 'DT_RT_VGM',\n",
    "                              'DT_TOMO', 'DT_RES_AN', 'DT_CO_SOR', 'DT_RES'],\n",
    "                 na_values={'CS_SEXO': '9', 'CS_GESTANT': '9', 'CS_RACA': '9', 'CS_ESCOL_N': '9', 'CS_ZONA': '9', 'HISTO_VGM': '9', 'SURTO_SG': '9', 'NOSOCOMIAL': '9', 'AVE_SUINO': '9',\n",
    "                            'FEBRE': '9', 'TOSSE': '9', 'GARGANTA': '9', 'DISPNEIA': '9', 'DESC_RESP': '9', 'SATURACAO': '9', 'DIARREIA': '9', 'VOMITO': '9', 'DOR_ABD': '9', 'FADIGA': '9',\n",
    "                            'PERD_OLFT': '9', 'PERD_PALA': '9', 'OUTRO_SIN': '9', 'FATOR_RISC': '9', 'PUERPERA': '9', 'CARDIOPATI': '9', 'HEMATOLOGI': '9', 'SIND_DOWN': '9', 'HEPATICA': '9',\n",
    "                            'ASMA': '9', 'DIABETES': '9', 'NEUROLOGIC': '9', 'PNEUMOPATI': '9', 'IMUNODEPRE': '9', 'RENAL': '9', 'OBESIDADE': '9', 'OUT_MORBI': '9', 'VACINA': '9',\n",
    "                            'MAE_VAC': '9', 'M_AMAMENTA': '9', 'ANTIVIRAL': '9', 'HOSPITAL': '9', 'UTI': '9', 'SUPORT_VEN': '9', 'RAIOX_RES': '9', 'TOMO_RES': '9', 'AMOSTRA': '9',\n",
    "                            'TP_AMOSTRA': '9', 'RES_AN': '9', 'POS_AN_FLU': '9', 'POS_AN_OUT': '9', 'PCR_RESUL': '9', 'POS_PCRFLU': '9', 'POS_PCROUT': '9', 'TP_AM_SOR': '9', 'EVOLUCAO': '9'},\n",
    "                 converters={'PAC_COCBO': to_numeric_parser, 'COD_IDADE': to_numeric_parser},\n",
    "                 dtype={'FLUASU_OUT': str, 'FLUBLI_OUT': str, 'CLASSI_OUT': str, 'LO_PS_VGM': str, 'OUT_ANIM': str})"
   ]
  },
  {
   "cell_type": "code",
   "execution_count": null,
   "metadata": {},
   "outputs": [],
   "source": [
    "# Calculando percentual de valores faltantes para cada coluna\n",
    "def calcularFaltantes(dataFrame):\n",
    "    registros = dataFrame.shape[0]\n",
    "    return dataFrame.apply(lambda x: sum(x.isnull()) / registros, axis=0)\n",
    "\n",
    "def listarFaltantes(faltantes, percentual):\n",
    "    display(faltantes.loc[faltantes > percentual].sort_values(ascending=False).to_markdown(tablefmt=\"html\"))\n",
    "    \n",
    "def calcularEListarFaltantes(dataFrame, percentual):\n",
    "    faltantes = calcularFaltantes(dataFrame)\n",
    "    listarFaltantes(faltantes, percentual)"
   ]
  },
  {
   "cell_type": "code",
   "execution_count": null,
   "metadata": {},
   "outputs": [],
   "source": [
    "# Mostrando o percentual de valores faltantes das colunas com mais de 90% de seus registros em branco\n",
    "calcularEListarFaltantes(df, 0.9)"
   ]
  },
  {
   "cell_type": "code",
   "execution_count": null,
   "metadata": {},
   "outputs": [],
   "source": [
    "# verificando quantos resultados de teste de COVID-19 estão preenchidos (depois verificou-se que existem mais colunas com este dado)\n",
    "df['RES_IGM'].count()"
   ]
  },
  {
   "cell_type": "code",
   "execution_count": null,
   "metadata": {},
   "outputs": [],
   "source": [
    "df.head()"
   ]
  },
  {
   "cell_type": "code",
   "execution_count": null,
   "metadata": {},
   "outputs": [],
   "source": [
    "# Verificando o período dos dados\n",
    "print(\"min:\", df['DT_NOTIFIC'].min())\n",
    "print(\"max:\", df['DT_NOTIFIC'].max())"
   ]
  },
  {
   "cell_type": "code",
   "execution_count": null,
   "metadata": {},
   "outputs": [],
   "source": [
    "# Existe um valor estranho (que parece incorreto: 20-1) que impede a conversão para inteiro na coluna COD_IDADE. Poderíamos remover ou tratar este valor,\n",
    "# porém como não sabemos para que serve este campo e não encontramos ele no dicionário de dados, estamos descartando-o.\n",
    "# Além disso, outras colunas que, no nosso entendimento, não serão importantes para o objetivo e escopo deste projeto estão sendo descartadas.\n",
    "# Assim como colunas que possuem mais de 90% de seus registros com valor em branco (faltante) também foram removidas.\n",
    "df = df.drop(['COD_IDADE', 'SEM_NOT', 'OBES_IMC', 'DT_UT_DOSE', 'MAE_VAC', 'DT_VAC_MAE',\n",
    "       'M_AMAMENTA', 'DT_DOSEUNI', 'DT_1_DOSE', 'DT_2_DOSE', 'DT_ANTIVIR',\n",
    "       'DT_RAIOX', 'DT_COLETA', 'DT_PCR', 'POS_PCRFLU', 'TP_FLU_PCR',\n",
    "       'PCR_FLUASU', 'FLUASU_OUT', 'PCR_FLUBLI', 'FLUBLI_OUT',\n",
    "       'POS_PCROUT', 'PCR_VSR', 'PCR_PARA1', 'PCR_PARA2', 'PCR_PARA3',\n",
    "       'PCR_PARA4', 'PCR_ADENO', 'PCR_METAP', 'PCR_BOCA', 'PCR_RINO',\n",
    "       'PCR_OUTRO', 'DS_PCR_OUT', 'DT_TOMO', 'TP_TES_AN', 'DT_RES_AN',\n",
    "       'POS_AN_FLU', 'TP_FLU_AN', 'POS_AN_OUT', 'AN_VSR',\n",
    "       'AN_PARA1', 'AN_PARA2', 'AN_PARA3', 'AN_ADENO', 'AN_OUTRO',\n",
    "       'DS_AN_OUT', 'OUT_ANIM', 'LO_PS_VGM', 'DT_VGM', 'DT_RT_VGM',\n",
    "       'PAIS_VGM', 'CO_PS_VGM', 'CS_ETINIA', 'OUT_SOR', 'SOR_OUT',\n",
    "       'OUT_ANTIV', 'TOMO_OUT', 'PAC_COCBO', 'PAC_DSCBO', 'DT_CO_SOR',\n",
    "       'DT_RES', 'TP_AM_SOR', 'TP_SOR', 'DT_SIN_PRI', 'CS_ESCOL_N', 'CO_PAIS', 'ID_PAIS'], axis=1)"
   ]
  },
  {
   "cell_type": "code",
   "execution_count": null,
   "metadata": {},
   "outputs": [],
   "source": [
    "# df = df.drop(['ID_PAIS'], axis=1)"
   ]
  },
  {
   "cell_type": "code",
   "execution_count": null,
   "metadata": {},
   "outputs": [],
   "source": [
    "df[df.columns[16:]].head()"
   ]
  },
  {
   "cell_type": "code",
   "execution_count": null,
   "metadata": {},
   "outputs": [],
   "source": [
    "df.shape"
   ]
  },
  {
   "cell_type": "code",
   "execution_count": null,
   "metadata": {},
   "outputs": [],
   "source": [
    "# Filtrando para utilizar apenas dados de pacientes notificados e internados em SC\n",
    "df = df.loc[(df['SG_UF_NOT'] == 'SC') & (df['SG_UF_NOT'] == df['SG_UF_INTE']) & (df['CLASSI_FIN'] == 5)]"
   ]
  },
  {
   "cell_type": "code",
   "execution_count": null,
   "metadata": {},
   "outputs": [],
   "source": [
    "# verificando se há dados duplicados\n",
    "df.duplicated().any()"
   ]
  },
  {
   "cell_type": "code",
   "execution_count": null,
   "metadata": {},
   "outputs": [],
   "source": [
    "# Verificando se, ao definir FATOR_RISC = 'N', os demais campos relacionados a fatores de risco estarão como Ignorado (verifiquei que sim)\n",
    "df[['FATOR_RISC', 'CARDIOPATI', 'PUERPERA', 'HEMATOLOGI', 'SIND_DOWN', 'HEPATICA', 'ASMA', 'DIABETES', 'NEUROLOGIC', 'PNEUMOPATI', 'IMUNODEPRE', 'RENAL', 'OBESIDADE', 'OUT_MORBI', 'MORB_DESC']]"
   ]
  },
  {
   "cell_type": "code",
   "execution_count": null,
   "metadata": {},
   "outputs": [],
   "source": [
    "# Verificando quantos valores distintos existem para MORB_DESC (verifiquei que são muitos e não daria pra converter para colunas, pois aumentaria muito o número de features)\n",
    "outrasMorb = pd.Series(df['MORB_DESC'].unique())\n",
    "print(\"Qtd: \", outrasMorb.shape[0])\n",
    "outrasMorb.head(10).to_markdown(tablefmt='html')"
   ]
  },
  {
   "cell_type": "code",
   "execution_count": null,
   "metadata": {},
   "outputs": [],
   "source": [
    "# Preencher como 2-Não nos fatores de risco em branco quando FATOR_RISC = 2-Não\n",
    "def preencherComBaseEmOutraColuna(linha, colunaBase, valorBase, colunasPreencher, valorPreencher):\n",
    "    if (linha[colunaBase] == valorBase):\n",
    "        for colunaPreencher in colunasPreencher:\n",
    "            if (math.isnan(linha[colunaPreencher])):\n",
    "                linha[colunaPreencher] = valorPreencher\n",
    "    return linha\n",
    "\n",
    "df = df.apply(lambda linha: preencherComBaseEmOutraColuna(linha, 'FATOR_RISC', 'N', ['CARDIOPATI', 'PUERPERA', 'HEMATOLOGI', 'SIND_DOWN', 'HEPATICA', 'ASMA', 'DIABETES', 'NEUROLOGIC', 'PNEUMOPATI', 'IMUNODEPRE', 'RENAL', 'OBESIDADE', 'OUT_MORBI'], 2), axis=1)"
   ]
  },
  {
   "cell_type": "code",
   "execution_count": null,
   "metadata": {},
   "outputs": [],
   "source": [
    "# Verificando valores dos fatores de risco faltantes\n",
    "friscos = df[['FATOR_RISC', 'CARDIOPATI', 'PUERPERA', 'HEMATOLOGI', 'SIND_DOWN', 'HEPATICA', 'ASMA', 'DIABETES', 'NEUROLOGIC', 'PNEUMOPATI', 'IMUNODEPRE', 'RENAL', 'OBESIDADE', 'OUT_MORBI']]\n",
    "friscos[friscos.isna().any(axis=1)]"
   ]
  },
  {
   "cell_type": "code",
   "execution_count": null,
   "metadata": {},
   "outputs": [],
   "source": [
    "# como são muitos registros (proporcionalmente ao total de registros disponíveis 3 mil de 17 mil) que estão com NaN, irei considerar que não possui aquele fator de risco que está como Ignorado\n",
    "df = df.apply(lambda linha: preencherComBaseEmOutraColuna(linha, 'FATOR_RISC', 'S', ['CARDIOPATI', 'PUERPERA', 'HEMATOLOGI', 'SIND_DOWN', 'HEPATICA', 'ASMA', 'DIABETES', 'NEUROLOGIC', 'PNEUMOPATI', 'IMUNODEPRE', 'RENAL', 'OBESIDADE', 'OUT_MORBI'], 2), axis=1)\n",
    "df[['CARDIOPATI', 'PUERPERA', 'HEMATOLOGI', 'SIND_DOWN', 'HEPATICA', 'ASMA', 'DIABETES', 'NEUROLOGIC', 'PNEUMOPATI', 'IMUNODEPRE', 'RENAL', 'OBESIDADE', 'OUT_MORBI']]"
   ]
  },
  {
   "cell_type": "code",
   "execution_count": null,
   "metadata": {},
   "outputs": [],
   "source": [
    "# confirmando que foi corrigido\n",
    "friscosCorrigidos = df[['FATOR_RISC', 'CARDIOPATI', 'PUERPERA', 'HEMATOLOGI', 'SIND_DOWN', 'HEPATICA', 'ASMA', 'DIABETES', 'NEUROLOGIC', 'PNEUMOPATI', 'IMUNODEPRE', 'RENAL', 'OBESIDADE', 'OUT_MORBI']]\n",
    "friscosCorrigidos[friscosCorrigidos.isna().any(axis=1)]"
   ]
  },
  {
   "cell_type": "code",
   "execution_count": null,
   "metadata": {},
   "outputs": [],
   "source": [
    "# verificando percentuais de valores faltantes dos sinais e sintomas\n",
    "calcularEListarFaltantes(df[['FEBRE', 'TOSSE', 'GARGANTA', 'DISPNEIA', 'DESC_RESP', 'SATURACAO', 'DIARREIA', 'VOMITO', 'DOR_ABD', 'FADIGA', 'PERD_OLFT', 'PERD_PALA']], 0)"
   ]
  },
  {
   "cell_type": "code",
   "execution_count": null,
   "metadata": {},
   "outputs": [],
   "source": [
    "# Verificando valores dos sinais e sintomas faltantes\n",
    "sintomas = df[['FEBRE', 'TOSSE', 'GARGANTA', 'DISPNEIA', 'DESC_RESP', 'SATURACAO', 'DIARREIA', 'VOMITO', 'DOR_ABD', 'FADIGA', 'PERD_OLFT', 'PERD_PALA']]\n",
    "sintomas[sintomas.isna().any(axis=1)]"
   ]
  },
  {
   "cell_type": "code",
   "execution_count": null,
   "metadata": {},
   "outputs": [],
   "source": [
    "# como são muitos registros com algum sinal/sintoma faltante, considerei que não possui o sintoma\n",
    "df.fillna(value={'FEBRE': 2, 'TOSSE': 2, 'GARGANTA': 2, 'DISPNEIA': 2, 'DESC_RESP': 2, 'SATURACAO': 2, 'DIARREIA': 2, 'VOMITO': 2, 'DOR_ABD': 2, 'FADIGA': 2, 'PERD_OLFT': 2, 'PERD_PALA': 2}, inplace=True)"
   ]
  },
  {
   "cell_type": "code",
   "execution_count": null,
   "metadata": {},
   "outputs": [],
   "source": [
    "# confirmando o preenchimento\n",
    "df[['FEBRE', 'TOSSE', 'GARGANTA', 'DISPNEIA', 'DESC_RESP', 'SATURACAO', 'DIARREIA', 'VOMITO', 'DOR_ABD', 'FADIGA', 'PERD_OLFT', 'PERD_PALA']]"
   ]
  },
  {
   "cell_type": "code",
   "execution_count": null,
   "metadata": {},
   "outputs": [],
   "source": [
    "df.head()"
   ]
  },
  {
   "cell_type": "code",
   "execution_count": null,
   "metadata": {},
   "outputs": [],
   "source": [
    "# Removi as colunas que não seriam utilizadas ou que possuíam muitos valores faltantes que não valeria a pena excluir os registros do dataset\n",
    "df = df.drop(['SEM_PRI', 'CO_REGIONA', 'ID_UNIDADE', 'CO_UNI_NOT', 'CO_RG_RESI', 'SURTO_SG', 'NOSOCOMIAL', 'OUTRO_DES', 'MORB_DESC', 'TP_ANTIVIR', 'DT_INTERNA', 'CO_RG_INTE',\n",
    "             'DT_ENTUTI', 'DT_SAIDUTI', 'RAIOX_OUT', 'AMOSTRA', 'TP_AMOSTRA', 'OUT_AMOST', 'CLASSI_OUT', 'CRITERIO', 'DT_EVOLUCA', 'DT_ENCERRA', 'DT_DIGITA', 'CS_GESTANT', 'DT_NOTIFIC', 'DT_NASC'], axis=1)"
   ]
  },
  {
   "cell_type": "code",
   "execution_count": null,
   "metadata": {},
   "outputs": [],
   "source": [
    "# usei este comando para incrementalmente ir removendo as colunas\n",
    "# df = df.drop(['DT_NASC'], axis=1)"
   ]
  },
  {
   "cell_type": "code",
   "execution_count": null,
   "metadata": {},
   "outputs": [],
   "source": [
    "# Utilizei este comando para verificar coluna por coluna os valores nulos e decidir se excluiria a coluna ou preencheria (e com qual valor)\n",
    "df.loc[df['SUPORT_VEN'].isnull()]"
   ]
  },
  {
   "cell_type": "code",
   "execution_count": null,
   "metadata": {},
   "outputs": [],
   "source": [
    "df['SUPORT_VEN'].mode()"
   ]
  },
  {
   "cell_type": "code",
   "execution_count": null,
   "metadata": {},
   "outputs": [],
   "source": [
    "# Considerei a moda 1-Zona Urbana\n",
    "df.fillna({'CS_ZONA':1}, inplace=True)\n",
    "\n",
    "# Utilizei a moda 2-Não\n",
    "df.fillna({'AVE_SUINO': 2}, inplace=True)\n",
    "\n",
    "# Utilizei a moda 2-Não\n",
    "df.fillna({'OUTRO_SIN': 2}, inplace=True)\n",
    "\n",
    "# Utilizei a moda 2-Não\n",
    "df.fillna({'VACINA': 2}, inplace=True)\n",
    "\n",
    "# Utilizei a moda 2-Não\n",
    "df.fillna({'ANTIVIRAL': 2}, inplace=True)\n",
    "\n",
    "# Utilizei a moda 1-Sim\n",
    "df.fillna({'HOSPITAL': 1}, inplace=True)\n",
    "\n",
    "# Utilizei a moda 2-Não\n",
    "df.fillna({'UTI': 2}, inplace=True)\n",
    "\n",
    "# Utilizei a moda 2-Sim, não invasivo\n",
    "df.fillna({'SUPORT_VEN': 2}, inplace=True)\n",
    "\n",
    "# Utilizei a moda 6-Não realizado\n",
    "df.fillna({'RAIOX_RES': 6}, inplace=True)\n",
    "\n",
    "# Defini 2-Não, pois geralmente não possui outros dados relacionados também\n",
    "df.fillna({'AMOSTRA': 2}, inplace=True)\n",
    "\n",
    "# Utilizei a moda 1-Cura\n",
    "df.fillna({'EVOLUCAO': 1}, inplace=True)\n",
    "\n",
    "# Utilizei a moda 2-Não\n",
    "df.fillna({'HISTO_VGM': 2}, inplace=True)\n",
    "\n",
    "# Setei para 2-Não pois vazio significa não marcado\n",
    "df.fillna({'PCR_SARS2': 2}, inplace=True)\n",
    "\n",
    "# Defini como 6-Não realizado\n",
    "df.fillna({'TOMO_RES': 6}, inplace=True)\n",
    "\n",
    "# Setei para 2-Não pois vazio significa não marcado\n",
    "df.fillna({'AN_SARS2': 2}, inplace=True)\n",
    "\n",
    "# Usei a moda 1-Branca\n",
    "df.fillna({'CS_RACA': 1}, inplace=True)"
   ]
  },
  {
   "cell_type": "code",
   "execution_count": null,
   "metadata": {},
   "outputs": [],
   "source": [
    "# Usei este comando para ver aos poucos as colunas e tratar os faltantes com os comandos acima\n",
    "df[df.columns[57:]].head()"
   ]
  },
  {
   "cell_type": "code",
   "execution_count": null,
   "metadata": {},
   "outputs": [],
   "source": [
    "df.shape"
   ]
  },
  {
   "cell_type": "code",
   "execution_count": null,
   "metadata": {},
   "outputs": [],
   "source": [
    "semIgg = df.drop(['RES_IGG', 'RES_IGM', 'RES_IGA'], axis=1)\n",
    "semIgg[semIgg.isna().any(axis=1)]"
   ]
  },
  {
   "cell_type": "code",
   "execution_count": null,
   "metadata": {},
   "outputs": [],
   "source": [
    "calcularEListarFaltantes(df, 0)"
   ]
  },
  {
   "cell_type": "code",
   "execution_count": null,
   "metadata": {},
   "outputs": [],
   "source": [
    "# Usei este comando para visualizar alguns registros com determinada coluna vazia\n",
    "df.loc[df['PCR_RESUL'].isna()]"
   ]
  },
  {
   "cell_type": "code",
   "execution_count": null,
   "metadata": {},
   "outputs": [],
   "source": [
    "# Preenchi com o município de notificação os valores que estavam em branco nos demais (internação e residência)\n",
    "regionais = df['ID_REGIONA']\n",
    "df['ID_RG_INTE'] = regionais.where(df['ID_RG_INTE'].isna(), other=df['ID_RG_INTE'])\n",
    "df['ID_RG_RESI'] = regionais.where(df['ID_RG_RESI'].isna(), other=df['ID_RG_RESI'])\n",
    "\n",
    "codMunicipios = df['CO_MUN_NOT']\n",
    "df['CO_MU_INTE'] = codMunicipios.where(df['CO_MU_INTE'].isna(), other=df['CO_MU_INTE'])\n",
    "df['CO_MUN_RES'] = codMunicipios.where(df['CO_MUN_RES'].isna(), other=df['CO_MUN_RES'])\n",
    "\n",
    "idsMunicipios = df['ID_MUNICIP']\n",
    "df['ID_MN_INTE'] = idsMunicipios.where(df['ID_MN_INTE'].isna(), other=df['ID_MN_INTE'])\n",
    "df['ID_MN_RESI'] = idsMunicipios.where(df['ID_MN_RESI'].isna(), other=df['ID_MN_RESI'])"
   ]
  },
  {
   "cell_type": "code",
   "execution_count": null,
   "metadata": {},
   "outputs": [],
   "source": [
    "df.describe()"
   ]
  },
  {
   "cell_type": "code",
   "execution_count": null,
   "metadata": {},
   "outputs": [],
   "source": [
    "# listando as colunas\n",
    "pd.Series(df.columns.values).to_markdown(tablefmt=\"html\")"
   ]
  },
  {
   "cell_type": "code",
   "execution_count": null,
   "metadata": {},
   "outputs": [],
   "source": [
    "# Binarização com 0 e 1 ao invés de 1 e 2\n",
    "df = df.replace(2, {'FEBRE': 0,\n",
    "               'TOSSE': 0,\n",
    "               'GARGANTA': 0,\n",
    "               'DISPNEIA': 0,\n",
    "               'DESC_RESP': 0,\n",
    "               'SATURACAO': 0,\n",
    "               'DIARREIA': 0,\n",
    "               'VOMITO': 0,\n",
    "               'DOR_ABD': 0,\n",
    "               'FADIGA': 0,\n",
    "               'PERD_OLFT': 0,\n",
    "               'PERD_PALA': 0,\n",
    "               'OUTRO_SIN': 0,\n",
    "               'PUERPERA': 0,\n",
    "               'CARDIOPATI': 0,\n",
    "               'HEMATOLOGI': 0,\n",
    "               'SIND_DOWN': 0,\n",
    "               'HEPATICA': 0,\n",
    "               'ASMA': 0,\n",
    "               'DIABETES': 0,\n",
    "               'NEUROLOGIC': 0,\n",
    "               'PNEUMOPATI': 0,\n",
    "               'IMUNODEPRE': 0,\n",
    "               'RENAL': 0,\n",
    "               'OBESIDADE': 0,\n",
    "               'OUT_MORBI': 0,\n",
    "               'HISTO_VGM': 0,\n",
    "               'VACINA': 0,\n",
    "               'ANTIVIRAL': 0,\n",
    "               'HOSPITAL': 0,\n",
    "               'UTI': 0,\n",
    "               'AVE_SUINO': 0,\n",
    "               'AN_SARS2': 0,\n",
    "               'PCR_SARS2': 0})"
   ]
  },
  {
   "cell_type": "code",
   "execution_count": null,
   "metadata": {},
   "outputs": [],
   "source": [
    "df = df.replace('S', {'FATOR_RISC': 1 })\n",
    "df = df.replace('N', {'FATOR_RISC': 0 })"
   ]
  },
  {
   "cell_type": "code",
   "execution_count": null,
   "metadata": {},
   "outputs": [],
   "source": [
    "df[['SUPORT_VEN']].hist()"
   ]
  },
  {
   "cell_type": "code",
   "execution_count": null,
   "metadata": {},
   "outputs": [],
   "source": [
    "# Tentei fazer isso, mas acho que pode perder uma informação importante.\n",
    "# Isso porque ao binarizar o campo, a correlação entre ele e o campo UTI diminuiu bastante\n",
    "#df = df.replace(2, {'SUPORT_VEN': 1 })\n",
    "#df = df.replace(3, {'SUPORT_VEN': 0 })"
   ]
  },
  {
   "cell_type": "code",
   "execution_count": null,
   "metadata": {},
   "outputs": [],
   "source": [
    "# Aqui buscou-se verificar a quantidade por classificação final do caso\n",
    "#    1-SRAG por influenza\n",
    "#    2-SRAG por outro vírus respiratório\n",
    "#    3-SRAG por outro agente etiológico, qual:\n",
    "#    4-SRAG não especificado\n",
    "#    5-SRAG por COVID-19\n",
    "df[['CLASSI_FIN']].hist()"
   ]
  },
  {
   "cell_type": "code",
   "execution_count": null,
   "metadata": {},
   "outputs": [],
   "source": [
    "corr = df[['FEBRE', 'TOSSE', 'GARGANTA', 'DISPNEIA', 'DESC_RESP', 'SATURACAO', 'DIARREIA', 'VOMITO', 'OUTRO_SIN', 'PUERPERA', 'CARDIOPATI', 'HEMATOLOGI', 'SIND_DOWN', 'HEPATICA', 'ASMA', 'DIABETES', 'NEUROLOGIC', 'PNEUMOPATI', 'IMUNODEPRE', 'RENAL', 'OBESIDADE', 'OUT_MORBI', 'DOR_ABD', 'UTI', 'SUPORT_VEN']].corr()\n",
    "corr"
   ]
  },
  {
   "cell_type": "code",
   "execution_count": null,
   "metadata": {},
   "outputs": [],
   "source": [
    "# verificando variáveis mais correlacionadas conforme exemplo do professor Francisco Aparecido Rodrigues, francisco@icmc.usp.br.\n",
    "# disponível em https://github.com/franciscoicmc/ciencia-de-dados/blob/master/Aula1-Preparacao-transformacao.ipynb\n",
    "\n",
    "p = 0.75 # correlação mínima\n",
    "var = []\n",
    "for i in corr.columns:\n",
    "    for j in corr.columns:\n",
    "        if(i != j):\n",
    "            if np.abs(corr[i][j]) > p: # se maior do que |p|\n",
    "                var.append([i,j])\n",
    "print('Variáveis mais correlacionadas:\\n', var)"
   ]
  },
  {
   "cell_type": "code",
   "execution_count": null,
   "metadata": {},
   "outputs": [],
   "source": [
    "# distribuição de frequências\n",
    "def calcularDistribuicaoDeFrequencias(colunas):\n",
    "    distFreq = pd.DataFrame()\n",
    "    for c in colunas:\n",
    "        distFreq[c] = df[c].value_counts(normalize=True)\n",
    "    return distFreq\n",
    "\n",
    "display(calcularDistribuicaoDeFrequencias(friscos))\n",
    "display(calcularDistribuicaoDeFrequencias(sintomas))\n",
    "display(calcularDistribuicaoDeFrequencias(['CLASSI_FIN']))\n",
    "display(calcularDistribuicaoDeFrequencias(['SUPORT_VEN']))"
   ]
  },
  {
   "cell_type": "code",
   "execution_count": null,
   "metadata": {},
   "outputs": [],
   "source": [
    "df.head()"
   ]
  },
  {
   "cell_type": "code",
   "execution_count": null,
   "metadata": {},
   "outputs": [],
   "source": [
    "#  RES_AN\n",
    "#  1-positivo\n",
    "#  2-Negativo\n",
    "#  3-Inconclusivo\n",
    "#  4-Não realizado\n",
    "#  5-Aguardando resultado\n",
    "#  9-Ignorado\n",
    "\n",
    "# AN_SARS2\n",
    "# 0-Não marcado\n",
    "# 1-marcado pelo usuário\n",
    "\n",
    "# PCR_RESUL\n",
    "# 1-Detectável\n",
    "# 2-Não Detectável\n",
    "# 3-Inconclusivo\n",
    "# 4-Não Realizado\n",
    "# 5-Aguardando Resultado\n",
    "# 9-Ignorado\n",
    "\n",
    "# PCR_SARS2\n",
    "# 0-Não marcado\n",
    "# 1-marcado pelo usuário\n",
    "\n",
    "# CLASSI_FIN\n",
    "# 1-SRAG por influenza\n",
    "# 2-SRAG por outro vírus respiratório\n",
    "# 3-SRAG por outro agente etiológico, qual:\n",
    "# 4-SRAG não especificado\n",
    "# 5-SRAG por COVID-19\n",
    "\n",
    "# Usei esse comando para descobrir como estavam preenchidos os resultados dos exames em relação à classificação final\n",
    "df[['TOMO_RES', 'RAIOX_RES','RES_AN', 'AN_SARS2', 'PCR_RESUL', 'PCR_SARS2', 'RES_IGG', 'RES_IGM', 'RES_IGA', 'CLASSI_FIN']]"
   ]
  },
  {
   "cell_type": "code",
   "execution_count": null,
   "metadata": {},
   "outputs": [],
   "source": [
    "# Removendo bebês para termos apenas pessoas com idade com valor inteiro em anos\n",
    "df = df.loc[df['TP_IDADE'] == 3]"
   ]
  },
  {
   "cell_type": "code",
   "execution_count": null,
   "metadata": {},
   "outputs": [],
   "source": [
    "df = df.drop(['RES_AN', 'AN_SARS2', 'PCR_RESUL', 'PCR_SARS2', 'RES_IGG', 'RES_IGM', 'RES_IGA', 'CLASSI_FIN'], axis=1)"
   ]
  },
  {
   "cell_type": "code",
   "execution_count": null,
   "metadata": {},
   "outputs": [],
   "source": [
    "df = df.drop(['TP_IDADE'], axis=1)"
   ]
  },
  {
   "cell_type": "code",
   "execution_count": null,
   "metadata": {},
   "outputs": [],
   "source": [
    "df.head()"
   ]
  }
 ],
 "metadata": {
  "colab": {
   "authorship_tag": "ABX9TyNd/3h8I7kqNaAhNmli6XE2",
   "include_colab_link": true,
   "name": "eda.ipynb",
   "provenance": []
  },
  "kernelspec": {
   "display_name": "Python 3",
   "language": "python",
   "name": "python3"
  },
  "language_info": {
   "codemirror_mode": {
    "name": "ipython",
    "version": 3
   },
   "file_extension": ".py",
   "mimetype": "text/x-python",
   "name": "python",
   "nbconvert_exporter": "python",
   "pygments_lexer": "ipython3",
   "version": "3.7.5"
  }
 },
 "nbformat": 4,
 "nbformat_minor": 4
}
