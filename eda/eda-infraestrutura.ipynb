{
 "cells": [
  {
   "cell_type": "code",
   "execution_count": null,
   "metadata": {},
   "outputs": [],
   "source": [
    "# Análise exploratória de dados e preparação de dados por Flávio Silvino\n",
    "import pandas as pd\n",
    "import numpy as np\n",
    "pd.set_option('display.max_columns', None)"
   ]
  },
  {
   "cell_type": "code",
   "execution_count": null,
   "metadata": {},
   "outputs": [],
   "source": [
    "# Inicialmente o carregamento havia sido feito mais simples:\n",
    "# Depois fui incrementando com as descobertas feitas durante a exploração\n",
    "df = pd.read_csv('infraestrutura_sc.csv', \n",
    "                 delimiter=',', \n",
    "                 dtype={'IBGE': str}, \n",
    "                 converters={\n",
    "                     'total': lambda x: pd.to_numeric(x, errors='coerce', downcast='integer'),\n",
    "                 }\n",
    "                )"
   ]
  },
  {
   "cell_type": "code",
   "execution_count": null,
   "metadata": {},
   "outputs": [],
   "source": [
    "df['total'].fillna(0, inplace=True)"
   ]
  },
  {
   "cell_type": "code",
   "execution_count": null,
   "metadata": {},
   "outputs": [],
   "source": [
    "# número de linhas e colunas\n",
    "pd.set_option(\"display.max_rows\", 12013)\n",
    "df.shape"
   ]
  },
  {
   "cell_type": "code",
   "execution_count": null,
   "metadata": {
    "scrolled": true
   },
   "outputs": [],
   "source": [
    "for index, row in df.iterrows():\n",
    "    print(row)"
   ]
  },
  {
   "cell_type": "code",
   "execution_count": null,
   "metadata": {},
   "outputs": [],
   "source": [
    "for i, name in enumerate(df.columns.values):\n",
    "        print(str(i) + ' - ' + name + ': ')\n",
    "        print('dtype: ', df[name].dtype)\n",
    "        print('Valores: ', end='')\n",
    "        print(df[name].unique())\n",
    "        print()"
   ]
  },
  {
   "cell_type": "code",
   "execution_count": null,
   "metadata": {
    "scrolled": true
   },
   "outputs": [],
   "source": [
    "df.tail(12013)"
   ]
  },
  {
   "cell_type": "code",
   "execution_count": null,
   "metadata": {},
   "outputs": [],
   "source": [
    "numerosIBGE = pd.Series(df['IBGE'].unique()).dropna()"
   ]
  },
  {
   "cell_type": "code",
   "execution_count": null,
   "metadata": {},
   "outputs": [],
   "source": [
    "numerosIBGE.head()"
   ]
  },
  {
   "cell_type": "code",
   "execution_count": null,
   "metadata": {},
   "outputs": [],
   "source": [
    "for index, value in numerosIBGE.items():\n",
    "    cellIBGE = df['IBGE']\n",
    "    cellNome = df['nome']\n",
    "    isByIBGE = cellIBGE == value\n",
    "    print(df[isByIBGE])"
   ]
  },
  {
   "cell_type": "code",
   "execution_count": null,
   "metadata": {},
   "outputs": [],
   "source": [
    "print(df[df['IBGE'] == '4200051'])"
   ]
  },
  {
   "cell_type": "code",
   "execution_count": null,
   "metadata": {},
   "outputs": [],
   "source": [
    "dtByIBGE = df[df['IBGE'] == '4200051']\n",
    "count=0\n",
    "indexColunaBaseTotal = 2\n",
    "for index, row in dtByIBGE.items():\n",
    "    count=count+1\n",
    "    if(count >= 1 and count <= 3):\n",
    "        if index == 'total':\n",
    "            print(f\"index: {index}, total 2: {row[indexColunaBaseTotal]}, total 3: {row[indexColunaBaseTotal+1]}\")"
   ]
  },
  {
   "cell_type": "code",
   "execution_count": null,
   "metadata": {},
   "outputs": [],
   "source": [
    "dtByIBGE = df[df['IBGE'] == '4200051']\n",
    "count=0\n",
    "indexColunaBaseTotal = 2\n",
    "for index, row in dtByIBGE.items():\n",
    "    count=count+1\n",
    "    if(count >= 1 and count <= 3):\n",
    "        if index == 'total':\n",
    "            print(f\"index: {index}, row: {row}\")\n",
    "            print(f\"index: {index}, total 2: {row[indexColunaBaseTotal]}, total 3: {row[indexColunaBaseTotal+1]}\")\n",
    "            total2 = int(row[2])\n",
    "            total3 = int(row[3])\n",
    "            soma = total2 + total3\n",
    "            porcetagemNaoLogradouro = total3/soma*100\n",
    "            print(f\"porcetagemNaoLogradouro: {porcetagemNaoLogradouro}\")      "
   ]
  },
  {
   "cell_type": "code",
   "execution_count": null,
   "metadata": {},
   "outputs": [],
   "source": [
    "dfPorcetagem = pd.DataFrame() \n",
    "dfPorcetagem.head()"
   ]
  },
  {
   "cell_type": "code",
   "execution_count": null,
   "metadata": {},
   "outputs": [],
   "source": [
    "dfPorcetagem = pd.DataFrame() \n",
    "ibge_series_new = pd.Series([],dtype=pd.StringDtype()) \n",
    "count=0\n",
    "for index, value in numerosIBGE.items():\n",
    "    #print(f\"index: {index}, value: {value}\")\n",
    "    ibge_series_new[count]=value\n",
    "    count+=1\n",
    "    #print(ibge_new)\n",
    "dfPorcetagem.insert(0, \"ibge\", ibge_series_new) \n",
    "dfPorcetagem.head(293) "
   ]
  },
  {
   "cell_type": "code",
   "execution_count": null,
   "metadata": {
    "scrolled": true
   },
   "outputs": [],
   "source": [
    "indexColunaBaseNaoLogradouro = 2\n",
    "index_porcentagem_nao_logradouro_series_new = 0\n",
    "count=0\n",
    "porcentagem_nao_logradouro_series_new = pd.Series([],dtype=np.float16) \n",
    "for index, value in numerosIBGE.items():\n",
    "    #print(f\"value: {value}\")\n",
    "    dtByIBGE = df[df['IBGE'] == value]\n",
    "    for index, row in dtByIBGE.items():\n",
    "        #print(f\"row: {row}\")\n",
    "        if index == 'total':\n",
    "            #print(f\"index: {index}, total 2: {row[indexColunaBaseNaoLogradouro]}, total 3: {row[indexColunaBaseNaoLogradouro+1]}\")\n",
    "            total2 = int(row[indexColunaBaseNaoLogradouro])\n",
    "            total3 = int(row[indexColunaBaseNaoLogradouro+1])\n",
    "            soma = total2 + total3\n",
    "            porcetagemNaoLogradouro = total3/soma*100\n",
    "            #print(f\"index_porcentagem_nao_logradouro_series_new: {index_porcentagem_nao_logradouro_series_new}\")\n",
    "            #print(f\"count: {count}\")\n",
    "            #print(f\"IBGE: {value}\")\n",
    "            #print(f\"porcetagemNaoLogradouro: {porcetagemNaoLogradouro}\")\n",
    "            porcentagem_nao_logradouro_series_new[index_porcentagem_nao_logradouro_series_new]=porcetagemNaoLogradouro\n",
    "            index_porcentagem_nao_logradouro_series_new += 1\n",
    "            indexColunaBaseNaoLogradouro += 41\n",
    "            count += 1\n",
    "#print(f\"SERIE\")            \n",
    "#print(f\"{porcentagem_nao_logradouro_series_new}\")\n",
    "dfPorcetagem.insert(1, \"porcentagem não logradouro\", porcentagem_nao_logradouro_series_new)  \n",
    "dfPorcetagem.head(293) "
   ]
  },
  {
   "cell_type": "code",
   "execution_count": null,
   "metadata": {},
   "outputs": [],
   "source": [
    "indexColunaBaseNao = 6\n",
    "index_porcentagem_nao_iluminacao_series_new = 0\n",
    "porcentagem_nao_iluminacao_series_new = pd.Series([], dtype=np.float16)\n",
    "for index, value in numerosIBGE.items():\n",
    "    #print(f\"value: {value}\")\n",
    "    dtByIBGE = df[df['IBGE'] == value]\n",
    "    count=0\n",
    "    for index, row in dtByIBGE.items():\n",
    "        count=count+1  \n",
    "        if index == 'total':\n",
    "            #print(f\"row: {row}\")\n",
    "            #print(f\"index: {index}, total 2: {row[indexColunaBaseNao]}, total 3: {row[indexColunaBaseNao+1]}\")\n",
    "            total2 = int(row[indexColunaBaseNao])\n",
    "            total3 = int(row[indexColunaBaseNao+1])\n",
    "            soma = total2 + total3\n",
    "            porcetagemNaoIluminacao = total3/soma*100\n",
    "            #print(f\"porcetagemNaoIluminacao: {porcetagemNaoIluminacao}\")\n",
    "            porcentagem_nao_iluminacao_series_new[index_porcentagem_nao_iluminacao_series_new]=porcetagemNaoIluminacao\n",
    "            index_porcentagem_nao_iluminacao_series_new += 1\n",
    "            indexColunaBaseNao += 41\n",
    "print(f\"SERIE: {porcentagem_nao_iluminacao_series_new}\")\n",
    "dfPorcetagem.insert(2, \"porcentagem não iluminação\", porcentagem_nao_iluminacao_series_new)  \n",
    "dfPorcetagem.head(25) "
   ]
  },
  {
   "cell_type": "code",
   "execution_count": null,
   "metadata": {},
   "outputs": [],
   "source": [
    "indexColunaBaseNao = 10\n",
    "index_porcentagem_nao_pavimentacao_series_new = 0\n",
    "porcentagem_nao_pavimentacao_series_new = pd.Series([], dtype=np.float16)\n",
    "for index, value in numerosIBGE.items():\n",
    "    #print(f\"value: {value}\")\n",
    "    dtByIBGE = df[df['IBGE'] == value]\n",
    "    count=0\n",
    "    for index, row in dtByIBGE.items():\n",
    "        count=count+1  \n",
    "        if index == 'total':\n",
    "            #print(f\"row: {row}\")\n",
    "            #print(f\"index: {index}, total 2: {row[indexColunaBaseNao]}, total 3: {row[indexColunaBaseNao+1]}\")\n",
    "            total2 = int(row[indexColunaBaseNao])\n",
    "            total3 = int(row[indexColunaBaseNao+1])\n",
    "            soma = total2 + total3\n",
    "            porcetagemNaoPavimentacao = total3/soma*100\n",
    "            #print(f\"porcetagemNaoPavimentacao: {porcetagemNaoPavimentacao}\")\n",
    "            porcentagem_nao_pavimentacao_series_new[index_porcentagem_nao_pavimentacao_series_new]=porcetagemNaoPavimentacao\n",
    "            index_porcentagem_nao_pavimentacao_series_new += 1\n",
    "            indexColunaBaseNao += 41\n",
    "dfPorcetagem.insert(3, \"porcentagem não pavimentação\", porcentagem_nao_pavimentacao_series_new)  \n",
    "dfPorcetagem.head(25) "
   ]
  },
  {
   "cell_type": "code",
   "execution_count": null,
   "metadata": {},
   "outputs": [],
   "source": [
    "indexColunaBaseNao = 14\n",
    "index_porcentagem_nao_calcada_series_new = 0\n",
    "porcentagem_nao_calcada_series_new = pd.Series([], dtype=np.float16)\n",
    "for index, value in numerosIBGE.items():\n",
    "    #print(f\"value: {value}\")\n",
    "    dtByIBGE = df[df['IBGE'] == value]\n",
    "    count=0\n",
    "    for index, row in dtByIBGE.items():\n",
    "        count=count+1  \n",
    "        if index == 'total':\n",
    "            #print(f\"row: {row}\")\n",
    "            #print(f\"index: {index}, total 2: {row[indexColunaBaseNao]}, total 3: {row[indexColunaBaseNao+1]}\")\n",
    "            total2 = int(row[indexColunaBaseNao])\n",
    "            total3 = int(row[indexColunaBaseNao+1])\n",
    "            soma = total2 + total3\n",
    "            porcetagemNaoCalcada = total3/soma*100\n",
    "            #print(f\"porcetagemNaoCalcada: {porcetagemNaoCalcada}\")\n",
    "            porcentagem_nao_calcada_series_new[index_porcentagem_nao_calcada_series_new]=porcetagemNaoCalcada\n",
    "            index_porcentagem_nao_calcada_series_new += 1\n",
    "            indexColunaBaseNao += 41\n",
    "dfPorcetagem.insert(4, \"porcentagem não calçada\", porcentagem_nao_calcada_series_new)  \n",
    "dfPorcetagem.head(25) "
   ]
  },
  {
   "cell_type": "code",
   "execution_count": null,
   "metadata": {},
   "outputs": [],
   "source": [
    "indexColunaBaseNao = 18\n",
    "index_porcentagem_nao_meio_fio_ou_guia_series_new = 0\n",
    "porcentagem_nao_meio_fio_ou_guia_series_new = pd.Series([], dtype=np.float16)\n",
    "for index, value in numerosIBGE.items():\n",
    "    #print(f\"value: {value}\")\n",
    "    dtByIBGE = df[df['IBGE'] == value]\n",
    "    count=0\n",
    "    for index, row in dtByIBGE.items():\n",
    "        count=count+1  \n",
    "        if index == 'total':\n",
    "            #print(f\"row: {row}\")\n",
    "            #print(f\"index: {index}, total 2: {row[indexColunaBaseNao]}, total 3: {row[indexColunaBaseNao+1]}\")\n",
    "            total2 = int(row[indexColunaBaseNao])\n",
    "            total3 = int(row[indexColunaBaseNao+1])\n",
    "            soma = total2 + total3\n",
    "            porcetagemNaoMeioFioOuGuia = total3/soma*100\n",
    "            #print(f\"porcetagemNaoMeioFioEGuia: {porcetagemNaoMeioFioEGuia}\")\n",
    "            porcentagem_nao_meio_fio_ou_guia_series_new[index_porcentagem_nao_meio_fio_ou_guia_series_new]=porcetagemNaoMeioFioOuGuia\n",
    "            index_porcentagem_nao_meio_fio_ou_guia_series_new += 1\n",
    "            indexColunaBaseNao += 41\n",
    "dfPorcetagem.insert(5, \"porcentagem não meio-fio/guia\", porcentagem_nao_meio_fio_ou_guia_series_new)  \n",
    "dfPorcetagem.head(25) "
   ]
  },
  {
   "cell_type": "code",
   "execution_count": null,
   "metadata": {},
   "outputs": [],
   "source": [
    "indexColunaBaseNao = 22\n",
    "index_porcentagem_nao_bueiro_ou_boca_lobo_series_new = 0\n",
    "porcentagem_nao_bueiro_ou_boca_lobo_series_new = pd.Series([], dtype=np.float16)\n",
    "for index, value in numerosIBGE.items():\n",
    "    #print(f\"value: {value}\")\n",
    "    dtByIBGE = df[df['IBGE'] == value]\n",
    "    count=0\n",
    "    for index, row in dtByIBGE.items():\n",
    "        count=count+1  \n",
    "        if index == 'total':\n",
    "            #print(f\"row: {row}\")\n",
    "            #print(f\"index: {index}, total 2: {row[indexColunaBaseNao]}, total 3: {row[indexColunaBaseNao+1]}\")\n",
    "            total2 = int(row[indexColunaBaseNao])\n",
    "            total3 = int(row[indexColunaBaseNao+1])\n",
    "            soma = total2 + total3\n",
    "            porcetagemNaoBueiroOuBocaLobo = total3/soma*100\n",
    "            #print(f\"porcetagemNaoBueiroOuBocaLobo: {porcetagemNaoBueiroOuBocaLobo}\")\n",
    "            porcentagem_nao_bueiro_ou_boca_lobo_series_new[index_porcentagem_nao_bueiro_ou_boca_lobo_series_new]=porcetagemNaoBueiroOuBocaLobo\n",
    "            index_porcentagem_nao_bueiro_ou_boca_lobo_series_new += 1\n",
    "            indexColunaBaseNao += 41\n",
    "dfPorcetagem.insert(6, \"porcentagem não bueiro/boca de lobo\", porcentagem_nao_bueiro_ou_boca_lobo_series_new)  \n",
    "dfPorcetagem.head(25) "
   ]
  },
  {
   "cell_type": "code",
   "execution_count": null,
   "metadata": {},
   "outputs": [],
   "source": [
    "indexColunaBaseNao = 26\n",
    "index_porcentagem_nao_rampa_cadeirante_series_new = 0\n",
    "porcentagem_nao_rampa_cadeirante_series_new = pd.Series([], dtype=np.float16)\n",
    "for index, value in numerosIBGE.items():\n",
    "    #print(f\"value: {value}\")\n",
    "    dtByIBGE = df[df['IBGE'] == value]\n",
    "    count=0\n",
    "    for index, row in dtByIBGE.items():\n",
    "        count=count+1  \n",
    "        if index == 'total':\n",
    "            #print(f\"row: {row}\")\n",
    "            #print(f\"index: {index}, total 2: {row[indexColunaBaseNao]}, total 3: {row[indexColunaBaseNao+1]}\")\n",
    "            total2 = int(row[indexColunaBaseNao])\n",
    "            total3 = int(row[indexColunaBaseNao+1])\n",
    "            soma = total2 + total3\n",
    "            porcetagemNaoRampaCadeirante = total3/soma*100\n",
    "            #print(f\"porcetagemNaoRampaCadeirante: {porcetagemNaoRampaCadeirante}\")\n",
    "            porcentagem_nao_rampa_cadeirante_series_new[index_porcentagem_nao_rampa_cadeirante_series_new]=porcetagemNaoRampaCadeirante\n",
    "            index_porcentagem_nao_rampa_cadeirante_series_new += 1\n",
    "            indexColunaBaseNao += 41\n",
    "dfPorcetagem.insert(7, \"porcentagem não rampa cadeirante\", porcentagem_nao_rampa_cadeirante_series_new)  \n",
    "dfPorcetagem.head(25) "
   ]
  },
  {
   "cell_type": "code",
   "execution_count": null,
   "metadata": {},
   "outputs": [],
   "source": [
    "indexColunaBaseNao = 30\n",
    "index_porcentagem_nao_arborizacao_series_new = 0\n",
    "porcentagem_nao_arborizacao_series_new = pd.Series([], dtype=np.float16)\n",
    "for index, value in numerosIBGE.items():\n",
    "    #print(f\"value: {value}\")\n",
    "    dtByIBGE = df[df['IBGE'] == value]\n",
    "    count=0\n",
    "    for index, row in dtByIBGE.items():\n",
    "        count=count+1  \n",
    "        if index == 'total':\n",
    "            #print(f\"row: {row}\")\n",
    "            #print(f\"index: {index}, total 2: {row[indexColunaBaseNao]}, total 3: {row[indexColunaBaseNao+1]}\")\n",
    "            total2 = int(row[indexColunaBaseNao])\n",
    "            total3 = int(row[indexColunaBaseNao+1])\n",
    "            soma = total2 + total3\n",
    "            porcetagemNaoArborizacao = total3/soma*100\n",
    "            #print(f\"porcetagemNaoArborizacao: {porcetagemNaoArborizacao}\")\n",
    "            porcentagem_nao_arborizacao_series_new[index_porcentagem_nao_arborizacao_series_new]=porcetagemNaoArborizacao\n",
    "            index_porcentagem_nao_arborizacao_series_new += 1\n",
    "            indexColunaBaseNao += 41\n",
    "dfPorcetagem.insert(8, \"porcentagem não arborização\", porcentagem_nao_arborizacao_series_new)  \n",
    "dfPorcetagem.head(25) "
   ]
  },
  {
   "cell_type": "code",
   "execution_count": null,
   "metadata": {},
   "outputs": [],
   "source": [
    "indexColunaBaseNao = 34\n",
    "index_porcentagem_nao_esgoto_ceu_aberto_series_new = 0\n",
    "porcentagem_nao_esgoto_ceu_aberto_series_new = pd.Series([], dtype=np.float16)\n",
    "for index, value in numerosIBGE.items():\n",
    "    #print(f\"value: {value}\")\n",
    "    dtByIBGE = df[df['IBGE'] == value]\n",
    "    count=0\n",
    "    for index, row in dtByIBGE.items():\n",
    "        count=count+1  \n",
    "        if index == 'total':\n",
    "            #print(f\"row: {row}\")\n",
    "            #print(f\"index: {index}, total 2: {row[indexColunaBaseNao]}, total 3: {row[indexColunaBaseNao+1]}\")\n",
    "            total2 = int(row[indexColunaBaseNao])\n",
    "            total3 = int(row[indexColunaBaseNao+1])\n",
    "            soma = total2 + total3\n",
    "            porcetagemNaoEsgotoCeuAberto = total3/soma*100\n",
    "            #print(f\"porcetagemNaoEsgotoCeuAberto: {porcetagemNaoEsgotoCeuAberto}\")\n",
    "            porcentagem_nao_esgoto_ceu_aberto_series_new[index_porcentagem_nao_esgoto_ceu_aberto_series_new]=porcetagemNaoEsgotoCeuAberto\n",
    "            index_porcentagem_nao_esgoto_ceu_aberto_series_new += 1\n",
    "            indexColunaBaseNao += 41\n",
    "dfPorcetagem.insert(9, \"porcentagem não esgoto ceu aberto\", porcentagem_nao_esgoto_ceu_aberto_series_new)  \n",
    "dfPorcetagem.head(25) "
   ]
  },
  {
   "cell_type": "code",
   "execution_count": null,
   "metadata": {},
   "outputs": [],
   "source": [
    "indexColunaBaseNao = 38\n",
    "index_porcentagem_nao_lixo_acumulado_logradouro_series_new = 0\n",
    "porcentagem_nao_lixo_acumulado_logradouro_series_new = pd.Series([], dtype=np.float16)\n",
    "for index, value in numerosIBGE.items():\n",
    "    #print(f\"value: {value}\")\n",
    "    dtByIBGE = df[df['IBGE'] == value]\n",
    "    count=0\n",
    "    for index, row in dtByIBGE.items():\n",
    "        count=count+1  \n",
    "        if index == 'total':\n",
    "            #print(f\"row: {row}\")\n",
    "            #print(f\"index: {index}, total 2: {row[indexColunaBaseNao]}, total 3: {row[indexColunaBaseNao+1]}\")\n",
    "            total2 = int(row[indexColunaBaseNao])\n",
    "            total3 = int(row[indexColunaBaseNao+1])\n",
    "            soma = total2 + total3\n",
    "            porcetagemNaoLixoAcumuladoLogradouro = total3/soma*100\n",
    "            #print(f\"porcetagemNaoLixoAcumuladoLogradouro: {porcetagemNaoLixoAcumuladoLogradouro}\")\n",
    "            porcentagem_nao_lixo_acumulado_logradouro_series_new[index_porcentagem_nao_lixo_acumulado_logradouro_series_new]=porcetagemNaoLixoAcumuladoLogradouro\n",
    "            index_porcentagem_nao_lixo_acumulado_logradouro_series_new += 1\n",
    "            indexColunaBaseNao += 41\n",
    "dfPorcetagem.insert(10, \"porcentagem não lixo acumulado logradouro\", porcentagem_nao_lixo_acumulado_logradouro_series_new)  \n",
    "dfPorcetagem.head(25) "
   ]
  },
  {
   "cell_type": "code",
   "execution_count": null,
   "metadata": {},
   "outputs": [],
   "source": [
    "dfPorcetagem.head(293)"
   ]
  },
  {
   "cell_type": "code",
   "execution_count": null,
   "metadata": {},
   "outputs": [],
   "source": [
    "dfPorcetagem.shape"
   ]
  },
  {
   "cell_type": "code",
   "execution_count": null,
   "metadata": {},
   "outputs": [],
   "source": [
    "media = dfPorcetagem.mean(axis=1)"
   ]
  },
  {
   "cell_type": "code",
   "execution_count": null,
   "metadata": {},
   "outputs": [],
   "source": [
    "#dfPorcetagem[\"media\"] = media"
   ]
  },
  {
   "cell_type": "code",
   "execution_count": null,
   "metadata": {},
   "outputs": [],
   "source": [
    "dfPorcetagem.head(293)"
   ]
  },
  {
   "cell_type": "code",
   "execution_count": null,
   "metadata": {},
   "outputs": [],
   "source": [
    "dados_preparados_dp = pd.read_csv('dados-preparados.csv', delimiter=',', low_memory=False)"
   ]
  },
  {
   "cell_type": "code",
   "execution_count": null,
   "metadata": {},
   "outputs": [],
   "source": [
    "dfPorcetagem.to_csv('dados-preparados-infraestrtutura.csv', index=False)"
   ]
  },
  {
   "cell_type": "code",
   "execution_count": null,
   "metadata": {},
   "outputs": [],
   "source": [
    "dfPorcetagem.head()"
   ]
  },
  {
   "cell_type": "code",
   "execution_count": null,
   "metadata": {},
   "outputs": [],
   "source": [
    "dfPorcetagem['ibge'] = dfPorcetagem['ibge'].astype(np.int64)\n",
    "dfPorcetagem['ibge'] = dfPorcetagem['ibge'] // 10"
   ]
  },
  {
   "cell_type": "code",
   "execution_count": null,
   "metadata": {},
   "outputs": [],
   "source": [
    "dfPorcetagem.dtypes"
   ]
  },
  {
   "cell_type": "code",
   "execution_count": null,
   "metadata": {},
   "outputs": [],
   "source": [
    "dfPorcetagem.head()"
   ]
  },
  {
   "cell_type": "code",
   "execution_count": null,
   "metadata": {},
   "outputs": [],
   "source": [
    "dfPorcetagem.round(3)"
   ]
  },
  {
   "cell_type": "code",
   "execution_count": null,
   "metadata": {},
   "outputs": [],
   "source": [
    "dados_finais = dados_preparados_dp.merge(dfPorcetagem, how='inner', left_on = 'ibgeID', right_on = 'ibge')"
   ]
  },
  {
   "cell_type": "code",
   "execution_count": null,
   "metadata": {},
   "outputs": [],
   "source": [
    "dados_finais.head()"
   ]
  },
  {
   "cell_type": "code",
   "execution_count": null,
   "metadata": {},
   "outputs": [],
   "source": []
  },
  {
   "cell_type": "code",
   "execution_count": null,
   "metadata": {},
   "outputs": [],
   "source": [
    "#dados_finais = dados_finais.drop([\n",
    "#       'porcentagem não iluminação', \n",
    "#       'porcentagem não pavimentação', \n",
    "#       'porcentagem não calçada', \n",
    "#       'porcentagem não logradouro', \n",
    "#       'porcentagem não arborização',\n",
    "#       'porcentagem não meio-fio/guia', \n",
    "#       'porcentagem não bueiro/boca de lobo', \n",
    "#       'porcentagem não rampa cadeirante', \n",
    "#       'porcentagem não esgoto ceu aberto', \n",
    "#       'porcentagem não lixo acumulado logradouro'], axis=1)"
   ]
  },
  {
   "cell_type": "code",
   "execution_count": null,
   "metadata": {},
   "outputs": [],
   "source": [
    "dados_finais.head()"
   ]
  },
  {
   "cell_type": "code",
   "execution_count": null,
   "metadata": {},
   "outputs": [],
   "source": [
    "dados_finais.to_csv('dados-preparados-finais.csv', index=False, decimal=',',float_format='%.3f')"
   ]
  },
  {
   "cell_type": "code",
   "execution_count": null,
   "metadata": {},
   "outputs": [],
   "source": [
    "numerosIBGE = pd.Series(dados_finais['ibgeID'].unique()).dropna()"
   ]
  },
  {
   "cell_type": "code",
   "execution_count": null,
   "metadata": {},
   "outputs": [],
   "source": [
    "numerosIBGE.head()"
   ]
  },
  {
   "cell_type": "code",
   "execution_count": null,
   "metadata": {},
   "outputs": [],
   "source": [
    "dfPorcetagemAgrupado = pd.DataFrame() \n",
    "ibge_series_new = pd.Series([],dtype=pd.StringDtype()) \n",
    "count=0\n",
    "for index, value in numerosIBGE.items():\n",
    "    #print(f\"index: {index}, value: {value}\")\n",
    "    ibge_series_new[count]=value\n",
    "    count+=1\n",
    "    #print(ibge_new)\n",
    "dfPorcetagemAgrupado.insert(0, \"ibge\", ibge_series_new) \n",
    "dfPorcetagemAgrupado.head(293) "
   ]
  },
  {
   "cell_type": "code",
   "execution_count": null,
   "metadata": {},
   "outputs": [],
   "source": [
    "# porcentagem de casos por sexo/municipio\n",
    "porcentagem_sexo_F_serie_new = pd.Series([], dtype=np.float16)\n",
    "porcentagem_sexo_M_serie_new = pd.Series([], dtype=np.float16)\n",
    "index_porcentagem_sexo_serie_new = 0\n",
    "\n",
    "for index, value in numerosIBGE.items():\n",
    "    dtByIBGE = dados_finais[dados_finais['ibgeID'] == value]\n",
    "    sexo_by_municipio = dtByIBGE['CS_SEXO'].value_counts()\n",
    "    \n",
    "    total_por_municpio = len(dtByIBGE.index)\n",
    "    count_F = len(dtByIBGE[dtByIBGE.CS_SEXO == 'F'])\n",
    "    count_M = len(dtByIBGE[dtByIBGE.CS_SEXO == 'M'])\n",
    "    porcentagem_F = count_F/total_por_municpio*100\n",
    "    porcentagem_M = count_M/total_por_municpio*100\n",
    "    \n",
    "    porcentagem_sexo_F_serie_new[index_porcentagem_sexo_serie_new]=porcentagem_F\n",
    "    porcentagem_sexo_M_serie_new[index_porcentagem_sexo_serie_new]=porcentagem_M\n",
    "    index_porcentagem_sexo_serie_new+=1\n",
    "    #print(f\"ibge: {value} total: {len(dtByIBGE.index)} sexo_F: {len(count_F)} sexo_M: {len(count_M)}\")\n",
    "    print(f\"ibge: {value} porcentagem_F: {porcentagem_F} porcentagem_M: {porcentagem_M}\")\n",
    "    \n",
    "dfPorcetagemAgrupado.insert(1, \"sexo fiminino porcentagem agrupado\", porcentagem_sexo_F_serie_new)\n",
    "dfPorcetagemAgrupado.insert(2, \"sexo masculino porcentagem agrupado\", porcentagem_sexo_M_serie_new)\n",
    "    "
   ]
  },
  {
   "cell_type": "code",
   "execution_count": null,
   "metadata": {},
   "outputs": [],
   "source": [
    "dfPorcetagemAgrupado.head(20)"
   ]
  },
  {
   "cell_type": "code",
   "execution_count": null,
   "metadata": {},
   "outputs": [],
   "source": [
    "#média de casos por idade/municipio\n",
    "media_idade_serie_new = pd.Series([], dtype=np.float16)\n",
    "index_idade_media_serie_new = 0\n",
    "\n",
    "for index, value in numerosIBGE.items():\n",
    "    dtByIBGE = dados_finais[dados_finais['ibgeID'] == value]\n",
    "    idade_by_municipio = dtByIBGE['NU_IDADE_N']\n",
    "    \n",
    "    media_idade = idade_by_municipio.mean()\n",
    "    \n",
    "    media_idade_serie_new[index_idade_media_serie_new]=media_idade\n",
    "    index_idade_media_serie_new+=1\n",
    "    print(f\"ibge: {value} media_idade: {media_idade}\")\n",
    "    \n",
    "dfPorcetagemAgrupado.insert(3, \"idade media agrupado\", media_idade_serie_new)"
   ]
  },
  {
   "cell_type": "code",
   "execution_count": null,
   "metadata": {},
   "outputs": [],
   "source": [
    "dfPorcetagemAgrupado.head(20)"
   ]
  },
  {
   "cell_type": "code",
   "execution_count": null,
   "metadata": {},
   "outputs": [],
   "source": [
    "# porcentagem de casos por raça/municipio\n",
    "porcentagem_raca_BRANCA_serie_new = pd.Series([], dtype=np.float16)\n",
    "porcentagem_raca_PRETA_serie_new = pd.Series([], dtype=np.float16)\n",
    "porcentagem_raca_AMARELA_serie_new = pd.Series([], dtype=np.float16)\n",
    "porcentagem_raca_PARDA_serie_new = pd.Series([], dtype=np.float16)\n",
    "porcentagem_raca_INDIGENA_serie_new = pd.Series([], dtype=np.float16)\n",
    "porcentagem_raca_IGNORADO_serie_new = pd.Series([], dtype=np.float16)\n",
    "index = 0\n",
    "\n",
    "for index, value in numerosIBGE.items():\n",
    "    dtByIBGE = dados_finais[dados_finais['ibgeID'] == value]\n",
    "    info_by_municipio = dtByIBGE['CS_RACA'].value_counts()\n",
    "    \n",
    "    #print(info_by_municipio)\n",
    "    \n",
    "    total_por_municpio = len(dtByIBGE.index)\n",
    "    count_BRANCA = len(dtByIBGE[dtByIBGE.CS_RACA == 1.0])\n",
    "    count_PRETA = len(dtByIBGE[dtByIBGE.CS_RACA == 2.0])\n",
    "    count_AMARELA = len(dtByIBGE[dtByIBGE.CS_RACA == 3.0])\n",
    "    count_PARDA = len(dtByIBGE[dtByIBGE.CS_RACA == 4.0])\n",
    "    count_INDIGINA = len(dtByIBGE[dtByIBGE.CS_RACA == 5.0])\n",
    "    count_IGNORADO = len(dtByIBGE[dtByIBGE.CS_RACA == 9.0])\n",
    "    porcentagem_BRANCA = count_BRANCA/total_por_municpio*100\n",
    "    porcentagem_PRETA = count_PRETA/total_por_municpio*100\n",
    "    porcentagem_AMARELA = count_AMARELA/total_por_municpio*100\n",
    "    porcentagem_PARDA = count_PARDA/total_por_municpio*100\n",
    "    porcentagem_INDIGINA = count_INDIGINA/total_por_municpio*100\n",
    "    porcentagem_IGNORADO = count_IGNORADO/total_por_municpio*100\n",
    "    \n",
    "    porcentagem_raca_BRANCA_serie_new[index]=porcentagem_BRANCA\n",
    "    porcentagem_raca_PRETA_serie_new[index]=porcentagem_PRETA\n",
    "    porcentagem_raca_AMARELA_serie_new[index]=porcentagem_AMARELA\n",
    "    porcentagem_raca_PARDA_serie_new[index]=porcentagem_PARDA\n",
    "    porcentagem_raca_INDIGENA_serie_new[index]=porcentagem_INDIGINA\n",
    "    porcentagem_raca_IGNORADO_serie_new[index]=porcentagem_IGNORADO\n",
    "    index+=1\n",
    "    #print(f\"ibge: {value} total: {len(dtByIBGE.index)} sexo_F: {len(count_F)} sexo_M: {len(count_M)}\")\n",
    "    print(f\"ibge: {value} porcentagem_BRANCA: {porcentagem_BRANCA} porcentagem_PRETA: {porcentagem_PRETA} porcentagem_AMARELA: {porcentagem_AMARELA} porcentagem_PARDA: {porcentagem_PARDA}  porcentagem_INDIGINA: {porcentagem_INDIGINA}  porcentagem_IGNORADO: {porcentagem_IGNORADO}\")\n",
    "    \n",
    "dfPorcetagemAgrupado.insert(4, \"raca branca porcentagem agrupado\", porcentagem_raca_BRANCA_serie_new)\n",
    "dfPorcetagemAgrupado.insert(5, \"raca preta porcentagem agrupado\", porcentagem_raca_PRETA_serie_new)\n",
    "dfPorcetagemAgrupado.insert(6, \"raca amarela porcentagem agrupado\", porcentagem_raca_AMARELA_serie_new)\n",
    "dfPorcetagemAgrupado.insert(7, \"raca parda porcentagem agrupado\", porcentagem_raca_PARDA_serie_new)\n",
    "dfPorcetagemAgrupado.insert(8, \"raca indigena porcentagem agrupado\", porcentagem_raca_INDIGENA_serie_new)\n",
    "dfPorcetagemAgrupado.insert(9, \"raca ignorada porcentagem agrupado\", porcentagem_raca_IGNORADO_serie_new)"
   ]
  },
  {
   "cell_type": "code",
   "execution_count": null,
   "metadata": {},
   "outputs": [],
   "source": [
    "dfPorcetagemAgrupado.head(20)"
   ]
  },
  {
   "cell_type": "code",
   "execution_count": null,
   "metadata": {},
   "outputs": [],
   "source": [
    "# porcentagem de casos por escolaridade/municipio\n",
    "porcentagem_0_serie_new = pd.Series([], dtype=np.float16)\n",
    "porcentagem_1_serie_new = pd.Series([], dtype=np.float16)\n",
    "porcentagem_2_serie_new = pd.Series([], dtype=np.float16)\n",
    "porcentagem_3_serie_new = pd.Series([], dtype=np.float16)\n",
    "porcentagem_4_serie_new = pd.Series([], dtype=np.float16)\n",
    "porcentagem_5_serie_new = pd.Series([], dtype=np.float16)\n",
    "porcentagem_9_serie_new = pd.Series([], dtype=np.float16)\n",
    "index = 0\n",
    "\n",
    "for index, value in numerosIBGE.items():\n",
    "    dtByIBGE = dados_finais[dados_finais['ibgeID'] == value]\n",
    "    info_by_municipio = dtByIBGE['CS_ESCOL_N'].value_counts()\n",
    "    \n",
    "    #print(info_by_municipio)\n",
    "    \n",
    "    total_por_municpio = len(dtByIBGE.index)\n",
    "    count_0 = len(dtByIBGE[dtByIBGE.CS_ESCOL_N == 0.0])\n",
    "    count_1 = len(dtByIBGE[dtByIBGE.CS_ESCOL_N == 1.0])\n",
    "    count_2 = len(dtByIBGE[dtByIBGE.CS_ESCOL_N == 2.0])\n",
    "    count_3 = len(dtByIBGE[dtByIBGE.CS_ESCOL_N == 3.0])\n",
    "    count_4 = len(dtByIBGE[dtByIBGE.CS_ESCOL_N == 4.0])\n",
    "    count_5 = len(dtByIBGE[dtByIBGE.CS_ESCOL_N == 5.0])\n",
    "    count_9 = len(dtByIBGE[dtByIBGE.CS_ESCOL_N == 9.0])\n",
    "    \n",
    "    porcentagem_0 = count_0/total_por_municpio*100\n",
    "    porcentagem_1 = count_1/total_por_municpio*100\n",
    "    porcentagem_2 = count_2/total_por_municpio*100\n",
    "    porcentagem_3 = count_3/total_por_municpio*100\n",
    "    porcentagem_4 = count_4/total_por_municpio*100\n",
    "    porcentagem_5 = count_5/total_por_municpio*100\n",
    "    porcentagem_9 = count_9/total_por_municpio*100\n",
    "    \n",
    "    porcentagem_0_serie_new[index]=porcentagem_0\n",
    "    porcentagem_1_serie_new[index]=porcentagem_1\n",
    "    porcentagem_2_serie_new[index]=porcentagem_2\n",
    "    porcentagem_3_serie_new[index]=porcentagem_3\n",
    "    porcentagem_4_serie_new[index]=porcentagem_4\n",
    "    porcentagem_5_serie_new[index]=porcentagem_5\n",
    "    porcentagem_9_serie_new[index]=porcentagem_9\n",
    "    index+=1\n",
    "    #print(f\"ibge: {value} total: {len(dtByIBGE.index)} sexo_F: {len(count_F)} sexo_M: {len(count_M)}\")\n",
    "    print(f\"ibge: {value} sem escolaridade: {porcentagem_0} fundamental 1: {porcentagem_1} fundamental 2: {porcentagem_2} medio: {porcentagem_3}  superior: {porcentagem_4}  nao aplicado: {porcentagem_5}, ignorado: {porcentagem_9}\")\n",
    "    \n",
    "dfPorcetagemAgrupado.insert(10, \"sem escolaridade porcentagem agrupado\", porcentagem_0_serie_new)\n",
    "dfPorcetagemAgrupado.insert(11, \"escolaridade fundamental 1 porcentagem agrupado\", porcentagem_1_serie_new)\n",
    "dfPorcetagemAgrupado.insert(12, \"escolaridade fundamental 2 porcentagem agrupado\", porcentagem_2_serie_new)\n",
    "dfPorcetagemAgrupado.insert(13, \"escolaridade medio porcentagem agrupado\", porcentagem_3_serie_new)\n",
    "dfPorcetagemAgrupado.insert(14, \"escolaridade superior porcentagem agrupado\", porcentagem_4_serie_new)\n",
    "dfPorcetagemAgrupado.insert(15, \"escolaridade nao aplicado porcentagem agrupado\", porcentagem_5_serie_new)\n",
    "dfPorcetagemAgrupado.insert(16, \"escolaridade ignorado porcentagem agrupado\", porcentagem_9_serie_new)"
   ]
  },
  {
   "cell_type": "code",
   "execution_count": null,
   "metadata": {},
   "outputs": [],
   "source": [
    "dfPorcetagemAgrupado.head(20)"
   ]
  },
  {
   "cell_type": "code",
   "execution_count": null,
   "metadata": {},
   "outputs": [],
   "source": [
    "dfPorcetagemAgrupado.shape"
   ]
  },
  {
   "cell_type": "code",
   "execution_count": null,
   "metadata": {},
   "outputs": [],
   "source": [
    "# porcentagem de casos por zona/municipio\n",
    "\n",
    "porcentagem_1_serie_new = pd.Series([], dtype=np.float16)\n",
    "porcentagem_2_serie_new = pd.Series([], dtype=np.float16)\n",
    "porcentagem_3_serie_new = pd.Series([], dtype=np.float16)\n",
    "\n",
    "\n",
    "porcentagem_9_serie_new = pd.Series([], dtype=np.float16)\n",
    "index = 0\n",
    "\n",
    "for index, value in numerosIBGE.items():\n",
    "    dtByIBGE = dados_finais[dados_finais['ibgeID'] == value]\n",
    "    info_by_municipio = dtByIBGE['CS_ZONA'].value_counts()\n",
    "    \n",
    "    #print(info_by_municipio)\n",
    "    \n",
    "    total_por_municpio = len(dtByIBGE.index)\n",
    "\n",
    "    count_1 = len(dtByIBGE[dtByIBGE.CS_ZONA == 1.0])\n",
    "    count_2 = len(dtByIBGE[dtByIBGE.CS_ZONA == 2.0])\n",
    "    count_3 = len(dtByIBGE[dtByIBGE.CS_ZONA == 3.0])\n",
    "\n",
    "\n",
    "    count_9 = len(dtByIBGE[dtByIBGE.CS_ZONA == 9.0])\n",
    "    \n",
    "\n",
    "    porcentagem_1 = count_1/total_por_municpio*100\n",
    "    porcentagem_2 = count_2/total_por_municpio*100\n",
    "    porcentagem_3 = count_3/total_por_municpio*100\n",
    "\n",
    "\n",
    "    porcentagem_9 = count_9/total_por_municpio*100\n",
    "    \n",
    "\n",
    "    porcentagem_1_serie_new[index]=porcentagem_1\n",
    "    porcentagem_2_serie_new[index]=porcentagem_2\n",
    "    porcentagem_3_serie_new[index]=porcentagem_3\n",
    "\n",
    "\n",
    "    porcentagem_9_serie_new[index]=porcentagem_9\n",
    "    index+=1\n",
    "    #print(f\"ibge: {value} total: {len(dtByIBGE.index)} sexo_F: {len(count_F)} sexo_M: {len(count_M)}\")\n",
    "    print(f\"ibge: {value} zona urbana: {porcentagem_1} zona rural: {porcentagem_2} zona periurbana: {porcentagem_3} zona ignorada: {porcentagem_9}\")\n",
    "    \n",
    "\n",
    "dfPorcetagemAgrupado.insert(17, \"zona urbana porcentagem agrupado\", porcentagem_1_serie_new)\n",
    "dfPorcetagemAgrupado.insert(18, \"zona rural porcentagem agrupado\", porcentagem_2_serie_new)\n",
    "dfPorcetagemAgrupado.insert(19, \"zona periurbana porcentagem agrupado\", porcentagem_3_serie_new)\n",
    "dfPorcetagemAgrupado.insert(20, \"zona ignorada porcentagem agrupado\", porcentagem_9_serie_new)\n",
    "\n"
   ]
  },
  {
   "cell_type": "code",
   "execution_count": null,
   "metadata": {},
   "outputs": [],
   "source": [
    "dfPorcetagemAgrupado.head(20)"
   ]
  },
  {
   "cell_type": "code",
   "execution_count": null,
   "metadata": {},
   "outputs": [],
   "source": [
    "# porcentagem contato com ave/suino por municipio\n",
    "\n",
    "porcentagem_1_serie_new = pd.Series([], dtype=np.float16)\n",
    "porcentagem_2_serie_new = pd.Series([], dtype=np.float16)\n",
    "\n",
    "porcentagem_9_serie_new = pd.Series([], dtype=np.float16)\n",
    "index = 0\n",
    "\n",
    "for index, value in numerosIBGE.items():\n",
    "    dtByIBGE = dados_finais[dados_finais['ibgeID'] == value]\n",
    "    info_by_municipio = dtByIBGE['AVE_SUINO'].value_counts()\n",
    "    \n",
    "    #print(info_by_municipio)\n",
    "    \n",
    "    total_por_municpio = len(dtByIBGE.index)\n",
    "    count_1 = len(dtByIBGE[dtByIBGE.AVE_SUINO == 1.0])\n",
    "    count_2 = len(dtByIBGE[dtByIBGE.AVE_SUINO == 0.0])\n",
    "    \n",
    "    porcentagem_1 = count_1/total_por_municpio*100\n",
    "    porcentagem_2 = count_2/total_por_municpio*100\n",
    "    porcentagem_9 = count_9/total_por_municpio*100\n",
    "    \n",
    "    porcentagem_1_serie_new[index]=porcentagem_1\n",
    "    porcentagem_2_serie_new[index]=porcentagem_2\n",
    "\n",
    "    index+=1\n",
    "    #print(f\"ibge: {value} total: {len(dtByIBGE.index)} sexo_F: {len(count_F)} sexo_M: {len(count_M)}\")\n",
    "    print(f\"ibge: {value} contato sim ave/suino: {porcentagem_1} contato nao ave/suino: {porcentagem_2}\")\n",
    "    \n",
    "dfPorcetagemAgrupado.insert(20, \"contato sim ave/suino porcentagem agrupado\", porcentagem_1_serie_new)\n",
    "dfPorcetagemAgrupado.insert(21, \"contato nao ave/suino porcentagem agrupado\", porcentagem_2_serie_new)\n"
   ]
  },
  {
   "cell_type": "code",
   "execution_count": null,
   "metadata": {},
   "outputs": [],
   "source": [
    "dfPorcetagemAgrupado.head(20)"
   ]
  },
  {
   "cell_type": "code",
   "execution_count": null,
   "metadata": {},
   "outputs": [],
   "source": [
    "# porcentagem tosse por municipio\n",
    "\n",
    "porcentagem_1_serie_new = pd.Series([], dtype=np.float16)\n",
    "porcentagem_2_serie_new = pd.Series([], dtype=np.float16)\n",
    "\n",
    "porcentagem_9_serie_new = pd.Series([], dtype=np.float16)\n",
    "index = 0\n",
    "\n",
    "for index, value in numerosIBGE.items():\n",
    "    dtByIBGE = dados_finais[dados_finais['ibgeID'] == value]\n",
    "    #info_by_municipio = dtByIBGE['TOSSE'].value_counts()\n",
    "    \n",
    "    #print(info_by_municipio)\n",
    "    \n",
    "    total_por_municpio = len(dtByIBGE.index)\n",
    "    count_1 = len(dtByIBGE[dtByIBGE.TOSSE == 1.0])\n",
    "    count_2 = len(dtByIBGE[dtByIBGE.TOSSE == 0.0])\n",
    "    \n",
    "    porcentagem_1 = count_1/total_por_municpio*100\n",
    "    porcentagem_2 = count_2/total_por_municpio*100\n",
    "    porcentagem_9 = count_9/total_por_municpio*100\n",
    "    \n",
    "    porcentagem_1_serie_new[index]=porcentagem_1\n",
    "    porcentagem_2_serie_new[index]=porcentagem_2\n",
    "\n",
    "    index+=1\n",
    "    #print(f\"ibge: {value} total: {len(dtByIBGE.index)} sexo_F: {len(count_F)} sexo_M: {len(count_M)}\")\n",
    "    print(f\"ibge: {value} paciente apresentou tosse sim: {porcentagem_1} paciente apresentou tosse nao: {porcentagem_2}\")\n",
    "    \n",
    "dfPorcetagemAgrupado.insert(22, \"tosse sim porcentagem agrupado\", porcentagem_1_serie_new)\n",
    "dfPorcetagemAgrupado.insert(23, \"tosse nao porcentagem agrupado\", porcentagem_2_serie_new)"
   ]
  },
  {
   "cell_type": "code",
   "execution_count": null,
   "metadata": {},
   "outputs": [],
   "source": [
    "pd.Series(dfPorcetagemAgrupado.columns.values).to_markdown(tablefmt=\"html\")"
   ]
  },
  {
   "cell_type": "code",
   "execution_count": null,
   "metadata": {},
   "outputs": [],
   "source": [
    "# porcentagem sindrome down por municipio\n",
    "\n",
    "porcentagem_1_serie_new = pd.Series([], dtype=np.float16)\n",
    "porcentagem_2_serie_new = pd.Series([], dtype=np.float16)\n",
    "\n",
    "porcentagem_9_serie_new = pd.Series([], dtype=np.float16)\n",
    "index = 0\n",
    "\n",
    "for index, value in numerosIBGE.items():\n",
    "    dtByIBGE = dados_finais[dados_finais['ibgeID'] == value]\n",
    "    #info_by_municipio = dtByIBGE['TOSSE'].value_counts()\n",
    "    \n",
    "    #print(info_by_municipio)\n",
    "    \n",
    "    total_por_municpio = len(dtByIBGE.index)\n",
    "    count_1 = len(dtByIBGE[dtByIBGE.SIND_DOWN == 1.0])\n",
    "    count_2 = len(dtByIBGE[dtByIBGE.SIND_DOWN == 0.0])\n",
    "    \n",
    "    porcentagem_1 = count_1/total_por_municpio*100\n",
    "    porcentagem_2 = count_2/total_por_municpio*100\n",
    "    porcentagem_9 = count_9/total_por_municpio*100\n",
    "    \n",
    "    porcentagem_1_serie_new[index]=porcentagem_1\n",
    "    porcentagem_2_serie_new[index]=porcentagem_2\n",
    "\n",
    "    index+=1\n",
    "    #print(f\"ibge: {value} total: {len(dtByIBGE.index)} sexo_F: {len(count_F)} sexo_M: {len(count_M)}\")\n",
    "    print(f\"ibge: {value} paciente com down: {porcentagem_1} paciente sem down: {porcentagem_2}\")\n",
    "    \n",
    "dfPorcetagemAgrupado.insert(24, \"paciente com down porcentagem agrupado\", porcentagem_1_serie_new)\n",
    "dfPorcetagemAgrupado.insert(25, \"paciente sem down porcentagem agrupado\", porcentagem_2_serie_new)"
   ]
  },
  {
   "cell_type": "code",
   "execution_count": null,
   "metadata": {},
   "outputs": [],
   "source": [
    "pd.Series(dfPorcetagemAgrupado.columns.values).to_markdown(tablefmt=\"html\")    "
   ]
  },
  {
   "cell_type": "code",
   "execution_count": null,
   "metadata": {},
   "outputs": [],
   "source": [
    "# porcentagem vacinado contra gripe por municipio\n",
    "\n",
    "porcentagem_1_serie_new = pd.Series([], dtype=np.float16)\n",
    "porcentagem_2_serie_new = pd.Series([], dtype=np.float16)\n",
    "\n",
    "porcentagem_9_serie_new = pd.Series([], dtype=np.float16)\n",
    "index = 0\n",
    "\n",
    "for index, value in numerosIBGE.items():\n",
    "    dtByIBGE = dados_finais[dados_finais['ibgeID'] == value]\n",
    "    #info_by_municipio = dtByIBGE['TOSSE'].value_counts()\n",
    "    \n",
    "    #print(info_by_municipio)\n",
    "    \n",
    "    total_por_municpio = len(dtByIBGE.index)\n",
    "    count_1 = len(dtByIBGE[dtByIBGE.VACINA == 1.0])\n",
    "    count_2 = len(dtByIBGE[dtByIBGE.VACINA == 0.0])\n",
    "    \n",
    "    porcentagem_1 = count_1/total_por_municpio*100\n",
    "    porcentagem_2 = count_2/total_por_municpio*100\n",
    "    porcentagem_9 = count_9/total_por_municpio*100\n",
    "    \n",
    "    porcentagem_1_serie_new[index]=porcentagem_1\n",
    "    porcentagem_2_serie_new[index]=porcentagem_2\n",
    "\n",
    "    index+=1\n",
    "    #print(f\"ibge: {value} total: {len(dtByIBGE.index)} sexo_F: {len(count_F)} sexo_M: {len(count_M)}\")\n",
    "    print(f\"ibge: {value} vacinado contra gripe sim: {porcentagem_1} vacinado contra gripe nao: {porcentagem_2}\")\n",
    "    \n",
    "dfPorcetagemAgrupado.insert(26, \"vacinado gripe sim porcentagem agrupado\", porcentagem_1_serie_new)\n",
    "dfPorcetagemAgrupado.insert(27, \"vacinado gripe nao porcentagem agrupado\", porcentagem_2_serie_new)"
   ]
  },
  {
   "cell_type": "code",
   "execution_count": null,
   "metadata": {},
   "outputs": [],
   "source": [
    "# porcentagem vacinado contra gripe por municipio\n",
    "\n",
    "porcentagem_1_serie_new = pd.Series([], dtype=np.float16)\n",
    "porcentagem_2_serie_new = pd.Series([], dtype=np.float16)\n",
    "\n",
    "porcentagem_9_serie_new = pd.Series([], dtype=np.float16)\n",
    "index = 0\n",
    "\n",
    "for index, value in numerosIBGE.items():\n",
    "    dtByIBGE = dados_finais[dados_finais['ibgeID'] == value]\n",
    "    #info_by_municipio = dtByIBGE['TOSSE'].value_counts()\n",
    "    \n",
    "    #print(info_by_municipio)\n",
    "    \n",
    "    total_por_municpio = len(dtByIBGE.index)\n",
    "    count_1 = len(dtByIBGE[dtByIBGE.HISTO_VGM == 1.0])\n",
    "    count_2 = len(dtByIBGE[dtByIBGE.HISTO_VGM == 0.0])\n",
    "    \n",
    "    porcentagem_1 = count_1/total_por_municpio*100\n",
    "    porcentagem_2 = count_2/total_por_municpio*100\n",
    "    porcentagem_9 = count_9/total_por_municpio*100\n",
    "    \n",
    "    porcentagem_1_serie_new[index]=porcentagem_1\n",
    "    porcentagem_2_serie_new[index]=porcentagem_2\n",
    "\n",
    "    index+=1\n",
    "    #print(f\"ibge: {value} total: {len(dtByIBGE.index)} sexo_F: {len(count_F)} sexo_M: {len(count_M)}\")\n",
    "    print(f\"ibge: {value} historico viagem 14 dias sim: {porcentagem_1} historico viagem 14 dias sim nao: {porcentagem_2}\")\n",
    "    \n",
    "dfPorcetagemAgrupado.insert(28, \"historico viagem 14 dias sim porcentagem agrupado\", porcentagem_1_serie_new)\n",
    "dfPorcetagemAgrupado.insert(29, \"historico viagem 14 dias nao porcentagem agrupado\", porcentagem_2_serie_new)"
   ]
  },
  {
   "cell_type": "code",
   "execution_count": null,
   "metadata": {},
   "outputs": [],
   "source": [
    "dfPorcetagemAgrupado.head()"
   ]
  },
  {
   "cell_type": "code",
   "execution_count": null,
   "metadata": {},
   "outputs": [],
   "source": [
    "dados_finais_com_agrupamentos_features = dados_finais.merge(dfPorcetagemAgrupado, how='inner', left_on = 'ibgeID', right_on = 'ibge')"
   ]
  },
  {
   "cell_type": "code",
   "execution_count": null,
   "metadata": {},
   "outputs": [],
   "source": [
    "dados_finais_com_agrupamentos_features.head()"
   ]
  },
  {
   "cell_type": "code",
   "execution_count": null,
   "metadata": {},
   "outputs": [],
   "source": [
    "dados_finais_com_agrupamentos_features.to_csv('dados-preparados-finais-features_agrupadas.csv', index=False, decimal=',',float_format='%.3f')"
   ]
  },
  {
   "cell_type": "code",
   "execution_count": null,
   "metadata": {},
   "outputs": [],
   "source": [
    "pd.Series(dados_finais_com_agrupamentos_features.columns.values).to_markdown(tablefmt=\"html\")"
   ]
  },
  {
   "cell_type": "code",
   "execution_count": null,
   "metadata": {},
   "outputs": [],
   "source": [
    "count_casos = len(dados_finais)\n",
    "\n",
    "print(f\"count casos: {count_casos}\")"
   ]
  },
  {
   "cell_type": "code",
   "execution_count": null,
   "metadata": {},
   "outputs": [],
   "source": [
    "numeroCasosDivisao = 100"
   ]
  },
  {
   "cell_type": "code",
   "execution_count": null,
   "metadata": {},
   "outputs": [],
   "source": [
    "dfPorcetagemAgrupadoCasos = pd.DataFrame() \n",
    "ibge_series_new = pd.Series([],dtype=pd.StringDtype()) \n",
    "count=0\n",
    "for index, value in numerosIBGE.items():\n",
    "    #print(f\"index: {index}, value: {value}\")\n",
    "    ibge_series_new[count]=value\n",
    "    count+=1\n",
    "    #print(ibge_new)\n",
    "dfPorcetagemAgrupadoCasos.insert(0, \"ibge\", ibge_series_new) \n",
    "dfPorcetagemAgrupadoCasos.head(293) "
   ]
  },
  {
   "cell_type": "code",
   "execution_count": null,
   "metadata": {},
   "outputs": [],
   "source": [
    "dfPorcetagemAgrupadoCasos.head()"
   ]
  },
  {
   "cell_type": "code",
   "execution_count": null,
   "metadata": {},
   "outputs": [],
   "source": [
    "# porcentagem numero de casos municipio\n",
    "serie_new = pd.Series([], dtype=np.float16)\n",
    "index = 0\n",
    "\n",
    "for index, value in numerosIBGE.items():\n",
    "    dtByIBGE = dados_finais[dados_finais['ibgeID'] == value]\n",
    "    count_casos = len(dtByIBGE)\n",
    "    \n",
    "    serie_new[index]=count_casos\n",
    "\n",
    "    index+=1\n",
    "    #print(f\"ibge: {value} total: {len(dtByIBGE.index)} sexo_F: {len(count_F)} sexo_M: {len(count_M)}\")\n",
    "    #print(f\"ibge: {value} : numero de casos {count_casos}\")\n",
    "    \n",
    "dfPorcetagemAgrupadoCasos.insert(1, \"numero casos municipio\", serie_new)"
   ]
  },
  {
   "cell_type": "code",
   "execution_count": null,
   "metadata": {},
   "outputs": [],
   "source": [
    "dfPorcetagemAgrupadoCasos.head()"
   ]
  },
  {
   "cell_type": "code",
   "execution_count": null,
   "metadata": {},
   "outputs": [],
   "source": [
    "#porcentagem por sexo/casos\n",
    "porcentagem_sexo_M_serie_new = pd.Series([], dtype=np.float16)\n",
    "porcentagem_sexo_F_serie_new = pd.Series([], dtype=np.float16)\n",
    "index_porcentagem_sexo_serie_new = 0\n",
    "\n",
    "count_casos = len(dados_finais)\n",
    "\n",
    "for index, value in numerosIBGE.items():\n",
    "    dtByIBGE = dados_finais[dados_finais['ibgeID'] == value]\n",
    "    \n",
    "    count_M = len(dtByIBGE[dtByIBGE.CS_SEXO == 'M'])\n",
    "    count_F = len(dtByIBGE[dtByIBGE.CS_SEXO == 'F'])\n",
    "    \n",
    "    porcentagem_M = count_M/(count_casos/numeroCasosDivisao)*100\n",
    "    porcentagem_F = count_F/(count_casos/numeroCasosDivisao)*100\n",
    "    \n",
    "    porcentagem_sexo_M_serie_new[index_porcentagem_sexo_serie_new]=porcentagem_M\n",
    "    porcentagem_sexo_F_serie_new[index_porcentagem_sexo_serie_new]=porcentagem_F\n",
    "    index_porcentagem_sexo_serie_new+=1\n",
    "    #print(f\"ibge: {value} porcentagem_M: {porcentagem_M} porcentagem_F: {porcentagem_F}\")\n",
    "    \n",
    "dfPorcetagemAgrupadoCasos.insert(2, \"sexo masculino porcentagem casos\", porcentagem_sexo_M_serie_new)\n",
    "dfPorcetagemAgrupadoCasos.insert(3, \"sexo feminino porcentagem casos\", porcentagem_sexo_F_serie_new)"
   ]
  },
  {
   "cell_type": "code",
   "execution_count": null,
   "metadata": {},
   "outputs": [],
   "source": [
    "dfPorcetagemAgrupadoCasos.head()"
   ]
  },
  {
   "cell_type": "code",
   "execution_count": null,
   "metadata": {},
   "outputs": [],
   "source": [
    "# porcentagem de casos por raça/municipio\n",
    "porcentagem_raca_BRANCA_serie_new = pd.Series([], dtype=np.float16)\n",
    "porcentagem_raca_PRETA_serie_new = pd.Series([], dtype=np.float16)\n",
    "porcentagem_raca_AMARELA_serie_new = pd.Series([], dtype=np.float16)\n",
    "porcentagem_raca_PARDA_serie_new = pd.Series([], dtype=np.float16)\n",
    "porcentagem_raca_INDIGENA_serie_new = pd.Series([], dtype=np.float16)\n",
    "porcentagem_raca_IGNORADO_serie_new = pd.Series([], dtype=np.float16)\n",
    "index = 0\n",
    "\n",
    "count_casos = len(dados_finais)\n",
    "\n",
    "for index, value in numerosIBGE.items():\n",
    "    dtByIBGE = dados_finais[dados_finais['ibgeID'] == value]\n",
    "    info_by_municipio = dtByIBGE['CS_RACA'].value_counts()\n",
    "    \n",
    "    #print(info_by_municipio)\n",
    "    \n",
    "    count_BRANCA = len(dtByIBGE[dtByIBGE.CS_RACA == 1.0])\n",
    "    count_PRETA = len(dtByIBGE[dtByIBGE.CS_RACA == 2.0])\n",
    "    count_AMARELA = len(dtByIBGE[dtByIBGE.CS_RACA == 3.0])\n",
    "    count_PARDA = len(dtByIBGE[dtByIBGE.CS_RACA == 4.0])\n",
    "    count_INDIGINA = len(dtByIBGE[dtByIBGE.CS_RACA == 5.0])\n",
    "    count_IGNORADO = len(dtByIBGE[dtByIBGE.CS_RACA == 9.0])\n",
    "    porcentagem_BRANCA = count_BRANCA/(count_casos/numeroCasosDivisao)*100\n",
    "    porcentagem_PRETA = count_PRETA/(count_casos/numeroCasosDivisao)*100\n",
    "    porcentagem_AMARELA = count_AMARELA/(count_casos/numeroCasosDivisao)*100\n",
    "    porcentagem_PARDA = count_PARDA/(count_casos/numeroCasosDivisao)*100\n",
    "    porcentagem_INDIGINA = count_INDIGINA/(count_casos/numeroCasosDivisao)*100\n",
    "    porcentagem_IGNORADO = count_IGNORADO/(count_casos/numeroCasosDivisao)*100\n",
    "    \n",
    "    porcentagem_raca_BRANCA_serie_new[index]=porcentagem_BRANCA\n",
    "    porcentagem_raca_PRETA_serie_new[index]=porcentagem_PRETA\n",
    "    porcentagem_raca_AMARELA_serie_new[index]=porcentagem_AMARELA\n",
    "    porcentagem_raca_PARDA_serie_new[index]=porcentagem_PARDA\n",
    "    porcentagem_raca_INDIGENA_serie_new[index]=porcentagem_INDIGINA\n",
    "    porcentagem_raca_IGNORADO_serie_new[index]=porcentagem_IGNORADO\n",
    "    index+=1\n",
    "    #print(f\"ibge: {value} total: {len(dtByIBGE.index)} sexo_F: {len(count_F)} sexo_M: {len(count_M)}\")\n",
    "    #print(f\"ibge: {value} porcentagem_BRANCA: {porcentagem_BRANCA} porcentagem_PRETA: {porcentagem_PRETA} porcentagem_AMARELA: {porcentagem_AMARELA} porcentagem_PARDA: {porcentagem_PARDA}  porcentagem_INDIGINA: {porcentagem_INDIGINA}  porcentagem_IGNORADO: {porcentagem_IGNORADO}\")\n",
    "    \n",
    "dfPorcetagemAgrupadoCasos.insert(4, \"raca branca porcentagem casos\", porcentagem_raca_BRANCA_serie_new)\n",
    "dfPorcetagemAgrupadoCasos.insert(5, \"raca preta porcentagem casos\", porcentagem_raca_PRETA_serie_new)\n",
    "dfPorcetagemAgrupadoCasos.insert(6, \"raca amarela porcentagem casos\", porcentagem_raca_AMARELA_serie_new)\n",
    "dfPorcetagemAgrupadoCasos.insert(7, \"raca parda porcentagem casos\", porcentagem_raca_PARDA_serie_new)\n",
    "dfPorcetagemAgrupadoCasos.insert(8, \"raca indigena porcentagem casos\", porcentagem_raca_INDIGENA_serie_new)\n",
    "dfPorcetagemAgrupadoCasos.insert(9, \"raca ignorada porcentagem casos\", porcentagem_raca_IGNORADO_serie_new)"
   ]
  },
  {
   "cell_type": "code",
   "execution_count": null,
   "metadata": {},
   "outputs": [],
   "source": [
    "dfPorcetagemAgrupadoCasos.head()"
   ]
  },
  {
   "cell_type": "code",
   "execution_count": null,
   "metadata": {},
   "outputs": [],
   "source": [
    "# porcentagem de casos por escolaridade/municipio\n",
    "porcentagem_0_serie_new = pd.Series([], dtype=np.float16)\n",
    "porcentagem_1_serie_new = pd.Series([], dtype=np.float16)\n",
    "porcentagem_2_serie_new = pd.Series([], dtype=np.float16)\n",
    "porcentagem_3_serie_new = pd.Series([], dtype=np.float16)\n",
    "porcentagem_4_serie_new = pd.Series([], dtype=np.float16)\n",
    "porcentagem_5_serie_new = pd.Series([], dtype=np.float16)\n",
    "porcentagem_9_serie_new = pd.Series([], dtype=np.float16)\n",
    "index = 0\n",
    "\n",
    "count_casos = len(dados_finais)\n",
    "\n",
    "for index, value in numerosIBGE.items():\n",
    "    dtByIBGE = dados_finais[dados_finais['ibgeID'] == value]\n",
    "    info_by_municipio = dtByIBGE['CS_ESCOL_N'].value_counts()\n",
    "    \n",
    "    count_0 = len(dtByIBGE[dtByIBGE.CS_ESCOL_N == 0.0])\n",
    "    count_1 = len(dtByIBGE[dtByIBGE.CS_ESCOL_N == 1.0])\n",
    "    count_2 = len(dtByIBGE[dtByIBGE.CS_ESCOL_N == 2.0])\n",
    "    count_3 = len(dtByIBGE[dtByIBGE.CS_ESCOL_N == 3.0])\n",
    "    count_4 = len(dtByIBGE[dtByIBGE.CS_ESCOL_N == 4.0])\n",
    "    count_5 = len(dtByIBGE[dtByIBGE.CS_ESCOL_N == 5.0])\n",
    "    count_9 = len(dtByIBGE[dtByIBGE.CS_ESCOL_N == 9.0])\n",
    "    \n",
    "    porcentagem_0 = count_0/(count_casos/numeroCasosDivisao)*100\n",
    "    porcentagem_1 = count_1/(count_casos/numeroCasosDivisao)*100\n",
    "    porcentagem_2 = count_2/(count_casos/numeroCasosDivisao)*100\n",
    "    porcentagem_3 = count_3/(count_casos/numeroCasosDivisao)*100\n",
    "    porcentagem_4 = count_4/(count_casos/numeroCasosDivisao)*100\n",
    "    porcentagem_5 = count_5/(count_casos/numeroCasosDivisao)*100\n",
    "    porcentagem_9 = count_9/(count_casos/numeroCasosDivisao)*100\n",
    "    \n",
    "    porcentagem_0_serie_new[index]=porcentagem_0\n",
    "    porcentagem_1_serie_new[index]=porcentagem_1\n",
    "    porcentagem_2_serie_new[index]=porcentagem_2\n",
    "    porcentagem_3_serie_new[index]=porcentagem_3\n",
    "    porcentagem_4_serie_new[index]=porcentagem_4\n",
    "    porcentagem_5_serie_new[index]=porcentagem_5\n",
    "    porcentagem_9_serie_new[index]=porcentagem_9\n",
    "    index+=1\n",
    "    #print(f\"ibge: {value} total: {len(dtByIBGE.index)} sexo_F: {len(count_F)} sexo_M: {len(count_M)}\")\n",
    "    #print(f\"ibge: {value} sem escolaridade: {porcentagem_0} fundamental 1: {porcentagem_1} fundamental 2: {porcentagem_2} medio: {porcentagem_3}  superior: {porcentagem_4}  nao aplicado: {porcentagem_5}, ignorado: {porcentagem_9}\")\n",
    "    \n",
    "dfPorcetagemAgrupadoCasos.insert(10, \"sem escolaridade porcentagem casos\", porcentagem_0_serie_new)\n",
    "dfPorcetagemAgrupadoCasos.insert(11, \"escolaridade fundamental 1 porcentagem casos\", porcentagem_1_serie_new)\n",
    "dfPorcetagemAgrupadoCasos.insert(12, \"escolaridade fundamental 2 porcentagem casos\", porcentagem_2_serie_new)\n",
    "dfPorcetagemAgrupadoCasos.insert(13, \"escolaridade medio porcentagem casos\", porcentagem_3_serie_new)\n",
    "dfPorcetagemAgrupadoCasos.insert(14, \"escolaridade superior porcentagem casos\", porcentagem_4_serie_new)\n",
    "dfPorcetagemAgrupadoCasos.insert(15, \"escolaridade nao aplicado porcentagem casos\", porcentagem_5_serie_new)\n",
    "dfPorcetagemAgrupadoCasos.insert(16, \"escolaridade ignorado porcentagem casos\", porcentagem_9_serie_new)"
   ]
  },
  {
   "cell_type": "code",
   "execution_count": null,
   "metadata": {},
   "outputs": [],
   "source": [
    "dfPorcetagemAgrupadoCasos.head()"
   ]
  },
  {
   "cell_type": "code",
   "execution_count": null,
   "metadata": {},
   "outputs": [],
   "source": [
    "# porcentagem de casos por zona/municipio\n",
    "\n",
    "porcentagem_1_serie_new = pd.Series([], dtype=np.float16)\n",
    "porcentagem_2_serie_new = pd.Series([], dtype=np.float16)\n",
    "porcentagem_3_serie_new = pd.Series([], dtype=np.float16)\n",
    "\n",
    "\n",
    "porcentagem_9_serie_new = pd.Series([], dtype=np.float16)\n",
    "index = 0\n",
    "\n",
    "count_casos = len(dados_finais)\n",
    "\n",
    "for index, value in numerosIBGE.items():\n",
    "    dtByIBGE = dados_finais[dados_finais['ibgeID'] == value]\n",
    "    info_by_municipio = dtByIBGE['CS_ZONA'].value_counts()\n",
    "    \n",
    "\n",
    "    count_1 = len(dtByIBGE[dtByIBGE.CS_ZONA == 1.0])\n",
    "    count_2 = len(dtByIBGE[dtByIBGE.CS_ZONA == 2.0])\n",
    "    count_3 = len(dtByIBGE[dtByIBGE.CS_ZONA == 3.0])\n",
    "\n",
    "\n",
    "    count_9 = len(dtByIBGE[dtByIBGE.CS_ZONA == 9.0])\n",
    "    \n",
    "\n",
    "    porcentagem_1 = count_1/(count_casos/numeroCasosDivisao)*100\n",
    "    porcentagem_2 = count_2/(count_casos/numeroCasosDivisao)*100\n",
    "    porcentagem_3 = count_3/(count_casos/numeroCasosDivisao)*100\n",
    "\n",
    "\n",
    "    porcentagem_9 = count_9/(count_casos/numeroCasosDivisao)*100\n",
    "    \n",
    "\n",
    "    porcentagem_1_serie_new[index]=porcentagem_1\n",
    "    porcentagem_2_serie_new[index]=porcentagem_2\n",
    "    porcentagem_3_serie_new[index]=porcentagem_3\n",
    "\n",
    "\n",
    "    porcentagem_9_serie_new[index]=porcentagem_9\n",
    "    index+=1\n",
    "    #print(f\"ibge: {value} total: {len(dtByIBGE.index)} sexo_F: {len(count_F)} sexo_M: {len(count_M)}\")\n",
    "    #print(f\"ibge: {value} zona urbana: {porcentagem_1} zona rural: {porcentagem_2} zona periurbana: {porcentagem_3} zona ignorada: {porcentagem_9}\")\n",
    "    \n",
    "\n",
    "dfPorcetagemAgrupadoCasos.insert(17, \"zona urbana porcentagem casos\", porcentagem_1_serie_new)\n",
    "dfPorcetagemAgrupadoCasos.insert(18, \"zona rural porcentagem casos\", porcentagem_2_serie_new)\n",
    "dfPorcetagemAgrupadoCasos.insert(19, \"zona periurbana porcentagem casos\", porcentagem_3_serie_new)\n",
    "dfPorcetagemAgrupadoCasos.insert(20, \"zona ignorada porcentagem casos\", porcentagem_9_serie_new)"
   ]
  },
  {
   "cell_type": "code",
   "execution_count": null,
   "metadata": {},
   "outputs": [],
   "source": [
    "dfPorcetagemAgrupadoCasos.head(200)"
   ]
  },
  {
   "cell_type": "code",
   "execution_count": null,
   "metadata": {},
   "outputs": [],
   "source": [
    "# porcentagem contato com ave/suino por municipio\n",
    "\n",
    "porcentagem_1_serie_new = pd.Series([], dtype=np.float16)\n",
    "porcentagem_2_serie_new = pd.Series([], dtype=np.float16)\n",
    "\n",
    "porcentagem_9_serie_new = pd.Series([], dtype=np.float16)\n",
    "index = 0\n",
    "\n",
    "count_casos = len(dados_finais)\n",
    "\n",
    "for index, value in numerosIBGE.items():\n",
    "    dtByIBGE = dados_finais[dados_finais['ibgeID'] == value]\n",
    "    info_by_municipio = dtByIBGE['AVE_SUINO'].value_counts()\n",
    "    \n",
    "\n",
    "    count_1 = len(dtByIBGE[dtByIBGE.AVE_SUINO == 1.0])\n",
    "    count_2 = len(dtByIBGE[dtByIBGE.AVE_SUINO == 0.0])\n",
    "    \n",
    "    porcentagem_1 = count_1/(count_casos/numeroCasosDivisao)*100\n",
    "    porcentagem_2 = count_2/(count_casos/numeroCasosDivisao)*100\n",
    "    porcentagem_9 = count_9/(count_casos/numeroCasosDivisao)*100\n",
    "    \n",
    "    porcentagem_1_serie_new[index]=porcentagem_1\n",
    "    porcentagem_2_serie_new[index]=porcentagem_2\n",
    "\n",
    "    index+=1\n",
    "    #print(f\"ibge: {value} total: {len(dtByIBGE.index)} sexo_F: {len(count_F)} sexo_M: {len(count_M)}\")\n",
    "    #print(f\"ibge: {value} contato sim ave/suino: {porcentagem_1} contato nao ave/suino: {porcentagem_2}\")\n",
    "    \n",
    "dfPorcetagemAgrupadoCasos.insert(21, \"contato sim ave/suino porcentagem casos\", porcentagem_1_serie_new)\n",
    "dfPorcetagemAgrupadoCasos.insert(22, \"contato nao ave/suino porcentagem casos\", porcentagem_2_serie_new)"
   ]
  },
  {
   "cell_type": "code",
   "execution_count": null,
   "metadata": {},
   "outputs": [],
   "source": [
    "dfPorcetagemAgrupadoCasos.head()"
   ]
  },
  {
   "cell_type": "code",
   "execution_count": null,
   "metadata": {},
   "outputs": [],
   "source": [
    "# porcentagem tosse por municipio\n",
    "\n",
    "porcentagem_1_serie_new = pd.Series([], dtype=np.float16)\n",
    "porcentagem_2_serie_new = pd.Series([], dtype=np.float16)\n",
    "\n",
    "index = 0\n",
    "\n",
    "count_casos = len(dados_finais)\n",
    "\n",
    "for index, value in numerosIBGE.items():\n",
    "    dtByIBGE = dados_finais[dados_finais['ibgeID'] == value]\n",
    "    \n",
    "    count_1 = len(dtByIBGE[dtByIBGE.TOSSE == 1.0])\n",
    "    count_2 = len(dtByIBGE[dtByIBGE.TOSSE == 0.0])\n",
    "    \n",
    "    porcentagem_1 = count_1/(count_casos/numeroCasosDivisao)*100\n",
    "    porcentagem_2 = count_2/(count_casos/numeroCasosDivisao)*100\n",
    "\n",
    "    \n",
    "    porcentagem_1_serie_new[index]=porcentagem_1\n",
    "    porcentagem_2_serie_new[index]=porcentagem_2\n",
    "\n",
    "    index+=1\n",
    "    #print(f\"ibge: {value} total: {len(dtByIBGE.index)} sexo_F: {len(count_F)} sexo_M: {len(count_M)}\")\n",
    "    #print(f\"ibge: {value} paciente apresentou tosse sim: {porcentagem_1} paciente apresentou tosse nao: {porcentagem_2}\")\n",
    "    \n",
    "dfPorcetagemAgrupadoCasos.insert(23, \"tosse sim porcentagem casos\", porcentagem_1_serie_new)\n",
    "dfPorcetagemAgrupadoCasos.insert(24, \"tosse nao porcentagem casos\", porcentagem_2_serie_new)"
   ]
  },
  {
   "cell_type": "code",
   "execution_count": null,
   "metadata": {},
   "outputs": [],
   "source": [
    "dfPorcetagemAgrupadoCasos.head()"
   ]
  },
  {
   "cell_type": "code",
   "execution_count": null,
   "metadata": {},
   "outputs": [],
   "source": [
    "dfPorcetagemAgrupadoCasos.shape"
   ]
  },
  {
   "cell_type": "code",
   "execution_count": null,
   "metadata": {},
   "outputs": [],
   "source": [
    "# porcentagem sindrome down por municipio\n",
    "\n",
    "porcentagem_1_serie_new = pd.Series([], dtype=np.float16)\n",
    "porcentagem_2_serie_new = pd.Series([], dtype=np.float16)\n",
    "\n",
    "porcentagem_9_serie_new = pd.Series([], dtype=np.float16)\n",
    "index = 0\n",
    "\n",
    "count_casos = len(dados_finais)\n",
    "\n",
    "for index, value in numerosIBGE.items():\n",
    "    dtByIBGE = dados_finais[dados_finais['ibgeID'] == value]\n",
    "    \n",
    "    count_1 = len(dtByIBGE[dtByIBGE.SIND_DOWN == 1.0])\n",
    "    count_2 = len(dtByIBGE[dtByIBGE.SIND_DOWN == 0.0])\n",
    "    \n",
    "    porcentagem_1 = count_1/(count_casos/numeroCasosDivisao)*100\n",
    "    porcentagem_2 = count_2/(count_casos/numeroCasosDivisao)*100\n",
    "    porcentagem_9 = count_9/(count_casos/numeroCasosDivisao)*100\n",
    "    \n",
    "    porcentagem_1_serie_new[index]=porcentagem_1\n",
    "    porcentagem_2_serie_new[index]=porcentagem_2\n",
    "\n",
    "    index+=1\n",
    "    #print(f\"ibge: {value} total: {len(dtByIBGE.index)} sexo_F: {len(count_F)} sexo_M: {len(count_M)}\")\n",
    "    #print(f\"ibge: {value} paciente com down: {porcentagem_1} paciente sem down: {porcentagem_2}\")\n",
    "    \n",
    "dfPorcetagemAgrupadoCasos.insert(25, \"paciente com down porcentagem casos\", porcentagem_1_serie_new)\n",
    "dfPorcetagemAgrupadoCasos.insert(26, \"paciente sem down porcentagem casos\", porcentagem_2_serie_new)"
   ]
  },
  {
   "cell_type": "code",
   "execution_count": null,
   "metadata": {},
   "outputs": [],
   "source": [
    "dfPorcetagemAgrupadoCasos.head()"
   ]
  },
  {
   "cell_type": "code",
   "execution_count": null,
   "metadata": {},
   "outputs": [],
   "source": [
    "# porcentagem vacinado contra gripe por municipio\n",
    "\n",
    "porcentagem_1_serie_new = pd.Series([], dtype=np.float16)\n",
    "porcentagem_2_serie_new = pd.Series([], dtype=np.float16)\n",
    "\n",
    "porcentagem_9_serie_new = pd.Series([], dtype=np.float16)\n",
    "index = 0\n",
    "\n",
    "count_casos = len(dados_finais)\n",
    "\n",
    "for index, value in numerosIBGE.items():\n",
    "    dtByIBGE = dados_finais[dados_finais['ibgeID'] == value]\n",
    "    \n",
    "    count_1 = len(dtByIBGE[dtByIBGE.VACINA == 1.0])\n",
    "    count_2 = len(dtByIBGE[dtByIBGE.VACINA == 0.0])\n",
    "    \n",
    "    porcentagem_1 = count_1/(count_casos/numeroCasosDivisao)*100\n",
    "    porcentagem_2 = count_2/(count_casos/numeroCasosDivisao)*100\n",
    "    porcentagem_9 = count_9/(count_casos/numeroCasosDivisao)*100\n",
    "    \n",
    "    porcentagem_1_serie_new[index]=porcentagem_1\n",
    "    porcentagem_2_serie_new[index]=porcentagem_2\n",
    "\n",
    "    index+=1\n",
    "    #print(f\"ibge: {value} total: {len(dtByIBGE.index)} sexo_F: {len(count_F)} sexo_M: {len(count_M)}\")\n",
    "    #print(f\"ibge: {value} vacinado contra gripe sim: {porcentagem_1} vacinado contra gripe nao: {porcentagem_2}\")\n",
    "    \n",
    "dfPorcetagemAgrupadoCasos.insert(27, \"vacinado gripe sim porcentagem casos\", porcentagem_1_serie_new)\n",
    "dfPorcetagemAgrupadoCasos.insert(28, \"vacinado gripe nao porcentagem casos\", porcentagem_2_serie_new)"
   ]
  },
  {
   "cell_type": "code",
   "execution_count": null,
   "metadata": {},
   "outputs": [],
   "source": [
    "dfPorcetagemAgrupadoCasos.head(100)"
   ]
  },
  {
   "cell_type": "code",
   "execution_count": null,
   "metadata": {},
   "outputs": [],
   "source": [
    "# porcentagem vacinado contra gripe por municipio\n",
    "\n",
    "porcentagem_1_serie_new = pd.Series([], dtype=np.float16)\n",
    "porcentagem_2_serie_new = pd.Series([], dtype=np.float16)\n",
    "\n",
    "porcentagem_9_serie_new = pd.Series([], dtype=np.float16)\n",
    "index = 0\n",
    "\n",
    "count_casos = len(dados_finais)\n",
    "\n",
    "for index, value in numerosIBGE.items():\n",
    "    dtByIBGE = dados_finais[dados_finais['ibgeID'] == value]\n",
    "    \n",
    "    count_1 = len(dtByIBGE[dtByIBGE.HISTO_VGM == 1.0])\n",
    "    count_2 = len(dtByIBGE[dtByIBGE.HISTO_VGM == 0.0])\n",
    "    \n",
    "    porcentagem_1 = count_1/(count_casos/numeroCasosDivisao)*100\n",
    "    porcentagem_2 = count_2/(count_casos/numeroCasosDivisao)*100\n",
    "    porcentagem_9 = count_9/(count_casos/numeroCasosDivisao)*100\n",
    "    \n",
    "    porcentagem_1_serie_new[index]=porcentagem_1\n",
    "    porcentagem_2_serie_new[index]=porcentagem_2\n",
    "\n",
    "    index+=1\n",
    "    #print(f\"ibge: {value} total: {len(dtByIBGE.index)} sexo_F: {len(count_F)} sexo_M: {len(count_M)}\")\n",
    "    print(f\"ibge: {value} historico viagem 14 dias sim: {porcentagem_1} historico viagem 14 dias sim nao: {porcentagem_2}\")\n",
    "    \n",
    "dfPorcetagemAgrupadoCasos.insert(29, \"historico viagem 14 dias sim porcentagem casos\", porcentagem_1_serie_new)\n",
    "dfPorcetagemAgrupadoCasos.insert(30, \"historico viagem 14 dias nao porcentagem casos\", porcentagem_2_serie_new)"
   ]
  },
  {
   "cell_type": "code",
   "execution_count": null,
   "metadata": {},
   "outputs": [],
   "source": [
    "dfPorcetagemAgrupadoCasos.head(100)"
   ]
  },
  {
   "cell_type": "code",
   "execution_count": null,
   "metadata": {},
   "outputs": [],
   "source": [
    "dados_finais_com_agrupamentos_features = dados_finais.merge(dfPorcetagemAgrupadoCasos, how='inner', left_on = 'ibgeID', right_on = 'ibge')"
   ]
  },
  {
   "cell_type": "code",
   "execution_count": null,
   "metadata": {},
   "outputs": [],
   "source": [
    "dados_finais_com_agrupamentos_features.head()"
   ]
  },
  {
   "cell_type": "code",
   "execution_count": null,
   "metadata": {},
   "outputs": [],
   "source": [
    "#df_populacao_municipios_sc = pd.read_csv('populacao_municipios_sc.csv', \n",
    "#                 delimiter=';'\n",
    "#                )         "
   ]
  },
  {
   "cell_type": "code",
   "execution_count": null,
   "metadata": {},
   "outputs": [],
   "source": [
    "#df_populacao_municipios_sc.head()"
   ]
  },
  {
   "cell_type": "code",
   "execution_count": null,
   "metadata": {},
   "outputs": [],
   "source": [
    "#df_populacao_municipios_sc['ibge'] = df_populacao_municipios_sc['ibge'] // 10"
   ]
  },
  {
   "cell_type": "code",
   "execution_count": null,
   "metadata": {},
   "outputs": [],
   "source": [
    "#df_populacao_municipios_sc.head()"
   ]
  },
  {
   "cell_type": "code",
   "execution_count": null,
   "metadata": {},
   "outputs": [],
   "source": [
    "#df_populacao_municipios_sc.dtypes"
   ]
  },
  {
   "cell_type": "code",
   "execution_count": null,
   "metadata": {},
   "outputs": [],
   "source": [
    "#dfPorcetagemAgrupadoPopulacaoMunicipio = pd.DataFrame() \n",
    "#ibge_series_new = pd.Series([],dtype=pd.StringDtype()) \n",
    "#count=0\n",
    "#for index, value in numerosIBGE.items():\n",
    "    #print(f\"index: {index}, value: {value}\")\n",
    "    #ibge_series_new[count]=value\n",
    "    #count+=1\n",
    "    #print(ibge_new)\n",
    "#dfPorcetagemAgrupadoPopulacaoMunicipio.insert(0, \"ibge\", ibge_series_new) \n",
    "#dfPorcetagemAgrupadoPopulacaoMunicipio.head(293) "
   ]
  },
  {
   "cell_type": "code",
   "execution_count": null,
   "metadata": {},
   "outputs": [],
   "source": [
    "#porcentagem por sexo/casos\n",
    "#porcentagem_sexo_M_serie_new = pd.Series([], dtype=np.float16)\n",
    "#porcentagem_sexo_F_serie_new = pd.Series([], dtype=np.float16)\n",
    "#index_porcentagem_sexo_serie_new = 0\n",
    "\n",
    "#for index, value in numerosIBGE.items():\n",
    "\n",
    "#dtByIBGE = dados_finais[dados_finais['ibgeID'] == 420140]\n",
    "#dfPopulacaoByIBGE = df_populacao_municipios_sc[df_populacao_municipios_sc['ibge'] == 420140] \n",
    "#populacao = dfPopulacaoByIBGE.iloc[0].populacao\n",
    "#count_M = len(dtByIBGE[dtByIBGE.CS_SEXO == 'M'])\n",
    "#count_F = len(dtByIBGE[dtByIBGE.CS_SEXO == 'F'])\n",
    "\n",
    "#print(f\"count_M: {count_M} count_M: {count_F} populacao: {populacao}\")\n",
    "\n",
    "#porcentagem_M = (count_M/populacao)*100\n",
    "#porcentagem_F = (count_F/populacao)*100\n",
    "\n",
    "#porcentagem_sexo_M_serie_new[index_porcentagem_sexo_serie_new]=porcentagem_M\n",
    "#porcentagem_sexo_F_serie_new[index_porcentagem_sexo_serie_new]=porcentagem_F\n",
    "#index_porcentagem_sexo_serie_new+=1\n",
    "#print(f\"ibge: {value} porcentagem_M: {porcentagem_M} porcentagem_F: {porcentagem_F}\")\n",
    "    \n",
    "#dfPorcetagemAgrupadoPopulacaoMunicipio.insert(1, \"sexo masculino porcentagem populacao\", porcentagem_sexo_M_serie_new)\n",
    "#dfPorcetagemAgrupadoPopulacaoMunicipio.insert(2, \"sexo feminino porcentagem populacao\", porcentagem_sexo_F_serie_new)"
   ]
  },
  {
   "cell_type": "code",
   "execution_count": null,
   "metadata": {},
   "outputs": [],
   "source": [
    "dfPorcetagemAgrupadoPopulacaoMunicipio.head(30)"
   ]
  },
  {
   "cell_type": "code",
   "execution_count": null,
   "metadata": {},
   "outputs": [],
   "source": [
    "#removendo colunas que não estão agrupadas\n",
    "\n",
    "dados_finais_com_agrupamentos_features = dados_finais_com_agrupamentos_features.drop(\n",
    "    ['deaths', \n",
    "     'totalCases', \n",
    "     'deaths', \n",
    "     'totalCases', \n",
    "     'deaths_per_100k_inhabitants', \n",
    "     'deaths_by_totalCases', \n",
    "     'SG_UF_NOT',\n",
    "'ID_REGIONA',\n",
    "'ID_MUNICIP',\n",
    "'CO_MUN_NOT',\n",
    "'CS_SEXO',\n",
    "'NU_IDADE_N',\n",
    "'CS_RACA',\n",
    "'CS_ESCOL_N',\n",
    "'SG_UF',\n",
    "'ID_RG_RESI',\n",
    "'ID_MN_RESI',\n",
    "'CO_MUN_RES',\n",
    "'CS_ZONA',\n",
    "'AVE_SUINO',\n",
    "'FEBRE',\n",
    "'TOSSE',\n",
    "'GARGANTA',\n",
    "'DISPNEIA',\n",
    "'DESC_RESP',\n",
    "'SATURACAO',\n",
    "'DIARREIA',\n",
    "'VOMITO',\n",
    "'OUTRO_SIN',\n",
    "'PUERPERA',\n",
    "'FATOR_RISC',\n",
    "'CARDIOPATI',\n",
    "'HEMATOLOGI',\n",
    "'SIND_DOWN',\n",
    "'HEPATICA',\n",
    "'ASMA',\n",
    "'DIABETES',\n",
    "'NEUROLOGIC',\n",
    "'PNEUMOPATI',\n",
    "'IMUNODEPRE',\n",
    "'RENAL',\n",
    "'OBESIDADE',\n",
    "'OUT_MORBI',\n",
    "'VACINA',\n",
    "'ANTIVIRAL',\n",
    "'HOSPITAL',\n",
    "'SG_UF_INTE',\n",
    "'ID_RG_INTE',\n",
    "'ID_MN_INTE',\n",
    "'CO_MU_INTE',\n",
    "'UTI',\n",
    "'SUPORT_VEN',\n",
    "'RAIOX_RES',\n",
    "'EVOLUCAO',\n",
    "'HISTO_VGM',\n",
    "'DOR_ABD',\n",
    "'FADIGA',\n",
    "'PERD_OLFT',\n",
    "'PERD_PALA',\n",
    "'TOMO_RES',\n",
    "'ibge_x',\n",
    "'ibge_y'\n",
    "], axis=1)"
   ]
  },
  {
   "cell_type": "code",
   "execution_count": null,
   "metadata": {},
   "outputs": [],
   "source": [
    "dados_finais_com_agrupamentos_features.head()"
   ]
  },
  {
   "cell_type": "code",
   "execution_count": null,
   "metadata": {},
   "outputs": [],
   "source": [
    "dados_finais_com_agrupamentos_features.duplicated().any()"
   ]
  },
  {
   "cell_type": "code",
   "execution_count": null,
   "metadata": {},
   "outputs": [],
   "source": [
    "dados_finais_com_agrupamentos_features.shape"
   ]
  },
  {
   "cell_type": "code",
   "execution_count": null,
   "metadata": {},
   "outputs": [],
   "source": [
    "dados_finais_com_agrupamentos_features = dados_finais_com_agrupamentos_features.drop_duplicates()"
   ]
  },
  {
   "cell_type": "code",
   "execution_count": null,
   "metadata": {},
   "outputs": [],
   "source": [
    "dados_finais_com_agrupamentos_features.shape"
   ]
  },
  {
   "cell_type": "code",
   "execution_count": null,
   "metadata": {},
   "outputs": [],
   "source": [
    "dados_finais_com_agrupamentos_features.head(116)"
   ]
  },
  {
   "cell_type": "code",
   "execution_count": null,
   "metadata": {},
   "outputs": [],
   "source": [
    "dados_finais_com_agrupamentos_features.to_csv('dados_normalizados_modelo.csv', index=False, decimal=',',float_format='%.3f')"
   ]
  },
  {
   "cell_type": "code",
   "execution_count": null,
   "metadata": {},
   "outputs": [],
   "source": [
    "dados_finais_com_agrupamentos_features.to_csv('dados_normalizados_modelo-test-float.csv', index=False,float_format='%.3f')"
   ]
  },
  {
   "cell_type": "code",
   "execution_count": null,
   "metadata": {},
   "outputs": [],
   "source": [
    "dados_finais_com_agrupamentos_features.head()"
   ]
  },
  {
   "cell_type": "code",
   "execution_count": null,
   "metadata": {},
   "outputs": [],
   "source": []
  }
 ],
 "metadata": {
  "kernelspec": {
   "display_name": "Python 3",
   "language": "python",
   "name": "python3"
  },
  "language_info": {
   "codemirror_mode": {
    "name": "ipython",
    "version": 3
   },
   "file_extension": ".py",
   "mimetype": "text/x-python",
   "name": "python",
   "nbconvert_exporter": "python",
   "pygments_lexer": "ipython3",
   "version": "3.7.5"
  }
 },
 "nbformat": 4,
 "nbformat_minor": 4
}
